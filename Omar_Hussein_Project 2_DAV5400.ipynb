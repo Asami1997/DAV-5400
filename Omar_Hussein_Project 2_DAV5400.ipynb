{
 "cells": [
  {
   "cell_type": "markdown",
   "metadata": {},
   "source": [
    "# Project 2 : Heart Disease\n",
    "### Group Memebers:\n",
    "1. Julian Ruggiero\n",
    "2. Omar M. Hussein"
   ]
  },
  {
   "cell_type": "markdown",
   "metadata": {},
   "source": [
    "### Part 1: Introduction\n",
    "\n",
    "we will work with a dataset containing information regarding patients with some of which are facing a heart disease while others don't.\n",
    "According to the World Health Organization, of the 56.9 million deaths worldwide in 2016 ischaemic heart disease and stroke are the world’s biggest killers, accounting for a combined 15.2 million deaths in 2016. These diseases have remained the leading causes of death globally in the last 15 years [1].\n",
    "\n",
    "<img src=\"Data/Images/Top 10 global death causes.png\"/>\n",
    "\n",
    "\n",
    "To learn how to prevent heart disease we must first learn to reliably detect it and in this project, we focus on understanding patients’ data and heart disease diagnose results.\n",
    "\n",
    "### - Research question(s)\n",
    "\n",
    "##### Who are the people that are susceptible to heart diseases the most? and How do men and women differ in that regard?\n",
    "\n",
    "--------------------------------------\n",
    "\n",
    "\n"
   ]
  },
  {
   "cell_type": "markdown",
   "metadata": {},
   "source": [
    "### Part 2: Data Summary\n",
    "\n",
    "We acquired a dataset that is used in a machine learning competition where the purpose is to predict if a patient will face or not a heart-based disease on existing data. The link to the competition is below [2].\n",
    "\n",
    "And the dataset information and data folder is in the following link:[3]\n",
    "\n",
    "\n",
    "The dataset contains 14 attributes, including the last field with a value related to the Absence (1) or presence (2) of heart disease. It contains 270 records or instances.\n",
    "\n",
    "#### Data Dictionary:\n",
    "\n",
    "1. age: Age of each of the patients\n",
    "    - Categorical ordinal.\n",
    "    \n",
    "2. sex (0: female, 1: male): Gender of the patient\n",
    "    - Categorical nominal.\n",
    "    \n",
    "3. chest pain type (1: typical angina, 2: atypical angina, 3: non-anginal pain, 4: asymptomatic)\n",
    "    - Categorical nominal.\n",
    "    - More on chest pain types \n",
    "        - typical angina: Typical angina was defined as “the presence of substernal chest pain or discomfort that was provoked    by exertion or emotional stress and was relieved by rest and/or nitroglycerin[5]\n",
    "        - atypical angina: Atypical angina implies that the complaint is actually angina pectoris, though not conforming in every way to the expected or classic description; noncardiac chest pain implies confidence that the problem doesn't rest with the heart,[6]\n",
    "        - non-anginal pain: The chest pain does not relate to angina in any way but it’s present[7]\n",
    "        - asymptomatic: means neither causing nor exhibiting symptoms of the disease.[8]\n",
    "    \n",
    "    \n",
    "4. resting_blood_pressure: Optimal blood pressure typically is defined as 120 mm Hg systolic — which is the pressure as your heart beats — over 80 mm Hg diastolic — which is the pressure as your heart relaxes [9]\n",
    "    - Continuous numeric.\n",
    "    \n",
    "5. serum_cholesterol in mg/dl: cholesterol level is a measurement of certain elements in the blood, including the amount of high- and low-density lipoprotein cholesterol  [10]\n",
    "    - Continuous numeric.\n",
    "    \n",
    "6. fasting blood sugar > 120 mg/dl: A fasting blood sugar level less than 100 mg/dL (5.6 mmol/L) is normal. A fasting blood sugar level from 100 to 125 mg/dL (5.6 to 6.9 mmol/L) is considered prediabetes. If it's 126 mg/dL (7 mmol/L) or higher on two separate tests, you have diabetes[11]\n",
    "    - Categorical nominal.\n",
    "    \n",
    "7. resting electrocardiographic results (0: normal, 1: having ST-T wave abnormality, T wave inversions and/or ST elevation or depression of > 0.05 mV, 2: showing probable or definite left ventricular hypertrophy by Estes' criteria): [12]\n",
    "    - Categorical nominal.\n",
    "    \n",
    "8. maximum heart rate achieved (beats per minute)[13]\n",
    "    - Continuous numeric.\n",
    "    \n",
    "9. exercise induced angina (exercise-induced chest pain, 0: False, 1: True) Angina is a type of chest pain caused by reduced blood flow to the heart. Angina (an-JIE-nuh or AN-juh-nuh) is a symptom of coronary artery disease.[14]\n",
    "    - Categorical nominal.\n",
    "    \n",
    "10. oldpeak (mm)\n",
    "    - Continuous numeric.\n",
    "    \n",
    "     ST depression induced by exercise relative to rest [4]. This refers to a finding on an electrocardiogram, wherein the trace in the ST segment is abnormally low below the baseline. It is often a sign of myocardial ischemia, of which coronary insufficiency is a major cause. Example in the image below.\n",
    "<img src=\"Data/Images/ST Depression.png\"/>\n",
    "\n",
    "11. the slope of the peak exercise ST  (1: upsloping, 2: flat, 3: downsloping)\n",
    "    - Categorical ordinal.\n",
    "    \n",
    "12. number of major vessels (0-3) colored by fluoroscopy\n",
    "    - Categorical nominal.\n",
    "    \n",
    "13. thal: results of thallium stress test measuring blood flow to the heart (3 = normal; 6 = fixed defect; 7 = reversible defect)\n",
    "    - Categorical ordinal.\n",
    "    \n",
    "14. Absence (1) or presence (2) of heart disease\n",
    "    - Categorical nominal.\n",
    "    \n",
    "\n",
    "\n"
   ]
  },
  {
   "cell_type": "markdown",
   "metadata": {},
   "source": [
    "### Part 3: Exploratory Data Analysis (EDA)"
   ]
  },
  {
   "cell_type": "markdown",
   "metadata": {},
   "source": [
    "First we will read the data and provide some transformations to make it easier to read and understand. The dataset contains spaces as the delimeter and no column names, these will be added based on the attributes listed above."
   ]
  },
  {
   "cell_type": "code",
   "execution_count": 1,
   "metadata": {},
   "outputs": [],
   "source": [
    "# Importing all the necassary packages\n",
    "import matplotlib.pyplot as plt\n",
    "import pandas as pd\n",
    "import numpy as np\n",
    "import seaborn as sns"
   ]
  },
  {
   "cell_type": "markdown",
   "metadata": {},
   "source": [
    "%matplotlib inline"
   ]
  },
  {
   "cell_type": "code",
   "execution_count": 2,
   "metadata": {
    "scrolled": true
   },
   "outputs": [
    {
     "data": {
      "text/html": [
       "<div>\n",
       "<style scoped>\n",
       "    .dataframe tbody tr th:only-of-type {\n",
       "        vertical-align: middle;\n",
       "    }\n",
       "\n",
       "    .dataframe tbody tr th {\n",
       "        vertical-align: top;\n",
       "    }\n",
       "\n",
       "    .dataframe thead th {\n",
       "        text-align: right;\n",
       "    }\n",
       "</style>\n",
       "<table border=\"1\" class=\"dataframe\">\n",
       "  <thead>\n",
       "    <tr style=\"text-align: right;\">\n",
       "      <th></th>\n",
       "      <th>0</th>\n",
       "      <th>1</th>\n",
       "      <th>2</th>\n",
       "      <th>3</th>\n",
       "      <th>4</th>\n",
       "      <th>5</th>\n",
       "      <th>6</th>\n",
       "      <th>7</th>\n",
       "      <th>8</th>\n",
       "      <th>9</th>\n",
       "      <th>10</th>\n",
       "      <th>11</th>\n",
       "      <th>12</th>\n",
       "      <th>13</th>\n",
       "    </tr>\n",
       "  </thead>\n",
       "  <tbody>\n",
       "    <tr>\n",
       "      <th>0</th>\n",
       "      <td>70.0</td>\n",
       "      <td>1.0</td>\n",
       "      <td>4.0</td>\n",
       "      <td>130.0</td>\n",
       "      <td>322.0</td>\n",
       "      <td>0.0</td>\n",
       "      <td>2.0</td>\n",
       "      <td>109.0</td>\n",
       "      <td>0.0</td>\n",
       "      <td>2.4</td>\n",
       "      <td>2.0</td>\n",
       "      <td>3.0</td>\n",
       "      <td>3.0</td>\n",
       "      <td>2</td>\n",
       "    </tr>\n",
       "    <tr>\n",
       "      <th>1</th>\n",
       "      <td>67.0</td>\n",
       "      <td>0.0</td>\n",
       "      <td>3.0</td>\n",
       "      <td>115.0</td>\n",
       "      <td>564.0</td>\n",
       "      <td>0.0</td>\n",
       "      <td>2.0</td>\n",
       "      <td>160.0</td>\n",
       "      <td>0.0</td>\n",
       "      <td>1.6</td>\n",
       "      <td>2.0</td>\n",
       "      <td>0.0</td>\n",
       "      <td>7.0</td>\n",
       "      <td>1</td>\n",
       "    </tr>\n",
       "    <tr>\n",
       "      <th>2</th>\n",
       "      <td>57.0</td>\n",
       "      <td>1.0</td>\n",
       "      <td>2.0</td>\n",
       "      <td>124.0</td>\n",
       "      <td>261.0</td>\n",
       "      <td>0.0</td>\n",
       "      <td>0.0</td>\n",
       "      <td>141.0</td>\n",
       "      <td>0.0</td>\n",
       "      <td>0.3</td>\n",
       "      <td>1.0</td>\n",
       "      <td>0.0</td>\n",
       "      <td>7.0</td>\n",
       "      <td>2</td>\n",
       "    </tr>\n",
       "    <tr>\n",
       "      <th>3</th>\n",
       "      <td>64.0</td>\n",
       "      <td>1.0</td>\n",
       "      <td>4.0</td>\n",
       "      <td>128.0</td>\n",
       "      <td>263.0</td>\n",
       "      <td>0.0</td>\n",
       "      <td>0.0</td>\n",
       "      <td>105.0</td>\n",
       "      <td>1.0</td>\n",
       "      <td>0.2</td>\n",
       "      <td>2.0</td>\n",
       "      <td>1.0</td>\n",
       "      <td>7.0</td>\n",
       "      <td>1</td>\n",
       "    </tr>\n",
       "    <tr>\n",
       "      <th>4</th>\n",
       "      <td>74.0</td>\n",
       "      <td>0.0</td>\n",
       "      <td>2.0</td>\n",
       "      <td>120.0</td>\n",
       "      <td>269.0</td>\n",
       "      <td>0.0</td>\n",
       "      <td>2.0</td>\n",
       "      <td>121.0</td>\n",
       "      <td>1.0</td>\n",
       "      <td>0.2</td>\n",
       "      <td>1.0</td>\n",
       "      <td>1.0</td>\n",
       "      <td>3.0</td>\n",
       "      <td>1</td>\n",
       "    </tr>\n",
       "  </tbody>\n",
       "</table>\n",
       "</div>"
      ],
      "text/plain": [
       "     0    1    2      3      4    5    6      7    8    9    10   11   12  13\n",
       "0  70.0  1.0  4.0  130.0  322.0  0.0  2.0  109.0  0.0  2.4  2.0  3.0  3.0   2\n",
       "1  67.0  0.0  3.0  115.0  564.0  0.0  2.0  160.0  0.0  1.6  2.0  0.0  7.0   1\n",
       "2  57.0  1.0  2.0  124.0  261.0  0.0  0.0  141.0  0.0  0.3  1.0  0.0  7.0   2\n",
       "3  64.0  1.0  4.0  128.0  263.0  0.0  0.0  105.0  1.0  0.2  2.0  1.0  7.0   1\n",
       "4  74.0  0.0  2.0  120.0  269.0  0.0  2.0  121.0  1.0  0.2  1.0  1.0  3.0   1"
      ]
     },
     "execution_count": 2,
     "metadata": {},
     "output_type": "execute_result"
    }
   ],
   "source": [
    "# delimeter=' ' is necessary because the file is delimited by spaces instead of colons\n",
    "# header=None to avoid losing the first row when assigning columns\n",
    "url = 'https://raw.githubusercontent.com/gitjuli/DAV-5400/master/Data/heart.dat'\n",
    "#url = \"https://raw.githubusercontent.com/OMS1996/DAV-5400/master/Data/heart.dat\"\n",
    "#Read the file into the data frame\n",
    "df=pd.read_csv(url, delimiter=' ',header=None)\n",
    "# Viewing the first 5 rows\n",
    "df.head()"
   ]
  },
  {
   "cell_type": "code",
   "execution_count": 3,
   "metadata": {
    "scrolled": true
   },
   "outputs": [
    {
     "data": {
      "text/html": [
       "<div>\n",
       "<style scoped>\n",
       "    .dataframe tbody tr th:only-of-type {\n",
       "        vertical-align: middle;\n",
       "    }\n",
       "\n",
       "    .dataframe tbody tr th {\n",
       "        vertical-align: top;\n",
       "    }\n",
       "\n",
       "    .dataframe thead th {\n",
       "        text-align: right;\n",
       "    }\n",
       "</style>\n",
       "<table border=\"1\" class=\"dataframe\">\n",
       "  <thead>\n",
       "    <tr style=\"text-align: right;\">\n",
       "      <th></th>\n",
       "      <th>age</th>\n",
       "      <th>sex</th>\n",
       "      <th>chest_pain_tp</th>\n",
       "      <th>rest_bld_press</th>\n",
       "      <th>cholest</th>\n",
       "      <th>f_sug_ovr_120</th>\n",
       "      <th>rest_electro</th>\n",
       "      <th>max_heart_rate</th>\n",
       "      <th>ex_ind_chest_pain</th>\n",
       "      <th>oldpeak</th>\n",
       "      <th>peak_slope</th>\n",
       "      <th>vessels</th>\n",
       "      <th>thal</th>\n",
       "      <th>disease</th>\n",
       "    </tr>\n",
       "  </thead>\n",
       "  <tbody>\n",
       "    <tr>\n",
       "      <th>0</th>\n",
       "      <td>70.0</td>\n",
       "      <td>1.0</td>\n",
       "      <td>4.0</td>\n",
       "      <td>130.0</td>\n",
       "      <td>322.0</td>\n",
       "      <td>0.0</td>\n",
       "      <td>2.0</td>\n",
       "      <td>109.0</td>\n",
       "      <td>0.0</td>\n",
       "      <td>2.4</td>\n",
       "      <td>2.0</td>\n",
       "      <td>3.0</td>\n",
       "      <td>3.0</td>\n",
       "      <td>2</td>\n",
       "    </tr>\n",
       "    <tr>\n",
       "      <th>1</th>\n",
       "      <td>67.0</td>\n",
       "      <td>0.0</td>\n",
       "      <td>3.0</td>\n",
       "      <td>115.0</td>\n",
       "      <td>564.0</td>\n",
       "      <td>0.0</td>\n",
       "      <td>2.0</td>\n",
       "      <td>160.0</td>\n",
       "      <td>0.0</td>\n",
       "      <td>1.6</td>\n",
       "      <td>2.0</td>\n",
       "      <td>0.0</td>\n",
       "      <td>7.0</td>\n",
       "      <td>1</td>\n",
       "    </tr>\n",
       "    <tr>\n",
       "      <th>2</th>\n",
       "      <td>57.0</td>\n",
       "      <td>1.0</td>\n",
       "      <td>2.0</td>\n",
       "      <td>124.0</td>\n",
       "      <td>261.0</td>\n",
       "      <td>0.0</td>\n",
       "      <td>0.0</td>\n",
       "      <td>141.0</td>\n",
       "      <td>0.0</td>\n",
       "      <td>0.3</td>\n",
       "      <td>1.0</td>\n",
       "      <td>0.0</td>\n",
       "      <td>7.0</td>\n",
       "      <td>2</td>\n",
       "    </tr>\n",
       "    <tr>\n",
       "      <th>3</th>\n",
       "      <td>64.0</td>\n",
       "      <td>1.0</td>\n",
       "      <td>4.0</td>\n",
       "      <td>128.0</td>\n",
       "      <td>263.0</td>\n",
       "      <td>0.0</td>\n",
       "      <td>0.0</td>\n",
       "      <td>105.0</td>\n",
       "      <td>1.0</td>\n",
       "      <td>0.2</td>\n",
       "      <td>2.0</td>\n",
       "      <td>1.0</td>\n",
       "      <td>7.0</td>\n",
       "      <td>1</td>\n",
       "    </tr>\n",
       "    <tr>\n",
       "      <th>4</th>\n",
       "      <td>74.0</td>\n",
       "      <td>0.0</td>\n",
       "      <td>2.0</td>\n",
       "      <td>120.0</td>\n",
       "      <td>269.0</td>\n",
       "      <td>0.0</td>\n",
       "      <td>2.0</td>\n",
       "      <td>121.0</td>\n",
       "      <td>1.0</td>\n",
       "      <td>0.2</td>\n",
       "      <td>1.0</td>\n",
       "      <td>1.0</td>\n",
       "      <td>3.0</td>\n",
       "      <td>1</td>\n",
       "    </tr>\n",
       "  </tbody>\n",
       "</table>\n",
       "</div>"
      ],
      "text/plain": [
       "    age  sex  chest_pain_tp  rest_bld_press  cholest  f_sug_ovr_120  \\\n",
       "0  70.0  1.0            4.0           130.0    322.0            0.0   \n",
       "1  67.0  0.0            3.0           115.0    564.0            0.0   \n",
       "2  57.0  1.0            2.0           124.0    261.0            0.0   \n",
       "3  64.0  1.0            4.0           128.0    263.0            0.0   \n",
       "4  74.0  0.0            2.0           120.0    269.0            0.0   \n",
       "\n",
       "   rest_electro  max_heart_rate  ex_ind_chest_pain  oldpeak  peak_slope  \\\n",
       "0           2.0           109.0                0.0      2.4         2.0   \n",
       "1           2.0           160.0                0.0      1.6         2.0   \n",
       "2           0.0           141.0                0.0      0.3         1.0   \n",
       "3           0.0           105.0                1.0      0.2         2.0   \n",
       "4           2.0           121.0                1.0      0.2         1.0   \n",
       "\n",
       "   vessels  thal  disease  \n",
       "0      3.0   3.0        2  \n",
       "1      0.0   7.0        1  \n",
       "2      0.0   7.0        2  \n",
       "3      1.0   7.0        1  \n",
       "4      1.0   3.0        1  "
      ]
     },
     "execution_count": 3,
     "metadata": {},
     "output_type": "execute_result"
    }
   ],
   "source": [
    "#creating columns based on dataset information\n",
    "df.columns=['age','sex','chest_pain_tp', 'rest_bld_press','cholest',\n",
    "           'f_sug_ovr_120','rest_electro', 'max_heart_rate', \n",
    "            'ex_ind_chest_pain','oldpeak','peak_slope', 'vessels',\n",
    "           'thal','disease']\n",
    "# Viewing the first 5 rows\n",
    "df.head(5)"
   ]
  },
  {
   "cell_type": "markdown",
   "metadata": {},
   "source": [
    "We will create heatmaps for woman and men with disease using seaborn"
   ]
  },
  {
   "cell_type": "code",
   "execution_count": 4,
   "metadata": {},
   "outputs": [],
   "source": [
    "# Split disease and not diseased\n",
    "disease_yes=df[df.iloc[:,13]==2]# Yes\n",
    "disease_no=df[df.iloc[:,13]==1]# disease = No\n",
    "\n",
    "# split to male and female\n",
    "disease_yes_male=disease_yes[disease_yes.iloc[:,1]==1] #male with disease\n",
    "disease_yes_female=disease_yes[disease_yes.iloc[:,1]==0] #female with disease\n",
    "\n",
    "# split to male and female\n",
    "disease_no_male=disease_no[disease_no.iloc[:,1]==1]\n",
    "disease_no_female=disease_no[disease_no.iloc[:,1]==0]\n",
    "\n",
    "del disease_yes_male['disease']\n",
    "del disease_yes_male['sex']\n",
    "del disease_yes_female['disease']\n",
    "del disease_yes_female['sex']"
   ]
  },
  {
   "cell_type": "markdown",
   "metadata": {},
   "source": [
    "The following is a correlation matrix for men having a disease"
   ]
  },
  {
   "cell_type": "code",
   "execution_count": 5,
   "metadata": {
    "scrolled": false
   },
   "outputs": [
    {
     "data": {
      "text/html": [
       "<style  type=\"text/css\" >\n",
       "    #T_25d204cc_f37d_11e9_a5d1_f0038c09fbe8row0_col0 {\n",
       "            background-color:  #da3a41;\n",
       "            color:  #f1f1f1;\n",
       "        }    #T_25d204cc_f37d_11e9_a5d1_f0038c09fbe8row0_col1 {\n",
       "            background-color:  #7aa7b5;\n",
       "            color:  #000000;\n",
       "        }    #T_25d204cc_f37d_11e9_a5d1_f0038c09fbe8row0_col2 {\n",
       "            background-color:  #bdd4db;\n",
       "            color:  #000000;\n",
       "        }    #T_25d204cc_f37d_11e9_a5d1_f0038c09fbe8row0_col3 {\n",
       "            background-color:  #a9c7d0;\n",
       "            color:  #000000;\n",
       "        }    #T_25d204cc_f37d_11e9_a5d1_f0038c09fbe8row0_col4 {\n",
       "            background-color:  #7eaab7;\n",
       "            color:  #000000;\n",
       "        }    #T_25d204cc_f37d_11e9_a5d1_f0038c09fbe8row0_col5 {\n",
       "            background-color:  #9dbfc9;\n",
       "            color:  #000000;\n",
       "        }    #T_25d204cc_f37d_11e9_a5d1_f0038c09fbe8row0_col6 {\n",
       "            background-color:  #76a5b3;\n",
       "            color:  #000000;\n",
       "        }    #T_25d204cc_f37d_11e9_a5d1_f0038c09fbe8row0_col7 {\n",
       "            background-color:  #aac8d1;\n",
       "            color:  #000000;\n",
       "        }    #T_25d204cc_f37d_11e9_a5d1_f0038c09fbe8row0_col8 {\n",
       "            background-color:  #b0cbd4;\n",
       "            color:  #000000;\n",
       "        }    #T_25d204cc_f37d_11e9_a5d1_f0038c09fbe8row0_col9 {\n",
       "            background-color:  #cbdee4;\n",
       "            color:  #000000;\n",
       "        }    #T_25d204cc_f37d_11e9_a5d1_f0038c09fbe8row0_col10 {\n",
       "            background-color:  #d7e6ea;\n",
       "            color:  #000000;\n",
       "        }    #T_25d204cc_f37d_11e9_a5d1_f0038c09fbe8row0_col11 {\n",
       "            background-color:  #3f7f93;\n",
       "            color:  #000000;\n",
       "        }    #T_25d204cc_f37d_11e9_a5d1_f0038c09fbe8row1_col0 {\n",
       "            background-color:  #6498a8;\n",
       "            color:  #000000;\n",
       "        }    #T_25d204cc_f37d_11e9_a5d1_f0038c09fbe8row1_col1 {\n",
       "            background-color:  #da3a41;\n",
       "            color:  #f1f1f1;\n",
       "        }    #T_25d204cc_f37d_11e9_a5d1_f0038c09fbe8row1_col2 {\n",
       "            background-color:  #3f7f93;\n",
       "            color:  #000000;\n",
       "        }    #T_25d204cc_f37d_11e9_a5d1_f0038c09fbe8row1_col3 {\n",
       "            background-color:  #538d9e;\n",
       "            color:  #000000;\n",
       "        }    #T_25d204cc_f37d_11e9_a5d1_f0038c09fbe8row1_col4 {\n",
       "            background-color:  #448396;\n",
       "            color:  #000000;\n",
       "        }    #T_25d204cc_f37d_11e9_a5d1_f0038c09fbe8row1_col5 {\n",
       "            background-color:  #8cb3bf;\n",
       "            color:  #000000;\n",
       "        }    #T_25d204cc_f37d_11e9_a5d1_f0038c09fbe8row1_col6 {\n",
       "            background-color:  #6196a7;\n",
       "            color:  #000000;\n",
       "        }    #T_25d204cc_f37d_11e9_a5d1_f0038c09fbe8row1_col7 {\n",
       "            background-color:  #fae3e4;\n",
       "            color:  #000000;\n",
       "        }    #T_25d204cc_f37d_11e9_a5d1_f0038c09fbe8row1_col8 {\n",
       "            background-color:  #9dbfc9;\n",
       "            color:  #000000;\n",
       "        }    #T_25d204cc_f37d_11e9_a5d1_f0038c09fbe8row1_col9 {\n",
       "            background-color:  #a8c6cf;\n",
       "            color:  #000000;\n",
       "        }    #T_25d204cc_f37d_11e9_a5d1_f0038c09fbe8row1_col10 {\n",
       "            background-color:  #90b6c2;\n",
       "            color:  #000000;\n",
       "        }    #T_25d204cc_f37d_11e9_a5d1_f0038c09fbe8row1_col11 {\n",
       "            background-color:  #a8c6cf;\n",
       "            color:  #000000;\n",
       "        }    #T_25d204cc_f37d_11e9_a5d1_f0038c09fbe8row2_col0 {\n",
       "            background-color:  #b9d1d9;\n",
       "            color:  #000000;\n",
       "        }    #T_25d204cc_f37d_11e9_a5d1_f0038c09fbe8row2_col1 {\n",
       "            background-color:  #508b9d;\n",
       "            color:  #000000;\n",
       "        }    #T_25d204cc_f37d_11e9_a5d1_f0038c09fbe8row2_col2 {\n",
       "            background-color:  #da3a41;\n",
       "            color:  #f1f1f1;\n",
       "        }    #T_25d204cc_f37d_11e9_a5d1_f0038c09fbe8row2_col3 {\n",
       "            background-color:  #bad2da;\n",
       "            color:  #000000;\n",
       "        }    #T_25d204cc_f37d_11e9_a5d1_f0038c09fbe8row2_col4 {\n",
       "            background-color:  #74a3b1;\n",
       "            color:  #000000;\n",
       "        }    #T_25d204cc_f37d_11e9_a5d1_f0038c09fbe8row2_col5 {\n",
       "            background-color:  #8bb3bf;\n",
       "            color:  #000000;\n",
       "        }    #T_25d204cc_f37d_11e9_a5d1_f0038c09fbe8row2_col6 {\n",
       "            background-color:  #aecbd3;\n",
       "            color:  #000000;\n",
       "        }    #T_25d204cc_f37d_11e9_a5d1_f0038c09fbe8row2_col7 {\n",
       "            background-color:  #aecbd3;\n",
       "            color:  #000000;\n",
       "        }    #T_25d204cc_f37d_11e9_a5d1_f0038c09fbe8row2_col8 {\n",
       "            background-color:  #a9c7d0;\n",
       "            color:  #000000;\n",
       "        }    #T_25d204cc_f37d_11e9_a5d1_f0038c09fbe8row2_col9 {\n",
       "            background-color:  #cee0e5;\n",
       "            color:  #000000;\n",
       "        }    #T_25d204cc_f37d_11e9_a5d1_f0038c09fbe8row2_col10 {\n",
       "            background-color:  #5a91a2;\n",
       "            color:  #000000;\n",
       "        }    #T_25d204cc_f37d_11e9_a5d1_f0038c09fbe8row2_col11 {\n",
       "            background-color:  #adcad2;\n",
       "            color:  #000000;\n",
       "        }    #T_25d204cc_f37d_11e9_a5d1_f0038c09fbe8row3_col0 {\n",
       "            background-color:  #bbd3db;\n",
       "            color:  #000000;\n",
       "        }    #T_25d204cc_f37d_11e9_a5d1_f0038c09fbe8row3_col1 {\n",
       "            background-color:  #81acb9;\n",
       "            color:  #000000;\n",
       "        }    #T_25d204cc_f37d_11e9_a5d1_f0038c09fbe8row3_col2 {\n",
       "            background-color:  #cfe1e6;\n",
       "            color:  #000000;\n",
       "        }    #T_25d204cc_f37d_11e9_a5d1_f0038c09fbe8row3_col3 {\n",
       "            background-color:  #da3a41;\n",
       "            color:  #f1f1f1;\n",
       "        }    #T_25d204cc_f37d_11e9_a5d1_f0038c09fbe8row3_col4 {\n",
       "            background-color:  #71a1b0;\n",
       "            color:  #000000;\n",
       "        }    #T_25d204cc_f37d_11e9_a5d1_f0038c09fbe8row3_col5 {\n",
       "            background-color:  #81acb9;\n",
       "            color:  #000000;\n",
       "        }    #T_25d204cc_f37d_11e9_a5d1_f0038c09fbe8row3_col6 {\n",
       "            background-color:  #aac8d1;\n",
       "            color:  #000000;\n",
       "        }    #T_25d204cc_f37d_11e9_a5d1_f0038c09fbe8row3_col7 {\n",
       "            background-color:  #bfd6dd;\n",
       "            color:  #000000;\n",
       "        }    #T_25d204cc_f37d_11e9_a5d1_f0038c09fbe8row3_col8 {\n",
       "            background-color:  #6e9fae;\n",
       "            color:  #000000;\n",
       "        }    #T_25d204cc_f37d_11e9_a5d1_f0038c09fbe8row3_col9 {\n",
       "            background-color:  #a8c6cf;\n",
       "            color:  #000000;\n",
       "        }    #T_25d204cc_f37d_11e9_a5d1_f0038c09fbe8row3_col10 {\n",
       "            background-color:  #93b8c3;\n",
       "            color:  #000000;\n",
       "        }    #T_25d204cc_f37d_11e9_a5d1_f0038c09fbe8row3_col11 {\n",
       "            background-color:  #70a0af;\n",
       "            color:  #000000;\n",
       "        }    #T_25d204cc_f37d_11e9_a5d1_f0038c09fbe8row4_col0 {\n",
       "            background-color:  #a1c2cc;\n",
       "            color:  #000000;\n",
       "        }    #T_25d204cc_f37d_11e9_a5d1_f0038c09fbe8row4_col1 {\n",
       "            background-color:  #86afbc;\n",
       "            color:  #000000;\n",
       "        }    #T_25d204cc_f37d_11e9_a5d1_f0038c09fbe8row4_col2 {\n",
       "            background-color:  #9fc0ca;\n",
       "            color:  #000000;\n",
       "        }    #T_25d204cc_f37d_11e9_a5d1_f0038c09fbe8row4_col3 {\n",
       "            background-color:  #82adba;\n",
       "            color:  #000000;\n",
       "        }    #T_25d204cc_f37d_11e9_a5d1_f0038c09fbe8row4_col4 {\n",
       "            background-color:  #da3a41;\n",
       "            color:  #f1f1f1;\n",
       "        }    #T_25d204cc_f37d_11e9_a5d1_f0038c09fbe8row4_col5 {\n",
       "            background-color:  #93b8c3;\n",
       "            color:  #000000;\n",
       "        }    #T_25d204cc_f37d_11e9_a5d1_f0038c09fbe8row4_col6 {\n",
       "            background-color:  #c4d9e0;\n",
       "            color:  #000000;\n",
       "        }    #T_25d204cc_f37d_11e9_a5d1_f0038c09fbe8row4_col7 {\n",
       "            background-color:  #b6d0d7;\n",
       "            color:  #000000;\n",
       "        }    #T_25d204cc_f37d_11e9_a5d1_f0038c09fbe8row4_col8 {\n",
       "            background-color:  #81acb9;\n",
       "            color:  #000000;\n",
       "        }    #T_25d204cc_f37d_11e9_a5d1_f0038c09fbe8row4_col9 {\n",
       "            background-color:  #c1d7de;\n",
       "            color:  #000000;\n",
       "        }    #T_25d204cc_f37d_11e9_a5d1_f0038c09fbe8row4_col10 {\n",
       "            background-color:  #7ba8b6;\n",
       "            color:  #000000;\n",
       "        }    #T_25d204cc_f37d_11e9_a5d1_f0038c09fbe8row4_col11 {\n",
       "            background-color:  #81acb9;\n",
       "            color:  #000000;\n",
       "        }    #T_25d204cc_f37d_11e9_a5d1_f0038c09fbe8row5_col0 {\n",
       "            background-color:  #a4c4cd;\n",
       "            color:  #000000;\n",
       "        }    #T_25d204cc_f37d_11e9_a5d1_f0038c09fbe8row5_col1 {\n",
       "            background-color:  #a6c5ce;\n",
       "            color:  #000000;\n",
       "        }    #T_25d204cc_f37d_11e9_a5d1_f0038c09fbe8row5_col2 {\n",
       "            background-color:  #98bbc6;\n",
       "            color:  #000000;\n",
       "        }    #T_25d204cc_f37d_11e9_a5d1_f0038c09fbe8row5_col3 {\n",
       "            background-color:  #74a3b1;\n",
       "            color:  #000000;\n",
       "        }    #T_25d204cc_f37d_11e9_a5d1_f0038c09fbe8row5_col4 {\n",
       "            background-color:  #75a4b2;\n",
       "            color:  #000000;\n",
       "        }    #T_25d204cc_f37d_11e9_a5d1_f0038c09fbe8row5_col5 {\n",
       "            background-color:  #da3a41;\n",
       "            color:  #f1f1f1;\n",
       "        }    #T_25d204cc_f37d_11e9_a5d1_f0038c09fbe8row5_col6 {\n",
       "            background-color:  #adcad2;\n",
       "            color:  #000000;\n",
       "        }    #T_25d204cc_f37d_11e9_a5d1_f0038c09fbe8row5_col7 {\n",
       "            background-color:  #aac8d1;\n",
       "            color:  #000000;\n",
       "        }    #T_25d204cc_f37d_11e9_a5d1_f0038c09fbe8row5_col8 {\n",
       "            background-color:  #7fabb8;\n",
       "            color:  #000000;\n",
       "        }    #T_25d204cc_f37d_11e9_a5d1_f0038c09fbe8row5_col9 {\n",
       "            background-color:  #aecbd3;\n",
       "            color:  #000000;\n",
       "        }    #T_25d204cc_f37d_11e9_a5d1_f0038c09fbe8row5_col10 {\n",
       "            background-color:  #8bb3bf;\n",
       "            color:  #000000;\n",
       "        }    #T_25d204cc_f37d_11e9_a5d1_f0038c09fbe8row5_col11 {\n",
       "            background-color:  #3f7f93;\n",
       "            color:  #000000;\n",
       "        }    #T_25d204cc_f37d_11e9_a5d1_f0038c09fbe8row6_col0 {\n",
       "            background-color:  #3f7f93;\n",
       "            color:  #000000;\n",
       "        }    #T_25d204cc_f37d_11e9_a5d1_f0038c09fbe8row6_col1 {\n",
       "            background-color:  #3f7f93;\n",
       "            color:  #000000;\n",
       "        }    #T_25d204cc_f37d_11e9_a5d1_f0038c09fbe8row6_col2 {\n",
       "            background-color:  #85aebb;\n",
       "            color:  #000000;\n",
       "        }    #T_25d204cc_f37d_11e9_a5d1_f0038c09fbe8row6_col3 {\n",
       "            background-color:  #6599a9;\n",
       "            color:  #000000;\n",
       "        }    #T_25d204cc_f37d_11e9_a5d1_f0038c09fbe8row6_col4 {\n",
       "            background-color:  #72a2b1;\n",
       "            color:  #000000;\n",
       "        }    #T_25d204cc_f37d_11e9_a5d1_f0038c09fbe8row6_col5 {\n",
       "            background-color:  #76a5b3;\n",
       "            color:  #000000;\n",
       "        }    #T_25d204cc_f37d_11e9_a5d1_f0038c09fbe8row6_col6 {\n",
       "            background-color:  #da3a41;\n",
       "            color:  #f1f1f1;\n",
       "        }    #T_25d204cc_f37d_11e9_a5d1_f0038c09fbe8row6_col7 {\n",
       "            background-color:  #3f7f93;\n",
       "            color:  #000000;\n",
       "        }    #T_25d204cc_f37d_11e9_a5d1_f0038c09fbe8row6_col8 {\n",
       "            background-color:  #3f7f93;\n",
       "            color:  #000000;\n",
       "        }    #T_25d204cc_f37d_11e9_a5d1_f0038c09fbe8row6_col9 {\n",
       "            background-color:  #3f7f93;\n",
       "            color:  #000000;\n",
       "        }    #T_25d204cc_f37d_11e9_a5d1_f0038c09fbe8row6_col10 {\n",
       "            background-color:  #428195;\n",
       "            color:  #000000;\n",
       "        }    #T_25d204cc_f37d_11e9_a5d1_f0038c09fbe8row6_col11 {\n",
       "            background-color:  #8cb3bf;\n",
       "            color:  #000000;\n",
       "        }    #T_25d204cc_f37d_11e9_a5d1_f0038c09fbe8row7_col0 {\n",
       "            background-color:  #85aebb;\n",
       "            color:  #000000;\n",
       "        }    #T_25d204cc_f37d_11e9_a5d1_f0038c09fbe8row7_col1 {\n",
       "            background-color:  #f2f2f2;\n",
       "            color:  #000000;\n",
       "        }    #T_25d204cc_f37d_11e9_a5d1_f0038c09fbe8row7_col2 {\n",
       "            background-color:  #8fb5c1;\n",
       "            color:  #000000;\n",
       "        }    #T_25d204cc_f37d_11e9_a5d1_f0038c09fbe8row7_col3 {\n",
       "            background-color:  #8bb3bf;\n",
       "            color:  #000000;\n",
       "        }    #T_25d204cc_f37d_11e9_a5d1_f0038c09fbe8row7_col4 {\n",
       "            background-color:  #6d9ead;\n",
       "            color:  #000000;\n",
       "        }    #T_25d204cc_f37d_11e9_a5d1_f0038c09fbe8row7_col5 {\n",
       "            background-color:  #7ca9b6;\n",
       "            color:  #000000;\n",
       "        }    #T_25d204cc_f37d_11e9_a5d1_f0038c09fbe8row7_col6 {\n",
       "            background-color:  #4a8799;\n",
       "            color:  #000000;\n",
       "        }    #T_25d204cc_f37d_11e9_a5d1_f0038c09fbe8row7_col7 {\n",
       "            background-color:  #da3a41;\n",
       "            color:  #f1f1f1;\n",
       "        }    #T_25d204cc_f37d_11e9_a5d1_f0038c09fbe8row7_col8 {\n",
       "            background-color:  #d9e8ec;\n",
       "            color:  #000000;\n",
       "        }    #T_25d204cc_f37d_11e9_a5d1_f0038c09fbe8row7_col9 {\n",
       "            background-color:  #e5eff3;\n",
       "            color:  #000000;\n",
       "        }    #T_25d204cc_f37d_11e9_a5d1_f0038c09fbe8row7_col10 {\n",
       "            background-color:  #72a2b1;\n",
       "            color:  #000000;\n",
       "        }    #T_25d204cc_f37d_11e9_a5d1_f0038c09fbe8row7_col11 {\n",
       "            background-color:  #a4c4cd;\n",
       "            color:  #000000;\n",
       "        }    #T_25d204cc_f37d_11e9_a5d1_f0038c09fbe8row8_col0 {\n",
       "            background-color:  #9cbec9;\n",
       "            color:  #000000;\n",
       "        }    #T_25d204cc_f37d_11e9_a5d1_f0038c09fbe8row8_col1 {\n",
       "            background-color:  #9dbfc9;\n",
       "            color:  #000000;\n",
       "        }    #T_25d204cc_f37d_11e9_a5d1_f0038c09fbe8row8_col2 {\n",
       "            background-color:  #9bbdc8;\n",
       "            color:  #000000;\n",
       "        }    #T_25d204cc_f37d_11e9_a5d1_f0038c09fbe8row8_col3 {\n",
       "            background-color:  #3f7f93;\n",
       "            color:  #000000;\n",
       "        }    #T_25d204cc_f37d_11e9_a5d1_f0038c09fbe8row8_col4 {\n",
       "            background-color:  #3f7f93;\n",
       "            color:  #000000;\n",
       "        }    #T_25d204cc_f37d_11e9_a5d1_f0038c09fbe8row8_col5 {\n",
       "            background-color:  #6095a6;\n",
       "            color:  #000000;\n",
       "        }    #T_25d204cc_f37d_11e9_a5d1_f0038c09fbe8row8_col6 {\n",
       "            background-color:  #6095a6;\n",
       "            color:  #000000;\n",
       "        }    #T_25d204cc_f37d_11e9_a5d1_f0038c09fbe8row8_col7 {\n",
       "            background-color:  #e6f0f3;\n",
       "            color:  #000000;\n",
       "        }    #T_25d204cc_f37d_11e9_a5d1_f0038c09fbe8row8_col8 {\n",
       "            background-color:  #da3a41;\n",
       "            color:  #f1f1f1;\n",
       "        }    #T_25d204cc_f37d_11e9_a5d1_f0038c09fbe8row8_col9 {\n",
       "            background-color:  #f0acaf;\n",
       "            color:  #000000;\n",
       "        }    #T_25d204cc_f37d_11e9_a5d1_f0038c09fbe8row8_col10 {\n",
       "            background-color:  #6397a7;\n",
       "            color:  #000000;\n",
       "        }    #T_25d204cc_f37d_11e9_a5d1_f0038c09fbe8row8_col11 {\n",
       "            background-color:  #9bbdc8;\n",
       "            color:  #000000;\n",
       "        }    #T_25d204cc_f37d_11e9_a5d1_f0038c09fbe8row9_col0 {\n",
       "            background-color:  #a1c2cc;\n",
       "            color:  #000000;\n",
       "        }    #T_25d204cc_f37d_11e9_a5d1_f0038c09fbe8row9_col1 {\n",
       "            background-color:  #8cb3bf;\n",
       "            color:  #000000;\n",
       "        }    #T_25d204cc_f37d_11e9_a5d1_f0038c09fbe8row9_col2 {\n",
       "            background-color:  #a9c7d0;\n",
       "            color:  #000000;\n",
       "        }    #T_25d204cc_f37d_11e9_a5d1_f0038c09fbe8row9_col3 {\n",
       "            background-color:  #6196a7;\n",
       "            color:  #000000;\n",
       "        }    #T_25d204cc_f37d_11e9_a5d1_f0038c09fbe8row9_col4 {\n",
       "            background-color:  #70a0af;\n",
       "            color:  #000000;\n",
       "        }    #T_25d204cc_f37d_11e9_a5d1_f0038c09fbe8row9_col5 {\n",
       "            background-color:  #76a5b3;\n",
       "            color:  #000000;\n",
       "        }    #T_25d204cc_f37d_11e9_a5d1_f0038c09fbe8row9_col6 {\n",
       "            background-color:  #3f7f93;\n",
       "            color:  #000000;\n",
       "        }    #T_25d204cc_f37d_11e9_a5d1_f0038c09fbe8row9_col7 {\n",
       "            background-color:  #ddeaee;\n",
       "            color:  #000000;\n",
       "        }    #T_25d204cc_f37d_11e9_a5d1_f0038c09fbe8row9_col8 {\n",
       "            background-color:  #f2b7ba;\n",
       "            color:  #000000;\n",
       "        }    #T_25d204cc_f37d_11e9_a5d1_f0038c09fbe8row9_col9 {\n",
       "            background-color:  #da3a41;\n",
       "            color:  #f1f1f1;\n",
       "        }    #T_25d204cc_f37d_11e9_a5d1_f0038c09fbe8row9_col10 {\n",
       "            background-color:  #3f7f93;\n",
       "            color:  #000000;\n",
       "        }    #T_25d204cc_f37d_11e9_a5d1_f0038c09fbe8row9_col11 {\n",
       "            background-color:  #93b8c3;\n",
       "            color:  #000000;\n",
       "        }    #T_25d204cc_f37d_11e9_a5d1_f0038c09fbe8row10_col0 {\n",
       "            background-color:  #e8f1f4;\n",
       "            color:  #000000;\n",
       "        }    #T_25d204cc_f37d_11e9_a5d1_f0038c09fbe8row10_col1 {\n",
       "            background-color:  #b9d1d9;\n",
       "            color:  #000000;\n",
       "        }    #T_25d204cc_f37d_11e9_a5d1_f0038c09fbe8row10_col2 {\n",
       "            background-color:  #7ba8b6;\n",
       "            color:  #000000;\n",
       "        }    #T_25d204cc_f37d_11e9_a5d1_f0038c09fbe8row10_col3 {\n",
       "            background-color:  #96bac5;\n",
       "            color:  #000000;\n",
       "        }    #T_25d204cc_f37d_11e9_a5d1_f0038c09fbe8row10_col4 {\n",
       "            background-color:  #6d9ead;\n",
       "            color:  #000000;\n",
       "        }    #T_25d204cc_f37d_11e9_a5d1_f0038c09fbe8row10_col5 {\n",
       "            background-color:  #9bbdc8;\n",
       "            color:  #000000;\n",
       "        }    #T_25d204cc_f37d_11e9_a5d1_f0038c09fbe8row10_col6 {\n",
       "            background-color:  #92b7c3;\n",
       "            color:  #000000;\n",
       "        }    #T_25d204cc_f37d_11e9_a5d1_f0038c09fbe8row10_col7 {\n",
       "            background-color:  #b0cbd4;\n",
       "            color:  #000000;\n",
       "        }    #T_25d204cc_f37d_11e9_a5d1_f0038c09fbe8row10_col8 {\n",
       "            background-color:  #93b8c3;\n",
       "            color:  #000000;\n",
       "        }    #T_25d204cc_f37d_11e9_a5d1_f0038c09fbe8row10_col9 {\n",
       "            background-color:  #8fb5c1;\n",
       "            color:  #000000;\n",
       "        }    #T_25d204cc_f37d_11e9_a5d1_f0038c09fbe8row10_col10 {\n",
       "            background-color:  #da3a41;\n",
       "            color:  #f1f1f1;\n",
       "        }    #T_25d204cc_f37d_11e9_a5d1_f0038c09fbe8row10_col11 {\n",
       "            background-color:  #6498a8;\n",
       "            color:  #000000;\n",
       "        }    #T_25d204cc_f37d_11e9_a5d1_f0038c09fbe8row11_col0 {\n",
       "            background-color:  #498699;\n",
       "            color:  #000000;\n",
       "        }    #T_25d204cc_f37d_11e9_a5d1_f0038c09fbe8row11_col1 {\n",
       "            background-color:  #bfd6dd;\n",
       "            color:  #000000;\n",
       "        }    #T_25d204cc_f37d_11e9_a5d1_f0038c09fbe8row11_col2 {\n",
       "            background-color:  #b9d1d9;\n",
       "            color:  #000000;\n",
       "        }    #T_25d204cc_f37d_11e9_a5d1_f0038c09fbe8row11_col3 {\n",
       "            background-color:  #6196a7;\n",
       "            color:  #000000;\n",
       "        }    #T_25d204cc_f37d_11e9_a5d1_f0038c09fbe8row11_col4 {\n",
       "            background-color:  #6095a6;\n",
       "            color:  #000000;\n",
       "        }    #T_25d204cc_f37d_11e9_a5d1_f0038c09fbe8row11_col5 {\n",
       "            background-color:  #3f7f93;\n",
       "            color:  #000000;\n",
       "        }    #T_25d204cc_f37d_11e9_a5d1_f0038c09fbe8row11_col6 {\n",
       "            background-color:  #bfd6dd;\n",
       "            color:  #000000;\n",
       "        }    #T_25d204cc_f37d_11e9_a5d1_f0038c09fbe8row11_col7 {\n",
       "            background-color:  #cbdee4;\n",
       "            color:  #000000;\n",
       "        }    #T_25d204cc_f37d_11e9_a5d1_f0038c09fbe8row11_col8 {\n",
       "            background-color:  #b4cfd7;\n",
       "            color:  #000000;\n",
       "        }    #T_25d204cc_f37d_11e9_a5d1_f0038c09fbe8row11_col9 {\n",
       "            background-color:  #c6dae1;\n",
       "            color:  #000000;\n",
       "        }    #T_25d204cc_f37d_11e9_a5d1_f0038c09fbe8row11_col10 {\n",
       "            background-color:  #508b9d;\n",
       "            color:  #000000;\n",
       "        }    #T_25d204cc_f37d_11e9_a5d1_f0038c09fbe8row11_col11 {\n",
       "            background-color:  #da3a41;\n",
       "            color:  #f1f1f1;\n",
       "        }</style><table id=\"T_25d204cc_f37d_11e9_a5d1_f0038c09fbe8\" ><thead>    <tr>        <th class=\"blank level0\" ></th>        <th class=\"col_heading level0 col0\" >age</th>        <th class=\"col_heading level0 col1\" >chest_pain_tp</th>        <th class=\"col_heading level0 col2\" >rest_bld_press</th>        <th class=\"col_heading level0 col3\" >cholest</th>        <th class=\"col_heading level0 col4\" >f_sug_ovr_120</th>        <th class=\"col_heading level0 col5\" >rest_electro</th>        <th class=\"col_heading level0 col6\" >max_heart_rate</th>        <th class=\"col_heading level0 col7\" >ex_ind_chest_pain</th>        <th class=\"col_heading level0 col8\" >oldpeak</th>        <th class=\"col_heading level0 col9\" >peak_slope</th>        <th class=\"col_heading level0 col10\" >vessels</th>        <th class=\"col_heading level0 col11\" >thal</th>    </tr></thead><tbody>\n",
       "                <tr>\n",
       "                        <th id=\"T_25d204cc_f37d_11e9_a5d1_f0038c09fbe8level0_row0\" class=\"row_heading level0 row0\" >age</th>\n",
       "                        <td id=\"T_25d204cc_f37d_11e9_a5d1_f0038c09fbe8row0_col0\" class=\"data row0 col0\" >1</td>\n",
       "                        <td id=\"T_25d204cc_f37d_11e9_a5d1_f0038c09fbe8row0_col1\" class=\"data row0 col1\" >-0.073</td>\n",
       "                        <td id=\"T_25d204cc_f37d_11e9_a5d1_f0038c09fbe8row0_col2\" class=\"data row0 col2\" >0.2</td>\n",
       "                        <td id=\"T_25d204cc_f37d_11e9_a5d1_f0038c09fbe8row0_col3\" class=\"data row0 col3\" >0.21</td>\n",
       "                        <td id=\"T_25d204cc_f37d_11e9_a5d1_f0038c09fbe8row0_col4\" class=\"data row0 col4\" >0.13</td>\n",
       "                        <td id=\"T_25d204cc_f37d_11e9_a5d1_f0038c09fbe8row0_col5\" class=\"data row0 col5\" >0.14</td>\n",
       "                        <td id=\"T_25d204cc_f37d_11e9_a5d1_f0038c09fbe8row0_col6\" class=\"data row0 col6\" >-0.2</td>\n",
       "                        <td id=\"T_25d204cc_f37d_11e9_a5d1_f0038c09fbe8row0_col7\" class=\"data row0 col7\" >0.035</td>\n",
       "                        <td id=\"T_25d204cc_f37d_11e9_a5d1_f0038c09fbe8row0_col8\" class=\"data row0 col8\" >0.11</td>\n",
       "                        <td id=\"T_25d204cc_f37d_11e9_a5d1_f0038c09fbe8row0_col9\" class=\"data row0 col9\" >0.13</td>\n",
       "                        <td id=\"T_25d204cc_f37d_11e9_a5d1_f0038c09fbe8row0_col10\" class=\"data row0 col10\" >0.36</td>\n",
       "                        <td id=\"T_25d204cc_f37d_11e9_a5d1_f0038c09fbe8row0_col11\" class=\"data row0 col11\" >-0.16</td>\n",
       "            </tr>\n",
       "            <tr>\n",
       "                        <th id=\"T_25d204cc_f37d_11e9_a5d1_f0038c09fbe8level0_row1\" class=\"row_heading level0 row1\" >chest_pain_tp</th>\n",
       "                        <td id=\"T_25d204cc_f37d_11e9_a5d1_f0038c09fbe8row1_col0\" class=\"data row1 col0\" >-0.073</td>\n",
       "                        <td id=\"T_25d204cc_f37d_11e9_a5d1_f0038c09fbe8row1_col1\" class=\"data row1 col1\" >1</td>\n",
       "                        <td id=\"T_25d204cc_f37d_11e9_a5d1_f0038c09fbe8row1_col2\" class=\"data row1 col2\" >-0.22</td>\n",
       "                        <td id=\"T_25d204cc_f37d_11e9_a5d1_f0038c09fbe8row1_col3\" class=\"data row1 col3\" >-0.052</td>\n",
       "                        <td id=\"T_25d204cc_f37d_11e9_a5d1_f0038c09fbe8row1_col4\" class=\"data row1 col4\" >-0.032</td>\n",
       "                        <td id=\"T_25d204cc_f37d_11e9_a5d1_f0038c09fbe8row1_col5\" class=\"data row1 col5\" >0.081</td>\n",
       "                        <td id=\"T_25d204cc_f37d_11e9_a5d1_f0038c09fbe8row1_col6\" class=\"data row1 col6\" >-0.28</td>\n",
       "                        <td id=\"T_25d204cc_f37d_11e9_a5d1_f0038c09fbe8row1_col7\" class=\"data row1 col7\" >0.37</td>\n",
       "                        <td id=\"T_25d204cc_f37d_11e9_a5d1_f0038c09fbe8row1_col8\" class=\"data row1 col8\" >0.049</td>\n",
       "                        <td id=\"T_25d204cc_f37d_11e9_a5d1_f0038c09fbe8row1_col9\" class=\"data row1 col9\" >-0.01</td>\n",
       "                        <td id=\"T_25d204cc_f37d_11e9_a5d1_f0038c09fbe8row1_col10\" class=\"data row1 col10\" >0.15</td>\n",
       "                        <td id=\"T_25d204cc_f37d_11e9_a5d1_f0038c09fbe8row1_col11\" class=\"data row1 col11\" >0.17</td>\n",
       "            </tr>\n",
       "            <tr>\n",
       "                        <th id=\"T_25d204cc_f37d_11e9_a5d1_f0038c09fbe8level0_row2\" class=\"row_heading level0 row2\" >rest_bld_press</th>\n",
       "                        <td id=\"T_25d204cc_f37d_11e9_a5d1_f0038c09fbe8row2_col0\" class=\"data row2 col0\" >0.2</td>\n",
       "                        <td id=\"T_25d204cc_f37d_11e9_a5d1_f0038c09fbe8row2_col1\" class=\"data row2 col1\" >-0.22</td>\n",
       "                        <td id=\"T_25d204cc_f37d_11e9_a5d1_f0038c09fbe8row2_col2\" class=\"data row2 col2\" >1</td>\n",
       "                        <td id=\"T_25d204cc_f37d_11e9_a5d1_f0038c09fbe8row2_col3\" class=\"data row2 col3\" >0.26</td>\n",
       "                        <td id=\"T_25d204cc_f37d_11e9_a5d1_f0038c09fbe8row2_col4\" class=\"data row2 col4\" >0.1</td>\n",
       "                        <td id=\"T_25d204cc_f37d_11e9_a5d1_f0038c09fbe8row2_col5\" class=\"data row2 col5\" >0.077</td>\n",
       "                        <td id=\"T_25d204cc_f37d_11e9_a5d1_f0038c09fbe8row2_col6\" class=\"data row2 col6\" >0.016</td>\n",
       "                        <td id=\"T_25d204cc_f37d_11e9_a5d1_f0038c09fbe8row2_col7\" class=\"data row2 col7\" >0.052</td>\n",
       "                        <td id=\"T_25d204cc_f37d_11e9_a5d1_f0038c09fbe8row2_col8\" class=\"data row2 col8\" >0.087</td>\n",
       "                        <td id=\"T_25d204cc_f37d_11e9_a5d1_f0038c09fbe8row2_col9\" class=\"data row2 col9\" >0.14</td>\n",
       "                        <td id=\"T_25d204cc_f37d_11e9_a5d1_f0038c09fbe8row2_col10\" class=\"data row2 col10\" >-0.019</td>\n",
       "                        <td id=\"T_25d204cc_f37d_11e9_a5d1_f0038c09fbe8row2_col11\" class=\"data row2 col11\" >0.19</td>\n",
       "            </tr>\n",
       "            <tr>\n",
       "                        <th id=\"T_25d204cc_f37d_11e9_a5d1_f0038c09fbe8level0_row3\" class=\"row_heading level0 row3\" >cholest</th>\n",
       "                        <td id=\"T_25d204cc_f37d_11e9_a5d1_f0038c09fbe8row3_col0\" class=\"data row3 col0\" >0.21</td>\n",
       "                        <td id=\"T_25d204cc_f37d_11e9_a5d1_f0038c09fbe8row3_col1\" class=\"data row3 col1\" >-0.052</td>\n",
       "                        <td id=\"T_25d204cc_f37d_11e9_a5d1_f0038c09fbe8row3_col2\" class=\"data row3 col2\" >0.26</td>\n",
       "                        <td id=\"T_25d204cc_f37d_11e9_a5d1_f0038c09fbe8row3_col3\" class=\"data row3 col3\" >1</td>\n",
       "                        <td id=\"T_25d204cc_f37d_11e9_a5d1_f0038c09fbe8row3_col4\" class=\"data row3 col4\" >0.092</td>\n",
       "                        <td id=\"T_25d204cc_f37d_11e9_a5d1_f0038c09fbe8row3_col5\" class=\"data row3 col5\" >0.047</td>\n",
       "                        <td id=\"T_25d204cc_f37d_11e9_a5d1_f0038c09fbe8row3_col6\" class=\"data row3 col6\" >0.0033</td>\n",
       "                        <td id=\"T_25d204cc_f37d_11e9_a5d1_f0038c09fbe8row3_col7\" class=\"data row3 col7\" >0.12</td>\n",
       "                        <td id=\"T_25d204cc_f37d_11e9_a5d1_f0038c09fbe8row3_col8\" class=\"data row3 col8\" >-0.12</td>\n",
       "                        <td id=\"T_25d204cc_f37d_11e9_a5d1_f0038c09fbe8row3_col9\" class=\"data row3 col9\" >-0.011</td>\n",
       "                        <td id=\"T_25d204cc_f37d_11e9_a5d1_f0038c09fbe8row3_col10\" class=\"data row3 col10\" >0.15</td>\n",
       "                        <td id=\"T_25d204cc_f37d_11e9_a5d1_f0038c09fbe8row3_col11\" class=\"data row3 col11\" >-0.0089</td>\n",
       "            </tr>\n",
       "            <tr>\n",
       "                        <th id=\"T_25d204cc_f37d_11e9_a5d1_f0038c09fbe8level0_row4\" class=\"row_heading level0 row4\" >f_sug_ovr_120</th>\n",
       "                        <td id=\"T_25d204cc_f37d_11e9_a5d1_f0038c09fbe8row4_col0\" class=\"data row4 col0\" >0.13</td>\n",
       "                        <td id=\"T_25d204cc_f37d_11e9_a5d1_f0038c09fbe8row4_col1\" class=\"data row4 col1\" >-0.032</td>\n",
       "                        <td id=\"T_25d204cc_f37d_11e9_a5d1_f0038c09fbe8row4_col2\" class=\"data row4 col2\" >0.1</td>\n",
       "                        <td id=\"T_25d204cc_f37d_11e9_a5d1_f0038c09fbe8row4_col3\" class=\"data row4 col3\" >0.092</td>\n",
       "                        <td id=\"T_25d204cc_f37d_11e9_a5d1_f0038c09fbe8row4_col4\" class=\"data row4 col4\" >1</td>\n",
       "                        <td id=\"T_25d204cc_f37d_11e9_a5d1_f0038c09fbe8row4_col5\" class=\"data row4 col5\" >0.11</td>\n",
       "                        <td id=\"T_25d204cc_f37d_11e9_a5d1_f0038c09fbe8row4_col6\" class=\"data row4 col6\" >0.1</td>\n",
       "                        <td id=\"T_25d204cc_f37d_11e9_a5d1_f0038c09fbe8row4_col7\" class=\"data row4 col7\" >0.079</td>\n",
       "                        <td id=\"T_25d204cc_f37d_11e9_a5d1_f0038c09fbe8row4_col8\" class=\"data row4 col8\" >-0.052</td>\n",
       "                        <td id=\"T_25d204cc_f37d_11e9_a5d1_f0038c09fbe8row4_col9\" class=\"data row4 col9\" >0.09</td>\n",
       "                        <td id=\"T_25d204cc_f37d_11e9_a5d1_f0038c09fbe8row4_col10\" class=\"data row4 col10\" >0.083</td>\n",
       "                        <td id=\"T_25d204cc_f37d_11e9_a5d1_f0038c09fbe8row4_col11\" class=\"data row4 col11\" >0.045</td>\n",
       "            </tr>\n",
       "            <tr>\n",
       "                        <th id=\"T_25d204cc_f37d_11e9_a5d1_f0038c09fbe8level0_row5\" class=\"row_heading level0 row5\" >rest_electro</th>\n",
       "                        <td id=\"T_25d204cc_f37d_11e9_a5d1_f0038c09fbe8row5_col0\" class=\"data row5 col0\" >0.14</td>\n",
       "                        <td id=\"T_25d204cc_f37d_11e9_a5d1_f0038c09fbe8row5_col1\" class=\"data row5 col1\" >0.081</td>\n",
       "                        <td id=\"T_25d204cc_f37d_11e9_a5d1_f0038c09fbe8row5_col2\" class=\"data row5 col2\" >0.077</td>\n",
       "                        <td id=\"T_25d204cc_f37d_11e9_a5d1_f0038c09fbe8row5_col3\" class=\"data row5 col3\" >0.047</td>\n",
       "                        <td id=\"T_25d204cc_f37d_11e9_a5d1_f0038c09fbe8row5_col4\" class=\"data row5 col4\" >0.11</td>\n",
       "                        <td id=\"T_25d204cc_f37d_11e9_a5d1_f0038c09fbe8row5_col5\" class=\"data row5 col5\" >1</td>\n",
       "                        <td id=\"T_25d204cc_f37d_11e9_a5d1_f0038c09fbe8row5_col6\" class=\"data row5 col6\" >0.015</td>\n",
       "                        <td id=\"T_25d204cc_f37d_11e9_a5d1_f0038c09fbe8row5_col7\" class=\"data row5 col7\" >0.035</td>\n",
       "                        <td id=\"T_25d204cc_f37d_11e9_a5d1_f0038c09fbe8row5_col8\" class=\"data row5 col8\" >-0.06</td>\n",
       "                        <td id=\"T_25d204cc_f37d_11e9_a5d1_f0038c09fbe8row5_col9\" class=\"data row5 col9\" >0.015</td>\n",
       "                        <td id=\"T_25d204cc_f37d_11e9_a5d1_f0038c09fbe8row5_col10\" class=\"data row5 col10\" >0.13</td>\n",
       "                        <td id=\"T_25d204cc_f37d_11e9_a5d1_f0038c09fbe8row5_col11\" class=\"data row5 col11\" >-0.17</td>\n",
       "            </tr>\n",
       "            <tr>\n",
       "                        <th id=\"T_25d204cc_f37d_11e9_a5d1_f0038c09fbe8level0_row6\" class=\"row_heading level0 row6\" >max_heart_rate</th>\n",
       "                        <td id=\"T_25d204cc_f37d_11e9_a5d1_f0038c09fbe8row6_col0\" class=\"data row6 col0\" >-0.2</td>\n",
       "                        <td id=\"T_25d204cc_f37d_11e9_a5d1_f0038c09fbe8row6_col1\" class=\"data row6 col1\" >-0.28</td>\n",
       "                        <td id=\"T_25d204cc_f37d_11e9_a5d1_f0038c09fbe8row6_col2\" class=\"data row6 col2\" >0.016</td>\n",
       "                        <td id=\"T_25d204cc_f37d_11e9_a5d1_f0038c09fbe8row6_col3\" class=\"data row6 col3\" >0.0033</td>\n",
       "                        <td id=\"T_25d204cc_f37d_11e9_a5d1_f0038c09fbe8row6_col4\" class=\"data row6 col4\" >0.1</td>\n",
       "                        <td id=\"T_25d204cc_f37d_11e9_a5d1_f0038c09fbe8row6_col5\" class=\"data row6 col5\" >0.015</td>\n",
       "                        <td id=\"T_25d204cc_f37d_11e9_a5d1_f0038c09fbe8row6_col6\" class=\"data row6 col6\" >1</td>\n",
       "                        <td id=\"T_25d204cc_f37d_11e9_a5d1_f0038c09fbe8row6_col7\" class=\"data row6 col7\" >-0.37</td>\n",
       "                        <td id=\"T_25d204cc_f37d_11e9_a5d1_f0038c09fbe8row6_col8\" class=\"data row6 col8\" >-0.29</td>\n",
       "                        <td id=\"T_25d204cc_f37d_11e9_a5d1_f0038c09fbe8row6_col9\" class=\"data row6 col9\" >-0.42</td>\n",
       "                        <td id=\"T_25d204cc_f37d_11e9_a5d1_f0038c09fbe8row6_col10\" class=\"data row6 col10\" >-0.092</td>\n",
       "                        <td id=\"T_25d204cc_f37d_11e9_a5d1_f0038c09fbe8row6_col11\" class=\"data row6 col11\" >0.084</td>\n",
       "            </tr>\n",
       "            <tr>\n",
       "                        <th id=\"T_25d204cc_f37d_11e9_a5d1_f0038c09fbe8level0_row7\" class=\"row_heading level0 row7\" >ex_ind_chest_pain</th>\n",
       "                        <td id=\"T_25d204cc_f37d_11e9_a5d1_f0038c09fbe8row7_col0\" class=\"data row7 col0\" >0.035</td>\n",
       "                        <td id=\"T_25d204cc_f37d_11e9_a5d1_f0038c09fbe8row7_col1\" class=\"data row7 col1\" >0.37</td>\n",
       "                        <td id=\"T_25d204cc_f37d_11e9_a5d1_f0038c09fbe8row7_col2\" class=\"data row7 col2\" >0.052</td>\n",
       "                        <td id=\"T_25d204cc_f37d_11e9_a5d1_f0038c09fbe8row7_col3\" class=\"data row7 col3\" >0.12</td>\n",
       "                        <td id=\"T_25d204cc_f37d_11e9_a5d1_f0038c09fbe8row7_col4\" class=\"data row7 col4\" >0.079</td>\n",
       "                        <td id=\"T_25d204cc_f37d_11e9_a5d1_f0038c09fbe8row7_col5\" class=\"data row7 col5\" >0.035</td>\n",
       "                        <td id=\"T_25d204cc_f37d_11e9_a5d1_f0038c09fbe8row7_col6\" class=\"data row7 col6\" >-0.37</td>\n",
       "                        <td id=\"T_25d204cc_f37d_11e9_a5d1_f0038c09fbe8row7_col7\" class=\"data row7 col7\" >1</td>\n",
       "                        <td id=\"T_25d204cc_f37d_11e9_a5d1_f0038c09fbe8row7_col8\" class=\"data row7 col8\" >0.26</td>\n",
       "                        <td id=\"T_25d204cc_f37d_11e9_a5d1_f0038c09fbe8row7_col9\" class=\"data row7 col9\" >0.23</td>\n",
       "                        <td id=\"T_25d204cc_f37d_11e9_a5d1_f0038c09fbe8row7_col10\" class=\"data row7 col10\" >0.058</td>\n",
       "                        <td id=\"T_25d204cc_f37d_11e9_a5d1_f0038c09fbe8row7_col11\" class=\"data row7 col11\" >0.16</td>\n",
       "            </tr>\n",
       "            <tr>\n",
       "                        <th id=\"T_25d204cc_f37d_11e9_a5d1_f0038c09fbe8level0_row8\" class=\"row_heading level0 row8\" >oldpeak</th>\n",
       "                        <td id=\"T_25d204cc_f37d_11e9_a5d1_f0038c09fbe8row8_col0\" class=\"data row8 col0\" >0.11</td>\n",
       "                        <td id=\"T_25d204cc_f37d_11e9_a5d1_f0038c09fbe8row8_col1\" class=\"data row8 col1\" >0.049</td>\n",
       "                        <td id=\"T_25d204cc_f37d_11e9_a5d1_f0038c09fbe8row8_col2\" class=\"data row8 col2\" >0.087</td>\n",
       "                        <td id=\"T_25d204cc_f37d_11e9_a5d1_f0038c09fbe8row8_col3\" class=\"data row8 col3\" >-0.12</td>\n",
       "                        <td id=\"T_25d204cc_f37d_11e9_a5d1_f0038c09fbe8row8_col4\" class=\"data row8 col4\" >-0.052</td>\n",
       "                        <td id=\"T_25d204cc_f37d_11e9_a5d1_f0038c09fbe8row8_col5\" class=\"data row8 col5\" >-0.06</td>\n",
       "                        <td id=\"T_25d204cc_f37d_11e9_a5d1_f0038c09fbe8row8_col6\" class=\"data row8 col6\" >-0.29</td>\n",
       "                        <td id=\"T_25d204cc_f37d_11e9_a5d1_f0038c09fbe8row8_col7\" class=\"data row8 col7\" >0.26</td>\n",
       "                        <td id=\"T_25d204cc_f37d_11e9_a5d1_f0038c09fbe8row8_col8\" class=\"data row8 col8\" >1</td>\n",
       "                        <td id=\"T_25d204cc_f37d_11e9_a5d1_f0038c09fbe8row8_col9\" class=\"data row8 col9\" >0.56</td>\n",
       "                        <td id=\"T_25d204cc_f37d_11e9_a5d1_f0038c09fbe8row8_col10\" class=\"data row8 col10\" >0.01</td>\n",
       "                        <td id=\"T_25d204cc_f37d_11e9_a5d1_f0038c09fbe8row8_col11\" class=\"data row8 col11\" >0.13</td>\n",
       "            </tr>\n",
       "            <tr>\n",
       "                        <th id=\"T_25d204cc_f37d_11e9_a5d1_f0038c09fbe8level0_row9\" class=\"row_heading level0 row9\" >peak_slope</th>\n",
       "                        <td id=\"T_25d204cc_f37d_11e9_a5d1_f0038c09fbe8row9_col0\" class=\"data row9 col0\" >0.13</td>\n",
       "                        <td id=\"T_25d204cc_f37d_11e9_a5d1_f0038c09fbe8row9_col1\" class=\"data row9 col1\" >-0.01</td>\n",
       "                        <td id=\"T_25d204cc_f37d_11e9_a5d1_f0038c09fbe8row9_col2\" class=\"data row9 col2\" >0.14</td>\n",
       "                        <td id=\"T_25d204cc_f37d_11e9_a5d1_f0038c09fbe8row9_col3\" class=\"data row9 col3\" >-0.011</td>\n",
       "                        <td id=\"T_25d204cc_f37d_11e9_a5d1_f0038c09fbe8row9_col4\" class=\"data row9 col4\" >0.09</td>\n",
       "                        <td id=\"T_25d204cc_f37d_11e9_a5d1_f0038c09fbe8row9_col5\" class=\"data row9 col5\" >0.015</td>\n",
       "                        <td id=\"T_25d204cc_f37d_11e9_a5d1_f0038c09fbe8row9_col6\" class=\"data row9 col6\" >-0.42</td>\n",
       "                        <td id=\"T_25d204cc_f37d_11e9_a5d1_f0038c09fbe8row9_col7\" class=\"data row9 col7\" >0.23</td>\n",
       "                        <td id=\"T_25d204cc_f37d_11e9_a5d1_f0038c09fbe8row9_col8\" class=\"data row9 col8\" >0.56</td>\n",
       "                        <td id=\"T_25d204cc_f37d_11e9_a5d1_f0038c09fbe8row9_col9\" class=\"data row9 col9\" >1</td>\n",
       "                        <td id=\"T_25d204cc_f37d_11e9_a5d1_f0038c09fbe8row9_col10\" class=\"data row9 col10\" >-0.1</td>\n",
       "                        <td id=\"T_25d204cc_f37d_11e9_a5d1_f0038c09fbe8row9_col11\" class=\"data row9 col11\" >0.11</td>\n",
       "            </tr>\n",
       "            <tr>\n",
       "                        <th id=\"T_25d204cc_f37d_11e9_a5d1_f0038c09fbe8level0_row10\" class=\"row_heading level0 row10\" >vessels</th>\n",
       "                        <td id=\"T_25d204cc_f37d_11e9_a5d1_f0038c09fbe8row10_col0\" class=\"data row10 col0\" >0.36</td>\n",
       "                        <td id=\"T_25d204cc_f37d_11e9_a5d1_f0038c09fbe8row10_col1\" class=\"data row10 col1\" >0.15</td>\n",
       "                        <td id=\"T_25d204cc_f37d_11e9_a5d1_f0038c09fbe8row10_col2\" class=\"data row10 col2\" >-0.019</td>\n",
       "                        <td id=\"T_25d204cc_f37d_11e9_a5d1_f0038c09fbe8row10_col3\" class=\"data row10 col3\" >0.15</td>\n",
       "                        <td id=\"T_25d204cc_f37d_11e9_a5d1_f0038c09fbe8row10_col4\" class=\"data row10 col4\" >0.083</td>\n",
       "                        <td id=\"T_25d204cc_f37d_11e9_a5d1_f0038c09fbe8row10_col5\" class=\"data row10 col5\" >0.13</td>\n",
       "                        <td id=\"T_25d204cc_f37d_11e9_a5d1_f0038c09fbe8row10_col6\" class=\"data row10 col6\" >-0.092</td>\n",
       "                        <td id=\"T_25d204cc_f37d_11e9_a5d1_f0038c09fbe8row10_col7\" class=\"data row10 col7\" >0.058</td>\n",
       "                        <td id=\"T_25d204cc_f37d_11e9_a5d1_f0038c09fbe8row10_col8\" class=\"data row10 col8\" >0.01</td>\n",
       "                        <td id=\"T_25d204cc_f37d_11e9_a5d1_f0038c09fbe8row10_col9\" class=\"data row10 col9\" >-0.1</td>\n",
       "                        <td id=\"T_25d204cc_f37d_11e9_a5d1_f0038c09fbe8row10_col10\" class=\"data row10 col10\" >1</td>\n",
       "                        <td id=\"T_25d204cc_f37d_11e9_a5d1_f0038c09fbe8row10_col11\" class=\"data row10 col11\" >-0.045</td>\n",
       "            </tr>\n",
       "            <tr>\n",
       "                        <th id=\"T_25d204cc_f37d_11e9_a5d1_f0038c09fbe8level0_row11\" class=\"row_heading level0 row11\" >thal</th>\n",
       "                        <td id=\"T_25d204cc_f37d_11e9_a5d1_f0038c09fbe8row11_col0\" class=\"data row11 col0\" >-0.16</td>\n",
       "                        <td id=\"T_25d204cc_f37d_11e9_a5d1_f0038c09fbe8row11_col1\" class=\"data row11 col1\" >0.17</td>\n",
       "                        <td id=\"T_25d204cc_f37d_11e9_a5d1_f0038c09fbe8row11_col2\" class=\"data row11 col2\" >0.19</td>\n",
       "                        <td id=\"T_25d204cc_f37d_11e9_a5d1_f0038c09fbe8row11_col3\" class=\"data row11 col3\" >-0.0089</td>\n",
       "                        <td id=\"T_25d204cc_f37d_11e9_a5d1_f0038c09fbe8row11_col4\" class=\"data row11 col4\" >0.045</td>\n",
       "                        <td id=\"T_25d204cc_f37d_11e9_a5d1_f0038c09fbe8row11_col5\" class=\"data row11 col5\" >-0.17</td>\n",
       "                        <td id=\"T_25d204cc_f37d_11e9_a5d1_f0038c09fbe8row11_col6\" class=\"data row11 col6\" >0.084</td>\n",
       "                        <td id=\"T_25d204cc_f37d_11e9_a5d1_f0038c09fbe8row11_col7\" class=\"data row11 col7\" >0.16</td>\n",
       "                        <td id=\"T_25d204cc_f37d_11e9_a5d1_f0038c09fbe8row11_col8\" class=\"data row11 col8\" >0.13</td>\n",
       "                        <td id=\"T_25d204cc_f37d_11e9_a5d1_f0038c09fbe8row11_col9\" class=\"data row11 col9\" >0.11</td>\n",
       "                        <td id=\"T_25d204cc_f37d_11e9_a5d1_f0038c09fbe8row11_col10\" class=\"data row11 col10\" >-0.045</td>\n",
       "                        <td id=\"T_25d204cc_f37d_11e9_a5d1_f0038c09fbe8row11_col11\" class=\"data row11 col11\" >1</td>\n",
       "            </tr>\n",
       "    </tbody></table>"
      ],
      "text/plain": [
       "<pandas.io.formats.style.Styler at 0x2677d42cf60>"
      ]
     },
     "execution_count": 5,
     "metadata": {},
     "output_type": "execute_result"
    }
   ],
   "source": [
    "# Correlation for males\n",
    "corr = disease_yes_male.corr()\n",
    "# Generate a custom diverging colormap\n",
    "custom = sns.diverging_palette(220, 11, as_cmap=True)\n",
    "corr.style.background_gradient(cmap=custom).set_precision(2)"
   ]
  },
  {
   "cell_type": "markdown",
   "metadata": {},
   "source": [
    "Now a correlation with woman having a disease"
   ]
  },
  {
   "cell_type": "code",
   "execution_count": 6,
   "metadata": {
    "scrolled": true
   },
   "outputs": [
    {
     "data": {
      "text/html": [
       "<style  type=\"text/css\" >\n",
       "    #T_25e31018_f37d_11e9_aba2_f0038c09fbe8row0_col0 {\n",
       "            background-color:  #da3a41;\n",
       "            color:  #f1f1f1;\n",
       "        }    #T_25e31018_f37d_11e9_aba2_f0038c09fbe8row0_col1 {\n",
       "            background-color:  #93b8c3;\n",
       "            color:  #000000;\n",
       "        }    #T_25e31018_f37d_11e9_aba2_f0038c09fbe8row0_col2 {\n",
       "            background-color:  #98bbc6;\n",
       "            color:  #000000;\n",
       "        }    #T_25e31018_f37d_11e9_aba2_f0038c09fbe8row0_col3 {\n",
       "            background-color:  #3f7f93;\n",
       "            color:  #000000;\n",
       "        }    #T_25e31018_f37d_11e9_aba2_f0038c09fbe8row0_col4 {\n",
       "            background-color:  #498699;\n",
       "            color:  #000000;\n",
       "        }    #T_25e31018_f37d_11e9_aba2_f0038c09fbe8row0_col5 {\n",
       "            background-color:  #78a6b4;\n",
       "            color:  #000000;\n",
       "        }    #T_25e31018_f37d_11e9_aba2_f0038c09fbe8row0_col6 {\n",
       "            background-color:  #a4c4cd;\n",
       "            color:  #000000;\n",
       "        }    #T_25e31018_f37d_11e9_aba2_f0038c09fbe8row0_col7 {\n",
       "            background-color:  #498699;\n",
       "            color:  #000000;\n",
       "        }    #T_25e31018_f37d_11e9_aba2_f0038c09fbe8row0_col8 {\n",
       "            background-color:  #3f7f93;\n",
       "            color:  #000000;\n",
       "        }    #T_25e31018_f37d_11e9_aba2_f0038c09fbe8row0_col9 {\n",
       "            background-color:  #a6c5ce;\n",
       "            color:  #000000;\n",
       "        }    #T_25e31018_f37d_11e9_aba2_f0038c09fbe8row0_col10 {\n",
       "            background-color:  #f3bfc1;\n",
       "            color:  #000000;\n",
       "        }    #T_25e31018_f37d_11e9_aba2_f0038c09fbe8row0_col11 {\n",
       "            background-color:  #4b889a;\n",
       "            color:  #000000;\n",
       "        }    #T_25e31018_f37d_11e9_aba2_f0038c09fbe8row1_col0 {\n",
       "            background-color:  #aac8d1;\n",
       "            color:  #000000;\n",
       "        }    #T_25e31018_f37d_11e9_aba2_f0038c09fbe8row1_col1 {\n",
       "            background-color:  #da3a41;\n",
       "            color:  #f1f1f1;\n",
       "        }    #T_25e31018_f37d_11e9_aba2_f0038c09fbe8row1_col2 {\n",
       "            background-color:  #c4d9e0;\n",
       "            color:  #000000;\n",
       "        }    #T_25e31018_f37d_11e9_aba2_f0038c09fbe8row1_col3 {\n",
       "            background-color:  #9cbec9;\n",
       "            color:  #000000;\n",
       "        }    #T_25e31018_f37d_11e9_aba2_f0038c09fbe8row1_col4 {\n",
       "            background-color:  #3f7f93;\n",
       "            color:  #000000;\n",
       "        }    #T_25e31018_f37d_11e9_aba2_f0038c09fbe8row1_col5 {\n",
       "            background-color:  #9bbdc8;\n",
       "            color:  #000000;\n",
       "        }    #T_25e31018_f37d_11e9_aba2_f0038c09fbe8row1_col6 {\n",
       "            background-color:  #aac8d1;\n",
       "            color:  #000000;\n",
       "        }    #T_25e31018_f37d_11e9_aba2_f0038c09fbe8row1_col7 {\n",
       "            background-color:  #fae7e8;\n",
       "            color:  #000000;\n",
       "        }    #T_25e31018_f37d_11e9_aba2_f0038c09fbe8row1_col8 {\n",
       "            background-color:  #c8dce2;\n",
       "            color:  #000000;\n",
       "        }    #T_25e31018_f37d_11e9_aba2_f0038c09fbe8row1_col9 {\n",
       "            background-color:  #f9e0e1;\n",
       "            color:  #000000;\n",
       "        }    #T_25e31018_f37d_11e9_aba2_f0038c09fbe8row1_col10 {\n",
       "            background-color:  #9dbfc9;\n",
       "            color:  #000000;\n",
       "        }    #T_25e31018_f37d_11e9_aba2_f0038c09fbe8row1_col11 {\n",
       "            background-color:  #a4c4cd;\n",
       "            color:  #000000;\n",
       "        }    #T_25e31018_f37d_11e9_aba2_f0038c09fbe8row2_col0 {\n",
       "            background-color:  #bbd3db;\n",
       "            color:  #000000;\n",
       "        }    #T_25e31018_f37d_11e9_aba2_f0038c09fbe8row2_col1 {\n",
       "            background-color:  #d1e2e7;\n",
       "            color:  #000000;\n",
       "        }    #T_25e31018_f37d_11e9_aba2_f0038c09fbe8row2_col2 {\n",
       "            background-color:  #da3a41;\n",
       "            color:  #f1f1f1;\n",
       "        }    #T_25e31018_f37d_11e9_aba2_f0038c09fbe8row2_col3 {\n",
       "            background-color:  #6e9fae;\n",
       "            color:  #000000;\n",
       "        }    #T_25e31018_f37d_11e9_aba2_f0038c09fbe8row2_col4 {\n",
       "            background-color:  #d3e3e8;\n",
       "            color:  #000000;\n",
       "        }    #T_25e31018_f37d_11e9_aba2_f0038c09fbe8row2_col5 {\n",
       "            background-color:  #b9d1d9;\n",
       "            color:  #000000;\n",
       "        }    #T_25e31018_f37d_11e9_aba2_f0038c09fbe8row2_col6 {\n",
       "            background-color:  #578fa1;\n",
       "            color:  #000000;\n",
       "        }    #T_25e31018_f37d_11e9_aba2_f0038c09fbe8row2_col7 {\n",
       "            background-color:  #e6f0f3;\n",
       "            color:  #000000;\n",
       "        }    #T_25e31018_f37d_11e9_aba2_f0038c09fbe8row2_col8 {\n",
       "            background-color:  #b7d1d8;\n",
       "            color:  #000000;\n",
       "        }    #T_25e31018_f37d_11e9_aba2_f0038c09fbe8row2_col9 {\n",
       "            background-color:  #f2f2f2;\n",
       "            color:  #000000;\n",
       "        }    #T_25e31018_f37d_11e9_aba2_f0038c09fbe8row2_col10 {\n",
       "            background-color:  #b2cdd6;\n",
       "            color:  #000000;\n",
       "        }    #T_25e31018_f37d_11e9_aba2_f0038c09fbe8row2_col11 {\n",
       "            background-color:  #9dbfc9;\n",
       "            color:  #000000;\n",
       "        }    #T_25e31018_f37d_11e9_aba2_f0038c09fbe8row3_col0 {\n",
       "            background-color:  #3f7f93;\n",
       "            color:  #000000;\n",
       "        }    #T_25e31018_f37d_11e9_aba2_f0038c09fbe8row3_col1 {\n",
       "            background-color:  #83adba;\n",
       "            color:  #000000;\n",
       "        }    #T_25e31018_f37d_11e9_aba2_f0038c09fbe8row3_col2 {\n",
       "            background-color:  #3f7f93;\n",
       "            color:  #000000;\n",
       "        }    #T_25e31018_f37d_11e9_aba2_f0038c09fbe8row3_col3 {\n",
       "            background-color:  #da3a41;\n",
       "            color:  #f1f1f1;\n",
       "        }    #T_25e31018_f37d_11e9_aba2_f0038c09fbe8row3_col4 {\n",
       "            background-color:  #9fc0ca;\n",
       "            color:  #000000;\n",
       "        }    #T_25e31018_f37d_11e9_aba2_f0038c09fbe8row3_col5 {\n",
       "            background-color:  #f2f2f2;\n",
       "            color:  #000000;\n",
       "        }    #T_25e31018_f37d_11e9_aba2_f0038c09fbe8row3_col6 {\n",
       "            background-color:  #94b9c4;\n",
       "            color:  #000000;\n",
       "        }    #T_25e31018_f37d_11e9_aba2_f0038c09fbe8row3_col7 {\n",
       "            background-color:  #cfe1e6;\n",
       "            color:  #000000;\n",
       "        }    #T_25e31018_f37d_11e9_aba2_f0038c09fbe8row3_col8 {\n",
       "            background-color:  #408094;\n",
       "            color:  #000000;\n",
       "        }    #T_25e31018_f37d_11e9_aba2_f0038c09fbe8row3_col9 {\n",
       "            background-color:  #3f7f93;\n",
       "            color:  #000000;\n",
       "        }    #T_25e31018_f37d_11e9_aba2_f0038c09fbe8row3_col10 {\n",
       "            background-color:  #89b2be;\n",
       "            color:  #000000;\n",
       "        }    #T_25e31018_f37d_11e9_aba2_f0038c09fbe8row3_col11 {\n",
       "            background-color:  #7ca9b6;\n",
       "            color:  #000000;\n",
       "        }    #T_25e31018_f37d_11e9_aba2_f0038c09fbe8row4_col0 {\n",
       "            background-color:  #6599a9;\n",
       "            color:  #000000;\n",
       "        }    #T_25e31018_f37d_11e9_aba2_f0038c09fbe8row4_col1 {\n",
       "            background-color:  #3f7f93;\n",
       "            color:  #000000;\n",
       "        }    #T_25e31018_f37d_11e9_aba2_f0038c09fbe8row4_col2 {\n",
       "            background-color:  #c6dae1;\n",
       "            color:  #000000;\n",
       "        }    #T_25e31018_f37d_11e9_aba2_f0038c09fbe8row4_col3 {\n",
       "            background-color:  #b4cfd7;\n",
       "            color:  #000000;\n",
       "        }    #T_25e31018_f37d_11e9_aba2_f0038c09fbe8row4_col4 {\n",
       "            background-color:  #da3a41;\n",
       "            color:  #f1f1f1;\n",
       "        }    #T_25e31018_f37d_11e9_aba2_f0038c09fbe8row4_col5 {\n",
       "            background-color:  #99bcc7;\n",
       "            color:  #000000;\n",
       "        }    #T_25e31018_f37d_11e9_aba2_f0038c09fbe8row4_col6 {\n",
       "            background-color:  #4f8a9c;\n",
       "            color:  #000000;\n",
       "        }    #T_25e31018_f37d_11e9_aba2_f0038c09fbe8row4_col7 {\n",
       "            background-color:  #cee0e5;\n",
       "            color:  #000000;\n",
       "        }    #T_25e31018_f37d_11e9_aba2_f0038c09fbe8row4_col8 {\n",
       "            background-color:  #6599a9;\n",
       "            color:  #000000;\n",
       "        }    #T_25e31018_f37d_11e9_aba2_f0038c09fbe8row4_col9 {\n",
       "            background-color:  #a1c2cc;\n",
       "            color:  #000000;\n",
       "        }    #T_25e31018_f37d_11e9_aba2_f0038c09fbe8row4_col10 {\n",
       "            background-color:  #e8f1f4;\n",
       "            color:  #000000;\n",
       "        }    #T_25e31018_f37d_11e9_aba2_f0038c09fbe8row4_col11 {\n",
       "            background-color:  #8cb3bf;\n",
       "            color:  #000000;\n",
       "        }    #T_25e31018_f37d_11e9_aba2_f0038c09fbe8row5_col0 {\n",
       "            background-color:  #83adba;\n",
       "            color:  #000000;\n",
       "        }    #T_25e31018_f37d_11e9_aba2_f0038c09fbe8row5_col1 {\n",
       "            background-color:  #8cb3bf;\n",
       "            color:  #000000;\n",
       "        }    #T_25e31018_f37d_11e9_aba2_f0038c09fbe8row5_col2 {\n",
       "            background-color:  #9dbfc9;\n",
       "            color:  #000000;\n",
       "        }    #T_25e31018_f37d_11e9_aba2_f0038c09fbe8row5_col3 {\n",
       "            background-color:  #f2f2f2;\n",
       "            color:  #000000;\n",
       "        }    #T_25e31018_f37d_11e9_aba2_f0038c09fbe8row5_col4 {\n",
       "            background-color:  #8bb3bf;\n",
       "            color:  #000000;\n",
       "        }    #T_25e31018_f37d_11e9_aba2_f0038c09fbe8row5_col5 {\n",
       "            background-color:  #da3a41;\n",
       "            color:  #f1f1f1;\n",
       "        }    #T_25e31018_f37d_11e9_aba2_f0038c09fbe8row5_col6 {\n",
       "            background-color:  #bed5dc;\n",
       "            color:  #000000;\n",
       "        }    #T_25e31018_f37d_11e9_aba2_f0038c09fbe8row5_col7 {\n",
       "            background-color:  #548e9f;\n",
       "            color:  #000000;\n",
       "        }    #T_25e31018_f37d_11e9_aba2_f0038c09fbe8row5_col8 {\n",
       "            background-color:  #c6dae1;\n",
       "            color:  #000000;\n",
       "        }    #T_25e31018_f37d_11e9_aba2_f0038c09fbe8row5_col9 {\n",
       "            background-color:  #a1c2cc;\n",
       "            color:  #000000;\n",
       "        }    #T_25e31018_f37d_11e9_aba2_f0038c09fbe8row5_col10 {\n",
       "            background-color:  #e1edf0;\n",
       "            color:  #000000;\n",
       "        }    #T_25e31018_f37d_11e9_aba2_f0038c09fbe8row5_col11 {\n",
       "            background-color:  #c4d9e0;\n",
       "            color:  #000000;\n",
       "        }    #T_25e31018_f37d_11e9_aba2_f0038c09fbe8row6_col0 {\n",
       "            background-color:  #cee0e5;\n",
       "            color:  #000000;\n",
       "        }    #T_25e31018_f37d_11e9_aba2_f0038c09fbe8row6_col1 {\n",
       "            background-color:  #bed5dc;\n",
       "            color:  #000000;\n",
       "        }    #T_25e31018_f37d_11e9_aba2_f0038c09fbe8row6_col2 {\n",
       "            background-color:  #6196a7;\n",
       "            color:  #000000;\n",
       "        }    #T_25e31018_f37d_11e9_aba2_f0038c09fbe8row6_col3 {\n",
       "            background-color:  #bfd6dd;\n",
       "            color:  #000000;\n",
       "        }    #T_25e31018_f37d_11e9_aba2_f0038c09fbe8row6_col4 {\n",
       "            background-color:  #699cab;\n",
       "            color:  #000000;\n",
       "        }    #T_25e31018_f37d_11e9_aba2_f0038c09fbe8row6_col5 {\n",
       "            background-color:  #dce9ee;\n",
       "            color:  #000000;\n",
       "        }    #T_25e31018_f37d_11e9_aba2_f0038c09fbe8row6_col6 {\n",
       "            background-color:  #da3a41;\n",
       "            color:  #f1f1f1;\n",
       "        }    #T_25e31018_f37d_11e9_aba2_f0038c09fbe8row6_col7 {\n",
       "            background-color:  #cbdee4;\n",
       "            color:  #000000;\n",
       "        }    #T_25e31018_f37d_11e9_aba2_f0038c09fbe8row6_col8 {\n",
       "            background-color:  #408094;\n",
       "            color:  #000000;\n",
       "        }    #T_25e31018_f37d_11e9_aba2_f0038c09fbe8row6_col9 {\n",
       "            background-color:  #6d9ead;\n",
       "            color:  #000000;\n",
       "        }    #T_25e31018_f37d_11e9_aba2_f0038c09fbe8row6_col10 {\n",
       "            background-color:  #99bcc7;\n",
       "            color:  #000000;\n",
       "        }    #T_25e31018_f37d_11e9_aba2_f0038c09fbe8row6_col11 {\n",
       "            background-color:  #3f7f93;\n",
       "            color:  #000000;\n",
       "        }    #T_25e31018_f37d_11e9_aba2_f0038c09fbe8row7_col0 {\n",
       "            background-color:  #3f7f93;\n",
       "            color:  #000000;\n",
       "        }    #T_25e31018_f37d_11e9_aba2_f0038c09fbe8row7_col1 {\n",
       "            background-color:  #ecf4f7;\n",
       "            color:  #000000;\n",
       "        }    #T_25e31018_f37d_11e9_aba2_f0038c09fbe8row7_col2 {\n",
       "            background-color:  #c3d8df;\n",
       "            color:  #000000;\n",
       "        }    #T_25e31018_f37d_11e9_aba2_f0038c09fbe8row7_col3 {\n",
       "            background-color:  #c8dce2;\n",
       "            color:  #000000;\n",
       "        }    #T_25e31018_f37d_11e9_aba2_f0038c09fbe8row7_col4 {\n",
       "            background-color:  #b4cfd7;\n",
       "            color:  #000000;\n",
       "        }    #T_25e31018_f37d_11e9_aba2_f0038c09fbe8row7_col5 {\n",
       "            background-color:  #3f7f93;\n",
       "            color:  #000000;\n",
       "        }    #T_25e31018_f37d_11e9_aba2_f0038c09fbe8row7_col6 {\n",
       "            background-color:  #99bcc7;\n",
       "            color:  #000000;\n",
       "        }    #T_25e31018_f37d_11e9_aba2_f0038c09fbe8row7_col7 {\n",
       "            background-color:  #da3a41;\n",
       "            color:  #f1f1f1;\n",
       "        }    #T_25e31018_f37d_11e9_aba2_f0038c09fbe8row7_col8 {\n",
       "            background-color:  #518c9e;\n",
       "            color:  #000000;\n",
       "        }    #T_25e31018_f37d_11e9_aba2_f0038c09fbe8row7_col9 {\n",
       "            background-color:  #d3e3e8;\n",
       "            color:  #000000;\n",
       "        }    #T_25e31018_f37d_11e9_aba2_f0038c09fbe8row7_col10 {\n",
       "            background-color:  #3f7f93;\n",
       "            color:  #000000;\n",
       "        }    #T_25e31018_f37d_11e9_aba2_f0038c09fbe8row7_col11 {\n",
       "            background-color:  #99bcc7;\n",
       "            color:  #000000;\n",
       "        }    #T_25e31018_f37d_11e9_aba2_f0038c09fbe8row8_col0 {\n",
       "            background-color:  #8eb4c0;\n",
       "            color:  #000000;\n",
       "        }    #T_25e31018_f37d_11e9_aba2_f0038c09fbe8row8_col1 {\n",
       "            background-color:  #e9f2f5;\n",
       "            color:  #000000;\n",
       "        }    #T_25e31018_f37d_11e9_aba2_f0038c09fbe8row8_col2 {\n",
       "            background-color:  #cfe1e6;\n",
       "            color:  #000000;\n",
       "        }    #T_25e31018_f37d_11e9_aba2_f0038c09fbe8row8_col3 {\n",
       "            background-color:  #8fb5c1;\n",
       "            color:  #000000;\n",
       "        }    #T_25e31018_f37d_11e9_aba2_f0038c09fbe8row8_col4 {\n",
       "            background-color:  #94b9c4;\n",
       "            color:  #000000;\n",
       "        }    #T_25e31018_f37d_11e9_aba2_f0038c09fbe8row8_col5 {\n",
       "            background-color:  #f2f2f2;\n",
       "            color:  #000000;\n",
       "        }    #T_25e31018_f37d_11e9_aba2_f0038c09fbe8row8_col6 {\n",
       "            background-color:  #5a91a2;\n",
       "            color:  #000000;\n",
       "        }    #T_25e31018_f37d_11e9_aba2_f0038c09fbe8row8_col7 {\n",
       "            background-color:  #a3c3cc;\n",
       "            color:  #000000;\n",
       "        }    #T_25e31018_f37d_11e9_aba2_f0038c09fbe8row8_col8 {\n",
       "            background-color:  #da3a41;\n",
       "            color:  #f1f1f1;\n",
       "        }    #T_25e31018_f37d_11e9_aba2_f0038c09fbe8row8_col9 {\n",
       "            background-color:  #e5757a;\n",
       "            color:  #000000;\n",
       "        }    #T_25e31018_f37d_11e9_aba2_f0038c09fbe8row8_col10 {\n",
       "            background-color:  #f4c4c6;\n",
       "            color:  #000000;\n",
       "        }    #T_25e31018_f37d_11e9_aba2_f0038c09fbe8row8_col11 {\n",
       "            background-color:  #e4eef2;\n",
       "            color:  #000000;\n",
       "        }    #T_25e31018_f37d_11e9_aba2_f0038c09fbe8row9_col0 {\n",
       "            background-color:  #aecbd3;\n",
       "            color:  #000000;\n",
       "        }    #T_25e31018_f37d_11e9_aba2_f0038c09fbe8row9_col1 {\n",
       "            background-color:  #fbe8e9;\n",
       "            color:  #000000;\n",
       "        }    #T_25e31018_f37d_11e9_aba2_f0038c09fbe8row9_col2 {\n",
       "            background-color:  #e5eff3;\n",
       "            color:  #000000;\n",
       "        }    #T_25e31018_f37d_11e9_aba2_f0038c09fbe8row9_col3 {\n",
       "            background-color:  #4a8799;\n",
       "            color:  #000000;\n",
       "        }    #T_25e31018_f37d_11e9_aba2_f0038c09fbe8row9_col4 {\n",
       "            background-color:  #93b8c3;\n",
       "            color:  #000000;\n",
       "        }    #T_25e31018_f37d_11e9_aba2_f0038c09fbe8row9_col5 {\n",
       "            background-color:  #a1c2cc;\n",
       "            color:  #000000;\n",
       "        }    #T_25e31018_f37d_11e9_aba2_f0038c09fbe8row9_col6 {\n",
       "            background-color:  #3f7f93;\n",
       "            color:  #000000;\n",
       "        }    #T_25e31018_f37d_11e9_aba2_f0038c09fbe8row9_col7 {\n",
       "            background-color:  #dfecef;\n",
       "            color:  #000000;\n",
       "        }    #T_25e31018_f37d_11e9_aba2_f0038c09fbe8row9_col8 {\n",
       "            background-color:  #e88286;\n",
       "            color:  #000000;\n",
       "        }    #T_25e31018_f37d_11e9_aba2_f0038c09fbe8row9_col9 {\n",
       "            background-color:  #da3a41;\n",
       "            color:  #f1f1f1;\n",
       "        }    #T_25e31018_f37d_11e9_aba2_f0038c09fbe8row9_col10 {\n",
       "            background-color:  #f7d6d7;\n",
       "            color:  #000000;\n",
       "        }    #T_25e31018_f37d_11e9_aba2_f0038c09fbe8row9_col11 {\n",
       "            background-color:  #eaf3f6;\n",
       "            color:  #000000;\n",
       "        }    #T_25e31018_f37d_11e9_aba2_f0038c09fbe8row10_col0 {\n",
       "            background-color:  #f4c3c5;\n",
       "            color:  #000000;\n",
       "        }    #T_25e31018_f37d_11e9_aba2_f0038c09fbe8row10_col1 {\n",
       "            background-color:  #7ca9b6;\n",
       "            color:  #000000;\n",
       "        }    #T_25e31018_f37d_11e9_aba2_f0038c09fbe8row10_col2 {\n",
       "            background-color:  #85aebb;\n",
       "            color:  #000000;\n",
       "        }    #T_25e31018_f37d_11e9_aba2_f0038c09fbe8row10_col3 {\n",
       "            background-color:  #81acb9;\n",
       "            color:  #000000;\n",
       "        }    #T_25e31018_f37d_11e9_aba2_f0038c09fbe8row10_col4 {\n",
       "            background-color:  #d1e2e7;\n",
       "            color:  #000000;\n",
       "        }    #T_25e31018_f37d_11e9_aba2_f0038c09fbe8row10_col5 {\n",
       "            background-color:  #d4e4e9;\n",
       "            color:  #000000;\n",
       "        }    #T_25e31018_f37d_11e9_aba2_f0038c09fbe8row10_col6 {\n",
       "            background-color:  #5b92a3;\n",
       "            color:  #000000;\n",
       "        }    #T_25e31018_f37d_11e9_aba2_f0038c09fbe8row10_col7 {\n",
       "            background-color:  #3f7f93;\n",
       "            color:  #000000;\n",
       "        }    #T_25e31018_f37d_11e9_aba2_f0038c09fbe8row10_col8 {\n",
       "            background-color:  #f2f2f2;\n",
       "            color:  #000000;\n",
       "        }    #T_25e31018_f37d_11e9_aba2_f0038c09fbe8row10_col9 {\n",
       "            background-color:  #f9e0e1;\n",
       "            color:  #000000;\n",
       "        }    #T_25e31018_f37d_11e9_aba2_f0038c09fbe8row10_col10 {\n",
       "            background-color:  #da3a41;\n",
       "            color:  #f1f1f1;\n",
       "        }    #T_25e31018_f37d_11e9_aba2_f0038c09fbe8row10_col11 {\n",
       "            background-color:  #cbdee4;\n",
       "            color:  #000000;\n",
       "        }    #T_25e31018_f37d_11e9_aba2_f0038c09fbe8row11_col0 {\n",
       "            background-color:  #82adba;\n",
       "            color:  #000000;\n",
       "        }    #T_25e31018_f37d_11e9_aba2_f0038c09fbe8row11_col1 {\n",
       "            background-color:  #bad2da;\n",
       "            color:  #000000;\n",
       "        }    #T_25e31018_f37d_11e9_aba2_f0038c09fbe8row11_col2 {\n",
       "            background-color:  #a6c5ce;\n",
       "            color:  #000000;\n",
       "        }    #T_25e31018_f37d_11e9_aba2_f0038c09fbe8row11_col3 {\n",
       "            background-color:  #adcad2;\n",
       "            color:  #000000;\n",
       "        }    #T_25e31018_f37d_11e9_aba2_f0038c09fbe8row11_col4 {\n",
       "            background-color:  #a3c3cc;\n",
       "            color:  #000000;\n",
       "        }    #T_25e31018_f37d_11e9_aba2_f0038c09fbe8row11_col5 {\n",
       "            background-color:  #e2eef1;\n",
       "            color:  #000000;\n",
       "        }    #T_25e31018_f37d_11e9_aba2_f0038c09fbe8row11_col6 {\n",
       "            background-color:  #3f7f93;\n",
       "            color:  #000000;\n",
       "        }    #T_25e31018_f37d_11e9_aba2_f0038c09fbe8row11_col7 {\n",
       "            background-color:  #cbdee4;\n",
       "            color:  #000000;\n",
       "        }    #T_25e31018_f37d_11e9_aba2_f0038c09fbe8row11_col8 {\n",
       "            background-color:  #d5e5ea;\n",
       "            color:  #000000;\n",
       "        }    #T_25e31018_f37d_11e9_aba2_f0038c09fbe8row11_col9 {\n",
       "            background-color:  #fae3e4;\n",
       "            color:  #000000;\n",
       "        }    #T_25e31018_f37d_11e9_aba2_f0038c09fbe8row11_col10 {\n",
       "            background-color:  #f2f2f2;\n",
       "            color:  #000000;\n",
       "        }    #T_25e31018_f37d_11e9_aba2_f0038c09fbe8row11_col11 {\n",
       "            background-color:  #da3a41;\n",
       "            color:  #f1f1f1;\n",
       "        }</style><table id=\"T_25e31018_f37d_11e9_aba2_f0038c09fbe8\" ><thead>    <tr>        <th class=\"blank level0\" ></th>        <th class=\"col_heading level0 col0\" >age</th>        <th class=\"col_heading level0 col1\" >chest_pain_tp</th>        <th class=\"col_heading level0 col2\" >rest_bld_press</th>        <th class=\"col_heading level0 col3\" >cholest</th>        <th class=\"col_heading level0 col4\" >f_sug_ovr_120</th>        <th class=\"col_heading level0 col5\" >rest_electro</th>        <th class=\"col_heading level0 col6\" >max_heart_rate</th>        <th class=\"col_heading level0 col7\" >ex_ind_chest_pain</th>        <th class=\"col_heading level0 col8\" >oldpeak</th>        <th class=\"col_heading level0 col9\" >peak_slope</th>        <th class=\"col_heading level0 col10\" >vessels</th>        <th class=\"col_heading level0 col11\" >thal</th>    </tr></thead><tbody>\n",
       "                <tr>\n",
       "                        <th id=\"T_25e31018_f37d_11e9_aba2_f0038c09fbe8level0_row0\" class=\"row_heading level0 row0\" >age</th>\n",
       "                        <td id=\"T_25e31018_f37d_11e9_aba2_f0038c09fbe8row0_col0\" class=\"data row0 col0\" >1</td>\n",
       "                        <td id=\"T_25e31018_f37d_11e9_aba2_f0038c09fbe8row0_col1\" class=\"data row0 col1\" >0.001</td>\n",
       "                        <td id=\"T_25e31018_f37d_11e9_aba2_f0038c09fbe8row0_col2\" class=\"data row0 col2\" >0.065</td>\n",
       "                        <td id=\"T_25e31018_f37d_11e9_aba2_f0038c09fbe8row0_col3\" class=\"data row0 col3\" >-0.42</td>\n",
       "                        <td id=\"T_25e31018_f37d_11e9_aba2_f0038c09fbe8row0_col4\" class=\"data row0 col4\" >-0.26</td>\n",
       "                        <td id=\"T_25e31018_f37d_11e9_aba2_f0038c09fbe8row0_col5\" class=\"data row0 col5\" >-0.15</td>\n",
       "                        <td id=\"T_25e31018_f37d_11e9_aba2_f0038c09fbe8row0_col6\" class=\"data row0 col6\" >0.13</td>\n",
       "                        <td id=\"T_25e31018_f37d_11e9_aba2_f0038c09fbe8row0_col7\" class=\"data row0 col7\" >-0.42</td>\n",
       "                        <td id=\"T_25e31018_f37d_11e9_aba2_f0038c09fbe8row0_col8\" class=\"data row0 col8\" >-0.11</td>\n",
       "                        <td id=\"T_25e31018_f37d_11e9_aba2_f0038c09fbe8row0_col9\" class=\"data row0 col9\" >0.018</td>\n",
       "                        <td id=\"T_25e31018_f37d_11e9_aba2_f0038c09fbe8row0_col10\" class=\"data row0 col10\" >0.47</td>\n",
       "                        <td id=\"T_25e31018_f37d_11e9_aba2_f0038c09fbe8row0_col11\" class=\"data row0 col11\" >-0.15</td>\n",
       "            </tr>\n",
       "            <tr>\n",
       "                        <th id=\"T_25e31018_f37d_11e9_aba2_f0038c09fbe8level0_row1\" class=\"row_heading level0 row1\" >chest_pain_tp</th>\n",
       "                        <td id=\"T_25e31018_f37d_11e9_aba2_f0038c09fbe8row1_col0\" class=\"data row1 col0\" >0.001</td>\n",
       "                        <td id=\"T_25e31018_f37d_11e9_aba2_f0038c09fbe8row1_col1\" class=\"data row1 col1\" >1</td>\n",
       "                        <td id=\"T_25e31018_f37d_11e9_aba2_f0038c09fbe8row1_col2\" class=\"data row1 col2\" >0.22</td>\n",
       "                        <td id=\"T_25e31018_f37d_11e9_aba2_f0038c09fbe8row1_col3\" class=\"data row1 col3\" >-0.057</td>\n",
       "                        <td id=\"T_25e31018_f37d_11e9_aba2_f0038c09fbe8row1_col4\" class=\"data row1 col4\" >-0.3</td>\n",
       "                        <td id=\"T_25e31018_f37d_11e9_aba2_f0038c09fbe8row1_col5\" class=\"data row1 col5\" >-0.028</td>\n",
       "                        <td id=\"T_25e31018_f37d_11e9_aba2_f0038c09fbe8row1_col6\" class=\"data row1 col6\" >0.15</td>\n",
       "                        <td id=\"T_25e31018_f37d_11e9_aba2_f0038c09fbe8row1_col7\" class=\"data row1 col7\" >0.31</td>\n",
       "                        <td id=\"T_25e31018_f37d_11e9_aba2_f0038c09fbe8row1_col8\" class=\"data row1 col8\" >0.3</td>\n",
       "                        <td id=\"T_25e31018_f37d_11e9_aba2_f0038c09fbe8row1_col9\" class=\"data row1 col9\" >0.38</td>\n",
       "                        <td id=\"T_25e31018_f37d_11e9_aba2_f0038c09fbe8row1_col10\" class=\"data row1 col10\" >-0.083</td>\n",
       "                        <td id=\"T_25e31018_f37d_11e9_aba2_f0038c09fbe8row1_col11\" class=\"data row1 col11\" >0.14</td>\n",
       "            </tr>\n",
       "            <tr>\n",
       "                        <th id=\"T_25e31018_f37d_11e9_aba2_f0038c09fbe8level0_row2\" class=\"row_heading level0 row2\" >rest_bld_press</th>\n",
       "                        <td id=\"T_25e31018_f37d_11e9_aba2_f0038c09fbe8row2_col0\" class=\"data row2 col0\" >0.065</td>\n",
       "                        <td id=\"T_25e31018_f37d_11e9_aba2_f0038c09fbe8row2_col1\" class=\"data row2 col1\" >0.22</td>\n",
       "                        <td id=\"T_25e31018_f37d_11e9_aba2_f0038c09fbe8row2_col2\" class=\"data row2 col2\" >1</td>\n",
       "                        <td id=\"T_25e31018_f37d_11e9_aba2_f0038c09fbe8row2_col3\" class=\"data row2 col3\" >-0.23</td>\n",
       "                        <td id=\"T_25e31018_f37d_11e9_aba2_f0038c09fbe8row2_col4\" class=\"data row2 col4\" >0.22</td>\n",
       "                        <td id=\"T_25e31018_f37d_11e9_aba2_f0038c09fbe8row2_col5\" class=\"data row2 col5\" >0.085</td>\n",
       "                        <td id=\"T_25e31018_f37d_11e9_aba2_f0038c09fbe8row2_col6\" class=\"data row2 col6\" >-0.12</td>\n",
       "                        <td id=\"T_25e31018_f37d_11e9_aba2_f0038c09fbe8row2_col7\" class=\"data row2 col7\" >0.21</td>\n",
       "                        <td id=\"T_25e31018_f37d_11e9_aba2_f0038c09fbe8row2_col8\" class=\"data row2 col8\" >0.25</td>\n",
       "                        <td id=\"T_25e31018_f37d_11e9_aba2_f0038c09fbe8row2_col9\" class=\"data row2 col9\" >0.33</td>\n",
       "                        <td id=\"T_25e31018_f37d_11e9_aba2_f0038c09fbe8row2_col10\" class=\"data row2 col10\" >0.0049</td>\n",
       "                        <td id=\"T_25e31018_f37d_11e9_aba2_f0038c09fbe8row2_col11\" class=\"data row2 col11\" >0.11</td>\n",
       "            </tr>\n",
       "            <tr>\n",
       "                        <th id=\"T_25e31018_f37d_11e9_aba2_f0038c09fbe8level0_row3\" class=\"row_heading level0 row3\" >cholest</th>\n",
       "                        <td id=\"T_25e31018_f37d_11e9_aba2_f0038c09fbe8row3_col0\" class=\"data row3 col0\" >-0.42</td>\n",
       "                        <td id=\"T_25e31018_f37d_11e9_aba2_f0038c09fbe8row3_col1\" class=\"data row3 col1\" >-0.057</td>\n",
       "                        <td id=\"T_25e31018_f37d_11e9_aba2_f0038c09fbe8row3_col2\" class=\"data row3 col2\" >-0.23</td>\n",
       "                        <td id=\"T_25e31018_f37d_11e9_aba2_f0038c09fbe8row3_col3\" class=\"data row3 col3\" >1</td>\n",
       "                        <td id=\"T_25e31018_f37d_11e9_aba2_f0038c09fbe8row3_col4\" class=\"data row3 col4\" >0.04</td>\n",
       "                        <td id=\"T_25e31018_f37d_11e9_aba2_f0038c09fbe8row3_col5\" class=\"data row3 col5\" >0.3</td>\n",
       "                        <td id=\"T_25e31018_f37d_11e9_aba2_f0038c09fbe8row3_col6\" class=\"data row3 col6\" >0.083</td>\n",
       "                        <td id=\"T_25e31018_f37d_11e9_aba2_f0038c09fbe8row3_col7\" class=\"data row3 col7\" >0.12</td>\n",
       "                        <td id=\"T_25e31018_f37d_11e9_aba2_f0038c09fbe8row3_col8\" class=\"data row3 col8\" >-0.11</td>\n",
       "                        <td id=\"T_25e31018_f37d_11e9_aba2_f0038c09fbe8row3_col9\" class=\"data row3 col9\" >-0.37</td>\n",
       "                        <td id=\"T_25e31018_f37d_11e9_aba2_f0038c09fbe8row3_col10\" class=\"data row3 col10\" >-0.16</td>\n",
       "                        <td id=\"T_25e31018_f37d_11e9_aba2_f0038c09fbe8row3_col11\" class=\"data row3 col11\" >0.0088</td>\n",
       "            </tr>\n",
       "            <tr>\n",
       "                        <th id=\"T_25e31018_f37d_11e9_aba2_f0038c09fbe8level0_row4\" class=\"row_heading level0 row4\" >f_sug_ovr_120</th>\n",
       "                        <td id=\"T_25e31018_f37d_11e9_aba2_f0038c09fbe8row4_col0\" class=\"data row4 col0\" >-0.26</td>\n",
       "                        <td id=\"T_25e31018_f37d_11e9_aba2_f0038c09fbe8row4_col1\" class=\"data row4 col1\" >-0.3</td>\n",
       "                        <td id=\"T_25e31018_f37d_11e9_aba2_f0038c09fbe8row4_col2\" class=\"data row4 col2\" >0.22</td>\n",
       "                        <td id=\"T_25e31018_f37d_11e9_aba2_f0038c09fbe8row4_col3\" class=\"data row4 col3\" >0.04</td>\n",
       "                        <td id=\"T_25e31018_f37d_11e9_aba2_f0038c09fbe8row4_col4\" class=\"data row4 col4\" >1</td>\n",
       "                        <td id=\"T_25e31018_f37d_11e9_aba2_f0038c09fbe8row4_col5\" class=\"data row4 col5\" >-0.031</td>\n",
       "                        <td id=\"T_25e31018_f37d_11e9_aba2_f0038c09fbe8row4_col6\" class=\"data row4 col6\" >-0.15</td>\n",
       "                        <td id=\"T_25e31018_f37d_11e9_aba2_f0038c09fbe8row4_col7\" class=\"data row4 col7\" >0.12</td>\n",
       "                        <td id=\"T_25e31018_f37d_11e9_aba2_f0038c09fbe8row4_col8\" class=\"data row4 col8\" >0.0071</td>\n",
       "                        <td id=\"T_25e31018_f37d_11e9_aba2_f0038c09fbe8row4_col9\" class=\"data row4 col9\" >0</td>\n",
       "                        <td id=\"T_25e31018_f37d_11e9_aba2_f0038c09fbe8row4_col10\" class=\"data row4 col10\" >0.22</td>\n",
       "                        <td id=\"T_25e31018_f37d_11e9_aba2_f0038c09fbe8row4_col11\" class=\"data row4 col11\" >0.058</td>\n",
       "            </tr>\n",
       "            <tr>\n",
       "                        <th id=\"T_25e31018_f37d_11e9_aba2_f0038c09fbe8level0_row5\" class=\"row_heading level0 row5\" >rest_electro</th>\n",
       "                        <td id=\"T_25e31018_f37d_11e9_aba2_f0038c09fbe8row5_col0\" class=\"data row5 col0\" >-0.15</td>\n",
       "                        <td id=\"T_25e31018_f37d_11e9_aba2_f0038c09fbe8row5_col1\" class=\"data row5 col1\" >-0.028</td>\n",
       "                        <td id=\"T_25e31018_f37d_11e9_aba2_f0038c09fbe8row5_col2\" class=\"data row5 col2\" >0.085</td>\n",
       "                        <td id=\"T_25e31018_f37d_11e9_aba2_f0038c09fbe8row5_col3\" class=\"data row5 col3\" >0.3</td>\n",
       "                        <td id=\"T_25e31018_f37d_11e9_aba2_f0038c09fbe8row5_col4\" class=\"data row5 col4\" >-0.031</td>\n",
       "                        <td id=\"T_25e31018_f37d_11e9_aba2_f0038c09fbe8row5_col5\" class=\"data row5 col5\" >1</td>\n",
       "                        <td id=\"T_25e31018_f37d_11e9_aba2_f0038c09fbe8row5_col6\" class=\"data row5 col6\" >0.22</td>\n",
       "                        <td id=\"T_25e31018_f37d_11e9_aba2_f0038c09fbe8row5_col7\" class=\"data row5 col7\" >-0.37</td>\n",
       "                        <td id=\"T_25e31018_f37d_11e9_aba2_f0038c09fbe8row5_col8\" class=\"data row5 col8\" >0.3</td>\n",
       "                        <td id=\"T_25e31018_f37d_11e9_aba2_f0038c09fbe8row5_col9\" class=\"data row5 col9\" >0</td>\n",
       "                        <td id=\"T_25e31018_f37d_11e9_aba2_f0038c09fbe8row5_col10\" class=\"data row5 col10\" >0.19</td>\n",
       "                        <td id=\"T_25e31018_f37d_11e9_aba2_f0038c09fbe8row5_col11\" class=\"data row5 col11\" >0.24</td>\n",
       "            </tr>\n",
       "            <tr>\n",
       "                        <th id=\"T_25e31018_f37d_11e9_aba2_f0038c09fbe8level0_row6\" class=\"row_heading level0 row6\" >max_heart_rate</th>\n",
       "                        <td id=\"T_25e31018_f37d_11e9_aba2_f0038c09fbe8row6_col0\" class=\"data row6 col0\" >0.13</td>\n",
       "                        <td id=\"T_25e31018_f37d_11e9_aba2_f0038c09fbe8row6_col1\" class=\"data row6 col1\" >0.15</td>\n",
       "                        <td id=\"T_25e31018_f37d_11e9_aba2_f0038c09fbe8row6_col2\" class=\"data row6 col2\" >-0.12</td>\n",
       "                        <td id=\"T_25e31018_f37d_11e9_aba2_f0038c09fbe8row6_col3\" class=\"data row6 col3\" >0.083</td>\n",
       "                        <td id=\"T_25e31018_f37d_11e9_aba2_f0038c09fbe8row6_col4\" class=\"data row6 col4\" >-0.15</td>\n",
       "                        <td id=\"T_25e31018_f37d_11e9_aba2_f0038c09fbe8row6_col5\" class=\"data row6 col5\" >0.22</td>\n",
       "                        <td id=\"T_25e31018_f37d_11e9_aba2_f0038c09fbe8row6_col6\" class=\"data row6 col6\" >1</td>\n",
       "                        <td id=\"T_25e31018_f37d_11e9_aba2_f0038c09fbe8row6_col7\" class=\"data row6 col7\" >0.099</td>\n",
       "                        <td id=\"T_25e31018_f37d_11e9_aba2_f0038c09fbe8row6_col8\" class=\"data row6 col8\" >-0.11</td>\n",
       "                        <td id=\"T_25e31018_f37d_11e9_aba2_f0038c09fbe8row6_col9\" class=\"data row6 col9\" >-0.2</td>\n",
       "                        <td id=\"T_25e31018_f37d_11e9_aba2_f0038c09fbe8row6_col10\" class=\"data row6 col10\" >-0.1</td>\n",
       "                        <td id=\"T_25e31018_f37d_11e9_aba2_f0038c09fbe8row6_col11\" class=\"data row6 col11\" >-0.2</td>\n",
       "            </tr>\n",
       "            <tr>\n",
       "                        <th id=\"T_25e31018_f37d_11e9_aba2_f0038c09fbe8level0_row7\" class=\"row_heading level0 row7\" >ex_ind_chest_pain</th>\n",
       "                        <td id=\"T_25e31018_f37d_11e9_aba2_f0038c09fbe8row7_col0\" class=\"data row7 col0\" >-0.42</td>\n",
       "                        <td id=\"T_25e31018_f37d_11e9_aba2_f0038c09fbe8row7_col1\" class=\"data row7 col1\" >0.31</td>\n",
       "                        <td id=\"T_25e31018_f37d_11e9_aba2_f0038c09fbe8row7_col2\" class=\"data row7 col2\" >0.21</td>\n",
       "                        <td id=\"T_25e31018_f37d_11e9_aba2_f0038c09fbe8row7_col3\" class=\"data row7 col3\" >0.12</td>\n",
       "                        <td id=\"T_25e31018_f37d_11e9_aba2_f0038c09fbe8row7_col4\" class=\"data row7 col4\" >0.12</td>\n",
       "                        <td id=\"T_25e31018_f37d_11e9_aba2_f0038c09fbe8row7_col5\" class=\"data row7 col5\" >-0.37</td>\n",
       "                        <td id=\"T_25e31018_f37d_11e9_aba2_f0038c09fbe8row7_col6\" class=\"data row7 col6\" >0.099</td>\n",
       "                        <td id=\"T_25e31018_f37d_11e9_aba2_f0038c09fbe8row7_col7\" class=\"data row7 col7\" >1</td>\n",
       "                        <td id=\"T_25e31018_f37d_11e9_aba2_f0038c09fbe8row7_col8\" class=\"data row7 col8\" >-0.056</td>\n",
       "                        <td id=\"T_25e31018_f37d_11e9_aba2_f0038c09fbe8row7_col9\" class=\"data row7 col9\" >0.18</td>\n",
       "                        <td id=\"T_25e31018_f37d_11e9_aba2_f0038c09fbe8row7_col10\" class=\"data row7 col10\" >-0.46</td>\n",
       "                        <td id=\"T_25e31018_f37d_11e9_aba2_f0038c09fbe8row7_col11\" class=\"data row7 col11\" >0.1</td>\n",
       "            </tr>\n",
       "            <tr>\n",
       "                        <th id=\"T_25e31018_f37d_11e9_aba2_f0038c09fbe8level0_row8\" class=\"row_heading level0 row8\" >oldpeak</th>\n",
       "                        <td id=\"T_25e31018_f37d_11e9_aba2_f0038c09fbe8row8_col0\" class=\"data row8 col0\" >-0.11</td>\n",
       "                        <td id=\"T_25e31018_f37d_11e9_aba2_f0038c09fbe8row8_col1\" class=\"data row8 col1\" >0.3</td>\n",
       "                        <td id=\"T_25e31018_f37d_11e9_aba2_f0038c09fbe8row8_col2\" class=\"data row8 col2\" >0.25</td>\n",
       "                        <td id=\"T_25e31018_f37d_11e9_aba2_f0038c09fbe8row8_col3\" class=\"data row8 col3\" >-0.11</td>\n",
       "                        <td id=\"T_25e31018_f37d_11e9_aba2_f0038c09fbe8row8_col4\" class=\"data row8 col4\" >0.0071</td>\n",
       "                        <td id=\"T_25e31018_f37d_11e9_aba2_f0038c09fbe8row8_col5\" class=\"data row8 col5\" >0.3</td>\n",
       "                        <td id=\"T_25e31018_f37d_11e9_aba2_f0038c09fbe8row8_col6\" class=\"data row8 col6\" >-0.11</td>\n",
       "                        <td id=\"T_25e31018_f37d_11e9_aba2_f0038c09fbe8row8_col7\" class=\"data row8 col7\" >-0.056</td>\n",
       "                        <td id=\"T_25e31018_f37d_11e9_aba2_f0038c09fbe8row8_col8\" class=\"data row8 col8\" >1</td>\n",
       "                        <td id=\"T_25e31018_f37d_11e9_aba2_f0038c09fbe8row8_col9\" class=\"data row8 col9\" >0.78</td>\n",
       "                        <td id=\"T_25e31018_f37d_11e9_aba2_f0038c09fbe8row8_col10\" class=\"data row8 col10\" >0.45</td>\n",
       "                        <td id=\"T_25e31018_f37d_11e9_aba2_f0038c09fbe8row8_col11\" class=\"data row8 col11\" >0.34</td>\n",
       "            </tr>\n",
       "            <tr>\n",
       "                        <th id=\"T_25e31018_f37d_11e9_aba2_f0038c09fbe8level0_row9\" class=\"row_heading level0 row9\" >peak_slope</th>\n",
       "                        <td id=\"T_25e31018_f37d_11e9_aba2_f0038c09fbe8row9_col0\" class=\"data row9 col0\" >0.018</td>\n",
       "                        <td id=\"T_25e31018_f37d_11e9_aba2_f0038c09fbe8row9_col1\" class=\"data row9 col1\" >0.38</td>\n",
       "                        <td id=\"T_25e31018_f37d_11e9_aba2_f0038c09fbe8row9_col2\" class=\"data row9 col2\" >0.33</td>\n",
       "                        <td id=\"T_25e31018_f37d_11e9_aba2_f0038c09fbe8row9_col3\" class=\"data row9 col3\" >-0.37</td>\n",
       "                        <td id=\"T_25e31018_f37d_11e9_aba2_f0038c09fbe8row9_col4\" class=\"data row9 col4\" >0</td>\n",
       "                        <td id=\"T_25e31018_f37d_11e9_aba2_f0038c09fbe8row9_col5\" class=\"data row9 col5\" >0</td>\n",
       "                        <td id=\"T_25e31018_f37d_11e9_aba2_f0038c09fbe8row9_col6\" class=\"data row9 col6\" >-0.2</td>\n",
       "                        <td id=\"T_25e31018_f37d_11e9_aba2_f0038c09fbe8row9_col7\" class=\"data row9 col7\" >0.18</td>\n",
       "                        <td id=\"T_25e31018_f37d_11e9_aba2_f0038c09fbe8row9_col8\" class=\"data row9 col8\" >0.78</td>\n",
       "                        <td id=\"T_25e31018_f37d_11e9_aba2_f0038c09fbe8row9_col9\" class=\"data row9 col9\" >1</td>\n",
       "                        <td id=\"T_25e31018_f37d_11e9_aba2_f0038c09fbe8row9_col10\" class=\"data row9 col10\" >0.38</td>\n",
       "                        <td id=\"T_25e31018_f37d_11e9_aba2_f0038c09fbe8row9_col11\" class=\"data row9 col11\" >0.37</td>\n",
       "            </tr>\n",
       "            <tr>\n",
       "                        <th id=\"T_25e31018_f37d_11e9_aba2_f0038c09fbe8level0_row10\" class=\"row_heading level0 row10\" >vessels</th>\n",
       "                        <td id=\"T_25e31018_f37d_11e9_aba2_f0038c09fbe8row10_col0\" class=\"data row10 col0\" >0.47</td>\n",
       "                        <td id=\"T_25e31018_f37d_11e9_aba2_f0038c09fbe8row10_col1\" class=\"data row10 col1\" >-0.083</td>\n",
       "                        <td id=\"T_25e31018_f37d_11e9_aba2_f0038c09fbe8row10_col2\" class=\"data row10 col2\" >0.0049</td>\n",
       "                        <td id=\"T_25e31018_f37d_11e9_aba2_f0038c09fbe8row10_col3\" class=\"data row10 col3\" >-0.16</td>\n",
       "                        <td id=\"T_25e31018_f37d_11e9_aba2_f0038c09fbe8row10_col4\" class=\"data row10 col4\" >0.22</td>\n",
       "                        <td id=\"T_25e31018_f37d_11e9_aba2_f0038c09fbe8row10_col5\" class=\"data row10 col5\" >0.19</td>\n",
       "                        <td id=\"T_25e31018_f37d_11e9_aba2_f0038c09fbe8row10_col6\" class=\"data row10 col6\" >-0.1</td>\n",
       "                        <td id=\"T_25e31018_f37d_11e9_aba2_f0038c09fbe8row10_col7\" class=\"data row10 col7\" >-0.46</td>\n",
       "                        <td id=\"T_25e31018_f37d_11e9_aba2_f0038c09fbe8row10_col8\" class=\"data row10 col8\" >0.45</td>\n",
       "                        <td id=\"T_25e31018_f37d_11e9_aba2_f0038c09fbe8row10_col9\" class=\"data row10 col9\" >0.38</td>\n",
       "                        <td id=\"T_25e31018_f37d_11e9_aba2_f0038c09fbe8row10_col10\" class=\"data row10 col10\" >1</td>\n",
       "                        <td id=\"T_25e31018_f37d_11e9_aba2_f0038c09fbe8row10_col11\" class=\"data row10 col11\" >0.26</td>\n",
       "            </tr>\n",
       "            <tr>\n",
       "                        <th id=\"T_25e31018_f37d_11e9_aba2_f0038c09fbe8level0_row11\" class=\"row_heading level0 row11\" >thal</th>\n",
       "                        <td id=\"T_25e31018_f37d_11e9_aba2_f0038c09fbe8row11_col0\" class=\"data row11 col0\" >-0.15</td>\n",
       "                        <td id=\"T_25e31018_f37d_11e9_aba2_f0038c09fbe8row11_col1\" class=\"data row11 col1\" >0.14</td>\n",
       "                        <td id=\"T_25e31018_f37d_11e9_aba2_f0038c09fbe8row11_col2\" class=\"data row11 col2\" >0.11</td>\n",
       "                        <td id=\"T_25e31018_f37d_11e9_aba2_f0038c09fbe8row11_col3\" class=\"data row11 col3\" >0.0088</td>\n",
       "                        <td id=\"T_25e31018_f37d_11e9_aba2_f0038c09fbe8row11_col4\" class=\"data row11 col4\" >0.058</td>\n",
       "                        <td id=\"T_25e31018_f37d_11e9_aba2_f0038c09fbe8row11_col5\" class=\"data row11 col5\" >0.24</td>\n",
       "                        <td id=\"T_25e31018_f37d_11e9_aba2_f0038c09fbe8row11_col6\" class=\"data row11 col6\" >-0.2</td>\n",
       "                        <td id=\"T_25e31018_f37d_11e9_aba2_f0038c09fbe8row11_col7\" class=\"data row11 col7\" >0.1</td>\n",
       "                        <td id=\"T_25e31018_f37d_11e9_aba2_f0038c09fbe8row11_col8\" class=\"data row11 col8\" >0.34</td>\n",
       "                        <td id=\"T_25e31018_f37d_11e9_aba2_f0038c09fbe8row11_col9\" class=\"data row11 col9\" >0.37</td>\n",
       "                        <td id=\"T_25e31018_f37d_11e9_aba2_f0038c09fbe8row11_col10\" class=\"data row11 col10\" >0.26</td>\n",
       "                        <td id=\"T_25e31018_f37d_11e9_aba2_f0038c09fbe8row11_col11\" class=\"data row11 col11\" >1</td>\n",
       "            </tr>\n",
       "    </tbody></table>"
      ],
      "text/plain": [
       "<pandas.io.formats.style.Styler at 0x2677d882da0>"
      ]
     },
     "execution_count": 6,
     "metadata": {},
     "output_type": "execute_result"
    }
   ],
   "source": [
    "corr = disease_yes_female.corr()\n",
    "# Generate a custom diverging colormap\n",
    "custom = sns.diverging_palette(220, 11, as_cmap=True)\n",
    "corr.style.background_gradient(cmap=custom).set_precision(2)"
   ]
  },
  {
   "cell_type": "markdown",
   "metadata": {},
   "source": [
    " We can see some differences in the correlation matrixes, and we will work on these on part 4.\n",
    " Before we move any forward it would be best if we replace the numeric categorical values into more readable values"
   ]
  },
  {
   "cell_type": "code",
   "execution_count": 7,
   "metadata": {
    "scrolled": true
   },
   "outputs": [
    {
     "data": {
      "text/html": [
       "<div>\n",
       "<style scoped>\n",
       "    .dataframe tbody tr th:only-of-type {\n",
       "        vertical-align: middle;\n",
       "    }\n",
       "\n",
       "    .dataframe tbody tr th {\n",
       "        vertical-align: top;\n",
       "    }\n",
       "\n",
       "    .dataframe thead th {\n",
       "        text-align: right;\n",
       "    }\n",
       "</style>\n",
       "<table border=\"1\" class=\"dataframe\">\n",
       "  <thead>\n",
       "    <tr style=\"text-align: right;\">\n",
       "      <th></th>\n",
       "      <th>age</th>\n",
       "      <th>sex</th>\n",
       "      <th>chest_pain_tp</th>\n",
       "      <th>rest_bld_press</th>\n",
       "      <th>cholest</th>\n",
       "      <th>f_sug_ovr_120</th>\n",
       "      <th>rest_electro</th>\n",
       "      <th>max_heart_rate</th>\n",
       "      <th>ex_ind_chest_pain</th>\n",
       "      <th>oldpeak</th>\n",
       "      <th>peak_slope</th>\n",
       "      <th>vessels</th>\n",
       "      <th>thal</th>\n",
       "      <th>disease</th>\n",
       "    </tr>\n",
       "  </thead>\n",
       "  <tbody>\n",
       "    <tr>\n",
       "      <th>0</th>\n",
       "      <td>70.0</td>\n",
       "      <td>Male</td>\n",
       "      <td>asymptomatic</td>\n",
       "      <td>130.0</td>\n",
       "      <td>322.0</td>\n",
       "      <td>No</td>\n",
       "      <td>2.0</td>\n",
       "      <td>109.0</td>\n",
       "      <td>No</td>\n",
       "      <td>2.4</td>\n",
       "      <td>flat</td>\n",
       "      <td>3.0</td>\n",
       "      <td>normal</td>\n",
       "      <td>Yes</td>\n",
       "    </tr>\n",
       "    <tr>\n",
       "      <th>1</th>\n",
       "      <td>67.0</td>\n",
       "      <td>Female</td>\n",
       "      <td>non-anginal pain</td>\n",
       "      <td>115.0</td>\n",
       "      <td>564.0</td>\n",
       "      <td>No</td>\n",
       "      <td>2.0</td>\n",
       "      <td>160.0</td>\n",
       "      <td>No</td>\n",
       "      <td>1.6</td>\n",
       "      <td>flat</td>\n",
       "      <td>0.0</td>\n",
       "      <td>reversable defect</td>\n",
       "      <td>No</td>\n",
       "    </tr>\n",
       "    <tr>\n",
       "      <th>2</th>\n",
       "      <td>57.0</td>\n",
       "      <td>Male</td>\n",
       "      <td>atypical angina</td>\n",
       "      <td>124.0</td>\n",
       "      <td>261.0</td>\n",
       "      <td>No</td>\n",
       "      <td>0.0</td>\n",
       "      <td>141.0</td>\n",
       "      <td>No</td>\n",
       "      <td>0.3</td>\n",
       "      <td>upsloping</td>\n",
       "      <td>0.0</td>\n",
       "      <td>reversable defect</td>\n",
       "      <td>Yes</td>\n",
       "    </tr>\n",
       "    <tr>\n",
       "      <th>3</th>\n",
       "      <td>64.0</td>\n",
       "      <td>Male</td>\n",
       "      <td>asymptomatic</td>\n",
       "      <td>128.0</td>\n",
       "      <td>263.0</td>\n",
       "      <td>No</td>\n",
       "      <td>0.0</td>\n",
       "      <td>105.0</td>\n",
       "      <td>Yes</td>\n",
       "      <td>0.2</td>\n",
       "      <td>flat</td>\n",
       "      <td>1.0</td>\n",
       "      <td>reversable defect</td>\n",
       "      <td>No</td>\n",
       "    </tr>\n",
       "    <tr>\n",
       "      <th>4</th>\n",
       "      <td>74.0</td>\n",
       "      <td>Female</td>\n",
       "      <td>atypical angina</td>\n",
       "      <td>120.0</td>\n",
       "      <td>269.0</td>\n",
       "      <td>No</td>\n",
       "      <td>2.0</td>\n",
       "      <td>121.0</td>\n",
       "      <td>Yes</td>\n",
       "      <td>0.2</td>\n",
       "      <td>upsloping</td>\n",
       "      <td>1.0</td>\n",
       "      <td>normal</td>\n",
       "      <td>No</td>\n",
       "    </tr>\n",
       "  </tbody>\n",
       "</table>\n",
       "</div>"
      ],
      "text/plain": [
       "    age     sex     chest_pain_tp  rest_bld_press  cholest f_sug_ovr_120  \\\n",
       "0  70.0    Male      asymptomatic           130.0    322.0            No   \n",
       "1  67.0  Female  non-anginal pain           115.0    564.0            No   \n",
       "2  57.0    Male   atypical angina           124.0    261.0            No   \n",
       "3  64.0    Male      asymptomatic           128.0    263.0            No   \n",
       "4  74.0  Female   atypical angina           120.0    269.0            No   \n",
       "\n",
       "   rest_electro  max_heart_rate ex_ind_chest_pain  oldpeak peak_slope  \\\n",
       "0           2.0           109.0                No      2.4       flat   \n",
       "1           2.0           160.0                No      1.6       flat   \n",
       "2           0.0           141.0                No      0.3  upsloping   \n",
       "3           0.0           105.0               Yes      0.2       flat   \n",
       "4           2.0           121.0               Yes      0.2  upsloping   \n",
       "\n",
       "   vessels               thal disease  \n",
       "0      3.0             normal     Yes  \n",
       "1      0.0  reversable defect      No  \n",
       "2      0.0  reversable defect     Yes  \n",
       "3      1.0  reversable defect      No  \n",
       "4      1.0             normal      No  "
      ]
     },
     "execution_count": 7,
     "metadata": {},
     "output_type": "execute_result"
    }
   ],
   "source": [
    "# Replacing all the 0s with Female and all the 1s with Male\n",
    "df.sex.replace({0: 'Female', 1: 'Male'}, inplace = True)\n",
    "# Replace the 1 and 2 with No and Yes respectively\n",
    "df.disease.replace({1: 'No', 2: 'Yes'}, inplace = True)\n",
    "# Replace the values with the terminology\n",
    "df['chest_pain_tp'].replace({1.0: 'typical angina', 2.0: 'atypical angina', 3.0: 'non-anginal pain', 4.0: 'asymptomatic'}, inplace = True)\n",
    "# Replacing all the 0s with NO and 1s with YES\n",
    "df['f_sug_ovr_120'].replace({0: 'No', 1: 'Yes'}, inplace = True)\n",
    "# Replacing all the 0s with NO and 1s with YES\n",
    "df['ex_ind_chest_pain'].replace({0: 'No', 1: 'Yes'}, inplace = True)\n",
    "# Replace the values with the terminology\n",
    "df['peak_slope'].replace({1.0: 'upsloping', 2.0: 'flat', 3.0: 'downsloping'}, inplace = True)\n",
    "# Replace the values with the terminology\n",
    "df['thal'].replace({3.0: 'normal', 6.0: 'fixed defect', 7.0: 'reversable defect'}, inplace = True)\n",
    "# Printing all the first 5 values\n",
    "df.head()"
   ]
  },
  {
   "cell_type": "markdown",
   "metadata": {},
   "source": [
    "###### Now we will replace certain values to make it more intuitive to analyze. The values correspond to the columns below:\n",
    " - sex\n",
    " - fasting blood sugar > 120\n",
    " - chest pain type\n",
    " - exercise ind chest pain\n",
    " - disease\n",
    " - slope of peak\n",
    " - thal\n",
    "\n",
    "Then we will use the head() function to check that the values are correct."
   ]
  },
  {
   "cell_type": "markdown",
   "metadata": {},
   "source": [
    "###### Now we will check if there is any null values in the data and some summary statistics"
   ]
  },
  {
   "cell_type": "code",
   "execution_count": 8,
   "metadata": {},
   "outputs": [
    {
     "data": {
      "text/plain": [
       "age                  0\n",
       "sex                  0\n",
       "chest_pain_tp        0\n",
       "rest_bld_press       0\n",
       "cholest              0\n",
       "f_sug_ovr_120        0\n",
       "rest_electro         0\n",
       "max_heart_rate       0\n",
       "ex_ind_chest_pain    0\n",
       "oldpeak              0\n",
       "peak_slope           0\n",
       "vessels              0\n",
       "thal                 0\n",
       "disease              0\n",
       "dtype: int64"
      ]
     },
     "execution_count": 8,
     "metadata": {},
     "output_type": "execute_result"
    }
   ],
   "source": [
    "# Are there any Null values\n",
    "df.isna().sum() # Oh No null, values how \"Lucky\"?"
   ]
  },
  {
   "cell_type": "markdown",
   "metadata": {},
   "source": [
    "##### The following is the rule that we will follow for Visualisation\n",
    "- if Categorical then Bar Plot\n",
    "- if Continous Numeric then Histogram or BoxPlot\n",
    "- We will provide on the left matplotlib and on the right seaborn graph."
   ]
  },
  {
   "cell_type": "markdown",
   "metadata": {},
   "source": [
    "### Attribute 1: Sex\n",
    "Summary statistics for Sex attribute by providing a bar graph"
   ]
  },
  {
   "cell_type": "code",
   "execution_count": 9,
   "metadata": {},
   "outputs": [
    {
     "name": "stdout",
     "output_type": "stream",
     "text": [
      "\t\t\t\t\"Statistical Summary & Visualisation\"\n",
      "\n",
      "counts \n",
      "Male      183\n",
      "Female     87\n",
      "Name: sex, dtype: int64\n",
      "\n",
      "percentages \n",
      "Male      67.777778\n",
      "Female    32.222222\n",
      "Name: sex, dtype: float64\n",
      "Visualisation\n",
      "\n"
     ]
    },
    {
     "data": {
      "image/png": "[encoded data removed]",
      "text/plain": [
       "<Figure size 1080x360 with 2 Axes>"
      ]
     },
     "metadata": {
      "needs_background": "light"
     },
     "output_type": "display_data"
    }
   ],
   "source": [
    "# Counting the Number of Males and Females that are in the Data sets\n",
    "print(\"\\t\\t\\t\\t\\\"Statistical Summary & Visualisation\\\"\\n\")\n",
    "print(\"counts \\n\" + str(df['sex'].value_counts()))\n",
    "# Showing percentages\n",
    "print(\"\\npercentages \\n\" + str(df['sex'].value_counts(normalize=True).mul(100)))\n",
    "# Creating a figure with two subplots in the same row\n",
    "# Setting the Size of the subplots\n",
    "print(\"Visualisation\\n\")\n",
    "fig = plt.figure(figsize=(15,5))\n",
    "plt.subplot(1, 2, 1)\n",
    "df['sex'].value_counts().plot(kind='bar',color=[\"blue\",\"orange\"])\n",
    "plt.ylabel('Counts')\n",
    "plt.xticks(rotation='horizontal')\n",
    "plt.title('Sex distribution')\n",
    "plt.subplot(1, 2, 2)\n",
    "sns.countplot(x='sex', data=df).set_title('Sex distribution')\n",
    "plt.show();"
   ]
  },
  {
   "cell_type": "markdown",
   "metadata": {},
   "source": [
    "The bar graph above shows the frequency distribution between Males and Females where there are 183 Males representing 68% percentage of the total, and there is 87 woman which represents 32% of the total.\n",
    "The Number of Male patients is a lot more than the number of women patients\n",
    "\n"
   ]
  },
  {
   "cell_type": "markdown",
   "metadata": {},
   "source": [
    "### Attribute 2: Age\n",
    "summary statistics for Age attribute by providing a Histogram graph"
   ]
  },
  {
   "cell_type": "code",
   "execution_count": 10,
   "metadata": {},
   "outputs": [
    {
     "name": "stdout",
     "output_type": "stream",
     "text": [
      "\t\t\t\t\"Statistical Summary & Visualisation\"\n",
      "\n",
      "count    270.000000\n",
      "mean      54.433333\n",
      "std        9.109067\n",
      "min       29.000000\n",
      "25%       48.000000\n",
      "50%       55.000000\n",
      "75%       61.000000\n",
      "max       77.000000\n",
      "Name: age, dtype: float64\n"
     ]
    },
    {
     "data": {
      "image/png": "[encoded data removed]",
      "text/plain": [
       "<Figure size 1080x360 with 2 Axes>"
      ]
     },
     "metadata": {
      "needs_background": "light"
     },
     "output_type": "display_data"
    }
   ],
   "source": [
    "print(\"\\t\\t\\t\\t\\\"Statistical Summary & Visualisation\\\"\\n\")\n",
    "print(df['age'].describe())\n",
    "# Creating a figure with two subplots in the same row\n",
    "fig = plt.figure(figsize=(15,5))\n",
    "plt.subplot(1, 2, 1)\n",
    "# define a Matplotlib figure\n",
    "# define the plot you want to generate\n",
    "plt.hist(df['age'])\n",
    "#plt.subplot(111)\n",
    "# define a title for the plot\n",
    "plt.title('Ages Distribution')\n",
    "# define the number of bins for the histogram + which plot axis they will\n",
    "# # Matplotlib\n",
    "plt.ylabel('Counts')\n",
    "plt.xlabel('Age')\n",
    "plt.locator_params(nbins=10, axis = 'x')\n",
    "plt.subplot(1, 2, 2)\n",
    "sns.distplot(df['age'],kde=False, bins = 10).set_title('Ages Distribution')\n",
    "plt.show();"
   ]
  },
  {
   "cell_type": "markdown",
   "metadata": {},
   "source": [
    "This histogram shows the distribution of the age variable across all patients. The Distribution is \"Negatively Skewed\" and it looks like the mean of the ages seems to be 54.4 years which, However, the data seems to be centralized around the 60 age mark meaning that the majority of patients are between 55 to 65."
   ]
  },
  {
   "cell_type": "markdown",
   "metadata": {},
   "source": [
    "### Attribute 3: Chest pain type\n",
    "summary statistics for chest paint type attribute by providing a bar graph"
   ]
  },
  {
   "cell_type": "code",
   "execution_count": 11,
   "metadata": {},
   "outputs": [
    {
     "name": "stdout",
     "output_type": "stream",
     "text": [
      "\t\t\t\t\"Statistical Summary & Visualisation\"\n",
      "\n",
      "counts \n",
      "asymptomatic        129\n",
      "non-anginal pain     79\n",
      "atypical angina      42\n",
      "typical angina       20\n",
      "Name: chest_pain_tp, dtype: int64\n",
      "\n",
      "percentages \n",
      "asymptomatic        47.777778\n",
      "non-anginal pain    29.259259\n",
      "atypical angina     15.555556\n",
      "typical angina       7.407407\n",
      "Name: chest_pain_tp, dtype: float64\n"
     ]
    },
    {
     "data": {
      "image/png": "[encoded data removed]",
      "text/plain": [
       "<Figure size 1080x360 with 2 Axes>"
      ]
     },
     "metadata": {
      "needs_background": "light"
     },
     "output_type": "display_data"
    }
   ],
   "source": [
    "# Showing counts\n",
    "print(\"\\t\\t\\t\\t\\\"Statistical Summary & Visualisation\\\"\\n\")\n",
    "print(\"counts \\n\" + str(df['chest_pain_tp'].value_counts()))\n",
    "# Showing percentages\n",
    "print(\"\\npercentages \\n\" + str(df['chest_pain_tp'].value_counts(normalize=True).mul(100)))\n",
    "# Creating a figure with two subplots in the same row\n",
    "fig = plt.figure(figsize=(15,5))\n",
    "plt.subplot(1, 2, 1)\n",
    "df['chest_pain_tp'].value_counts().plot(kind='bar',color=['blue','orange','green','red'])\n",
    "plt.ylabel('Counts')\n",
    "plt.xticks(rotation='horizontal')\n",
    "plt.title('Chest Pain Type Distribution')\n",
    "plt.subplot(1, 2, 2)\n",
    "chart = sns.countplot(x='chest_pain_tp', data=df)\n",
    "#chart.set_xticklabels(chart.get_xticklabels())\n",
    "chart.set_title(\"Chest Pain Type Distribution\")\n",
    "plt.show();"
   ]
  },
  {
   "cell_type": "markdown",
   "metadata": {},
   "source": [
    "This Histogram explains the Frequency distribution of the chest pain types which vary amongst the following types:\n",
    "- A)asymptomatic\n",
    "- B)non-anginal \n",
    "- C)atypical \n",
    "- D)typical angina\n",
    "\n",
    "The types are ranked in descending order as follows: So 'asymptomatic' is the category with the most amount of records and 'typical angina' the one with the least amount of occurrences.\n",
    "\n"
   ]
  },
  {
   "cell_type": "markdown",
   "metadata": {},
   "source": [
    "### Attribute 4: blood pressure\n",
    "summary statistics for blood pressure attribute by providing a histogram graph"
   ]
  },
  {
   "cell_type": "code",
   "execution_count": 12,
   "metadata": {},
   "outputs": [
    {
     "name": "stdout",
     "output_type": "stream",
     "text": [
      "\t\t\t\t\"Statistical Summary & Visualisation\"\n",
      "\n",
      "count    270.000000\n",
      "mean     131.344444\n",
      "std       17.861608\n",
      "min       94.000000\n",
      "25%      120.000000\n",
      "50%      130.000000\n",
      "75%      140.000000\n",
      "max      200.000000\n",
      "Name: rest_bld_press, dtype: float64\n"
     ]
    },
    {
     "data": {
      "image/png": "[encoded data removed]",
      "text/plain": [
       "<Figure size 1080x360 with 2 Axes>"
      ]
     },
     "metadata": {
      "needs_background": "light"
     },
     "output_type": "display_data"
    }
   ],
   "source": [
    "print(\"\\t\\t\\t\\t\\\"Statistical Summary & Visualisation\\\"\\n\")\n",
    "print(df['rest_bld_press'].describe())\n",
    "# Creating a figure with two subplots in the same row\n",
    "fig = plt.figure(figsize=(15,5))\n",
    "plt.subplot(1, 2, 1)\n",
    "# define the plot you want to generate\n",
    "plt.hist(df['rest_bld_press'])\n",
    "#plt.subplot(111)\n",
    "# define a title for the plot\n",
    "plt.title('Resting Blood Pressure mm/Hg Distribution')\n",
    "# define the number of bins for the histogram + which plot axis they will\n",
    "# # Matplotlib\n",
    "plt.ylabel('Counts')\n",
    "plt.xlabel(\"Resting Blood Pressure\")\n",
    "plt.locator_params(nbins=10, axis = 'x')\n",
    "plt.subplot(1, 2, 2)\n",
    "\n",
    "sns.distplot(df['rest_bld_press'],kde=False, bins = 10).set_title('Resting Blood Pressure mm/Hg Distribution');\n",
    "plt.show();"
   ]
  },
  {
   "cell_type": "markdown",
   "metadata": {},
   "source": [
    "This histogram shows the distribution of the resting blood pressure variable (in mm/Hg: millimeters of mercury) across all patients. It is \"Positively Skewed\" and according to the statistics it looks like the mean is 131.34, the data is centralized between & around both 120 and 140.\n"
   ]
  },
  {
   "cell_type": "markdown",
   "metadata": {},
   "source": [
    "### Attribute 5: serum cholesterol\n",
    "summary statistics for serum cholesteral attribute by providing a histogram graph"
   ]
  },
  {
   "cell_type": "code",
   "execution_count": 13,
   "metadata": {},
   "outputs": [
    {
     "name": "stdout",
     "output_type": "stream",
     "text": [
      "\t\t\t\t\"Statistical Summary & Visualisation\"\n",
      "\n",
      "count    270.000000\n",
      "mean     249.659259\n",
      "std       51.686237\n",
      "min      126.000000\n",
      "25%      213.000000\n",
      "50%      245.000000\n",
      "75%      280.000000\n",
      "max      564.000000\n",
      "Name: cholest, dtype: float64\n"
     ]
    },
    {
     "data": {
      "image/png": "[encoded data removed]",
      "text/plain": [
       "<Figure size 1080x360 with 2 Axes>"
      ]
     },
     "metadata": {
      "needs_background": "light"
     },
     "output_type": "display_data"
    }
   ],
   "source": [
    "print(\"\\t\\t\\t\\t\\\"Statistical Summary & Visualisation\\\"\\n\")\n",
    "print(df['cholest'].describe())\n",
    "# Creating a figure with two subplots in the same row\n",
    "fig = plt.figure(figsize=(15,5))\n",
    "plt.subplot(1, 2, 1)\n",
    "# define the plot you want to generate\n",
    "plt.hist(df['cholest'])\n",
    "#plt.subplot(111)\n",
    "# define a title for the plot\n",
    "plt.title('Serum Cholesterol mg/dl Distribution')\n",
    "# define the number of bins for the histogram + which plot axis they will\n",
    "# # Matplotlib\n",
    "plt.locator_params(nbins=10, axis = 'x')\n",
    "plt.ylabel('Counts')\n",
    "plt.xlabel('serum_cholesterol')\n",
    "\n",
    "plt.subplot(1, 2, 2)\n",
    "sns.distplot(df['cholest'],kde=False, bins = 10).set_title(\"Serum Cholesterol mg/dl Distribution\")\n",
    "plt.show();"
   ]
  },
  {
   "cell_type": "markdown",
   "metadata": {},
   "source": [
    "This histogram shows an idea on the distribution of the serum cholesterol (in mg/dl) across all patients and according to the statistics it looks like the mean is 249.65 mg/dl. The data is \"Positively Skewed\" with the data centralized around 250.\n",
    "\n"
   ]
  },
  {
   "cell_type": "markdown",
   "metadata": {},
   "source": [
    "### Attribute 6: fasting blood sugar over 120\n",
    "summary statistics for fasting blood sugar over 120 attribute by providing a bar graph"
   ]
  },
  {
   "cell_type": "code",
   "execution_count": 14,
   "metadata": {},
   "outputs": [
    {
     "name": "stdout",
     "output_type": "stream",
     "text": [
      "\t\t\t\t\"Statistical Summary & Visualisation\"\n",
      "\n",
      "counts \n",
      "No     230\n",
      "Yes     40\n",
      "Name: f_sug_ovr_120, dtype: int64\n",
      "\n",
      "percentages \n",
      "No     85.185185\n",
      "Yes    14.814815\n",
      "Name: f_sug_ovr_120, dtype: float64\n"
     ]
    },
    {
     "data": {
      "image/png": "[encoded data removed]",
      "text/plain": [
       "<Figure size 1080x360 with 2 Axes>"
      ]
     },
     "metadata": {
      "needs_background": "light"
     },
     "output_type": "display_data"
    }
   ],
   "source": [
    "print(\"\\t\\t\\t\\t\\\"Statistical Summary & Visualisation\\\"\\n\")\n",
    "# Showing counts\n",
    "print(\"counts \\n\" + str(df['f_sug_ovr_120'].value_counts()))\n",
    "# Showing percentages\n",
    "print(\"\\npercentages \\n\" + str(df['f_sug_ovr_120'].value_counts(normalize=True).mul(100)))\n",
    "# Creating a figure with two subplots in the same row\n",
    "fig = plt.figure(figsize=(15,5))\n",
    "plt.subplot(1, 2, 1)\n",
    "df['f_sug_ovr_120'].value_counts().plot(kind='bar',color=['blue','orange'])\n",
    "plt.ylabel('Counts')\n",
    "plt.xlabel('f_sug_ovr_120')\n",
    "plt.xticks(rotation='horizontal')\n",
    "plt.title(\"Fasting Blood Sugar above 120 mm/dl\")\n",
    "plt.subplot(1, 2, 2)\n",
    "sns.countplot(x='f_sug_ovr_120', data=df).set_title(\"Fasting Blood Sugar above 120 mm/dl\")\n",
    "plt.show();"
   ]
  },
  {
   "cell_type": "markdown",
   "metadata": {},
   "source": [
    "The frequency distribution shows that there are 230 out of 10 \n",
    "patients with a fasting blood sugar equal or smaller than 120 mg/dl,\n",
    "while a small percentage have it greater than 120"
   ]
  },
  {
   "cell_type": "markdown",
   "metadata": {},
   "source": [
    "### Attribute 7: resting electrocard result\n",
    "summary statistics for rest_electrocard_result attribute by providing a bar graph"
   ]
  },
  {
   "cell_type": "code",
   "execution_count": 15,
   "metadata": {},
   "outputs": [
    {
     "name": "stdout",
     "output_type": "stream",
     "text": [
      "\t\t\t\t\"Statistical Summary & Visualisation\"\n",
      "\n",
      "counts \n",
      "2.0    137\n",
      "0.0    131\n",
      "1.0      2\n",
      "Name: rest_electro, dtype: int64\n",
      "\n",
      "percentages \n",
      "2.0    50.740741\n",
      "0.0    48.518519\n",
      "1.0     0.740741\n",
      "Name: rest_electro, dtype: float64\n"
     ]
    },
    {
     "data": {
      "image/png": "[encoded data removed]",
      "text/plain": [
       "<Figure size 1080x360 with 2 Axes>"
      ]
     },
     "metadata": {
      "needs_background": "light"
     },
     "output_type": "display_data"
    }
   ],
   "source": [
    "print(\"\\t\\t\\t\\t\\\"Statistical Summary & Visualisation\\\"\\n\")\n",
    "# Showing counts\n",
    "print(\"counts \\n\" + str(df['rest_electro'].value_counts()))\n",
    "# Showing percentages\n",
    "print(\"\\npercentages \\n\" + str(df['rest_electro'].value_counts(normalize=True).mul(100)))\n",
    "# Creating a figure with two subplots in the same row\n",
    "fig = plt.figure(figsize=(15,5))\n",
    "plt.subplot(1, 2, 1)\n",
    "df['rest_electro'].value_counts().plot(kind='bar',color=['blue','orange','green'])\n",
    "plt.ylabel('Counts')\n",
    "plt.xlabel('resting electrocard result')\n",
    "plt.title(\"Resting Electrocard Result\")\n",
    "plt.xticks(rotation='horizontal')\n",
    "plt.subplot(1, 2, 2)\n",
    "sns.countplot(x='rest_electro', data=df,order=df['rest_electro'].unique()).set_title(\"Resting Electrocard Result\")\n",
    "plt.show();"
   ]
  },
  {
   "cell_type": "markdown",
   "metadata": {},
   "source": [
    "The frequency distribution shows that there are 137 patients showing probable or definite left ventricular hypertrophy by Estes' criteria, 131 patients whose resting electrocardiographic result is normal, 2 having to have ST-T wave abnormality.\n"
   ]
  },
  {
   "cell_type": "markdown",
   "metadata": {},
   "source": [
    "### Attribute 8:  max heart rate\n",
    "summary statistics for  max heart rate attribute by providing a histogram graph"
   ]
  },
  {
   "cell_type": "code",
   "execution_count": 16,
   "metadata": {},
   "outputs": [
    {
     "name": "stdout",
     "output_type": "stream",
     "text": [
      "\t\t\t\t\"Statistical Summary & Visualisation\"\n",
      "\n",
      "count    270.000000\n",
      "mean     149.677778\n",
      "std       23.165717\n",
      "min       71.000000\n",
      "25%      133.000000\n",
      "50%      153.500000\n",
      "75%      166.000000\n",
      "max      202.000000\n",
      "Name: max_heart_rate, dtype: float64\n"
     ]
    },
    {
     "data": {
      "image/png": "[encoded data removed]",
      "text/plain": [
       "<Figure size 1080x360 with 2 Axes>"
      ]
     },
     "metadata": {
      "needs_background": "light"
     },
     "output_type": "display_data"
    }
   ],
   "source": [
    "print(\"\\t\\t\\t\\t\\\"Statistical Summary & Visualisation\\\"\\n\")\n",
    "print(df['max_heart_rate'].describe())\n",
    "# Creating a figure with two subplots in the same row\n",
    "fig = plt.figure(figsize=(15,5))\n",
    "plt.subplot(1, 2, 1)\n",
    "# define the plot you want to generate\n",
    "plt.hist(df['max_heart_rate'])\n",
    "#plt.subplot(111)\n",
    "# define a title for the plot\n",
    "plt.title('Max Heart Rate Distribution')\n",
    "# define the number of bins for the histogram + which plot axis they will\n",
    "# # Matplotlib\n",
    "plt.ylabel('Counts')\n",
    "plt.xlabel('Maximum Heart Rate')\n",
    "plt.locator_params(nbins=10, axis = 'x')\n",
    "plt.subplot(1, 2, 2)\n",
    "# max heart rate\n",
    "sns.distplot(df['max_heart_rate'],kde=False, bins = 10).set_title(\"Max Heart Rate Distribution\")\n",
    "plt.show();"
   ]
  },
  {
   "cell_type": "markdown",
   "metadata": {},
   "source": [
    "This histogram shows an idea of the distribution of the max heart rate achieved (in beats per minute) across all patients. The highest frequency is between 155 and 160 and the distribution is negatively skewed. \n",
    "According to the statistics, the mean is 149.67, the max value is 202 and the lowest 71 beats per minute.\n",
    "\n"
   ]
  },
  {
   "cell_type": "markdown",
   "metadata": {},
   "source": [
    "### Attribute 9:  exercise induced angina \n",
    "summary statistics for exercise induced angina attribute by providing a bar graph"
   ]
  },
  {
   "cell_type": "code",
   "execution_count": 17,
   "metadata": {},
   "outputs": [
    {
     "name": "stdout",
     "output_type": "stream",
     "text": [
      "\t\t\t\t\"Statistical Summary & Visualisation\"\n",
      "\n",
      "counts \n",
      "No     181\n",
      "Yes     89\n",
      "Name: ex_ind_chest_pain, dtype: int64\n",
      "\n",
      "percentages \n",
      "No     67.037037\n",
      "Yes    32.962963\n",
      "Name: ex_ind_chest_pain, dtype: float64\n"
     ]
    },
    {
     "data": {
      "image/png": "[encoded data removed]",
      "text/plain": [
       "<Figure size 1080x360 with 2 Axes>"
      ]
     },
     "metadata": {
      "needs_background": "light"
     },
     "output_type": "display_data"
    }
   ],
   "source": [
    "print(\"\\t\\t\\t\\t\\\"Statistical Summary & Visualisation\\\"\\n\")\n",
    "# Showing counts\n",
    "print(\"counts \\n\" + str(df['ex_ind_chest_pain'].value_counts()))\n",
    "# Showing percentages\n",
    "print(\"\\npercentages \\n\" + str(df['ex_ind_chest_pain'].value_counts(normalize=True).mul(100)))\n",
    "# Creating a figure with two subplots in the same row\n",
    "fig = plt.figure(figsize=(15,5))\n",
    "plt.subplot(1, 2, 1)\n",
    "df['ex_ind_chest_pain'].value_counts().plot(kind='bar',color=['blue','orange'])\n",
    "plt.ylabel('Counts')\n",
    "plt.xlabel('Excercise Induced Angina')\n",
    "plt.title(\"Excercise Induced Chest Pain Distribution\")\n",
    "plt.xticks(rotation='horizontal')\n",
    "plt.subplot(1, 2, 2)\n",
    "sns.countplot(x='ex_ind_chest_pain', data=df).set_title(\"Excercise Induced Chest Pain Distribution\")\n",
    "fig.tight_layout()\n",
    "plt.show();"
   ]
  },
  {
   "cell_type": "markdown",
   "metadata": {},
   "source": [
    "The frequency distribution shows that there are 181 patients that had chest pain while doing exercise representing 67% of the total and 89 that did not have any chest pain."
   ]
  },
  {
   "cell_type": "markdown",
   "metadata": {},
   "source": [
    "### Attribute 10:  Old Peak \n",
    "summary statistics for Old Peak  attribute by providing a Histogram graph"
   ]
  },
  {
   "cell_type": "code",
   "execution_count": 18,
   "metadata": {},
   "outputs": [
    {
     "name": "stdout",
     "output_type": "stream",
     "text": [
      "\t\t\t\t\"Statistical Summary & Visualisation\"\n",
      "\n",
      "count    270.00000\n",
      "mean       1.05000\n",
      "std        1.14521\n",
      "min        0.00000\n",
      "25%        0.00000\n",
      "50%        0.80000\n",
      "75%        1.60000\n",
      "max        6.20000\n",
      "Name: oldpeak, dtype: float64\n"
     ]
    },
    {
     "data": {
      "image/png": "[encoded data removed]",
      "text/plain": [
       "<Figure size 1080x360 with 2 Axes>"
      ]
     },
     "metadata": {
      "needs_background": "light"
     },
     "output_type": "display_data"
    }
   ],
   "source": [
    "print(\"\\t\\t\\t\\t\\\"Statistical Summary & Visualisation\\\"\\n\")\n",
    "# oldpeak\n",
    "print(df['oldpeak'].describe())\n",
    "# Creating a figure with two subplots in the same row\n",
    "fig = plt.figure(figsize=(15,5))\n",
    "plt.subplot(1, 2, 1)\n",
    "plt.hist(df['oldpeak'])\n",
    "#plt.subplot(111)\n",
    "# define a title for the plot\n",
    "plt.ylabel('Counts')\n",
    "plt.xlabel('Old Peak')\n",
    "plt.title('Oldpeak Distribution')\n",
    "# define the number of bins for the histogram + which plot axis they will\n",
    "# # Matplotlib\n",
    "plt.locator_params(nbins=10, axis = 'x')\n",
    "plt.subplot(1, 2, 2)\n",
    "sns.distplot(df['oldpeak'],kde=False, bins = 10).set_title(\"Oldpeak Distribution\")\n",
    "fig.tight_layout()\n",
    "plt.show();"
   ]
  },
  {
   "cell_type": "markdown",
   "metadata": {},
   "source": [
    "This histogram shows an idea of the distribution of the old peak (ST depression induced by exercise relative to rest) across all patients with the highest frequency between 0 and 0.5. The distribution is \"Positively Skewed\" and according to the statistics, it looks like the mean is 1.05."
   ]
  },
  {
   "cell_type": "markdown",
   "metadata": {},
   "source": [
    "### Attribute 11: slope of peak\n",
    "summary statistics for Old Peak  attribute by providing a bar graph"
   ]
  },
  {
   "cell_type": "code",
   "execution_count": 19,
   "metadata": {},
   "outputs": [
    {
     "name": "stdout",
     "output_type": "stream",
     "text": [
      "\t\t\t\t\"Statistical Summary & Visualisation\"\n",
      "\n",
      "counts \n",
      "upsloping      130\n",
      "flat           122\n",
      "downsloping     18\n",
      "Name: peak_slope, dtype: int64\n",
      "\n",
      "percentages \n",
      "upsloping      48.148148\n",
      "flat           45.185185\n",
      "downsloping     6.666667\n",
      "Name: peak_slope, dtype: float64\n"
     ]
    },
    {
     "data": {
      "image/png": "[encoded data removed]",
      "text/plain": [
       "<Figure size 1080x360 with 2 Axes>"
      ]
     },
     "metadata": {
      "needs_background": "light"
     },
     "output_type": "display_data"
    }
   ],
   "source": [
    "print(\"\\t\\t\\t\\t\\\"Statistical Summary & Visualisation\\\"\\n\")\n",
    "# Showing counts\n",
    "print(\"counts \\n\" + str(df['peak_slope'].value_counts()))\n",
    "# Showing percentages\n",
    "print(\"\\npercentages \\n\" + str(df['peak_slope'].value_counts(normalize=True).mul(100)))\n",
    "# Creating a figure with two subplots in the same row\n",
    "fig = plt.figure(figsize=(15,5))\n",
    "plt.subplot(1, 2, 1)\n",
    "df['peak_slope'].value_counts().plot(kind='bar',color=['blue','orange','green'])\n",
    "plt.ylabel('Counts')\n",
    "plt.xlabel('Slope of the peak')\n",
    "plt.title(\"Slope of the peak Distribution\")\n",
    "plt.xticks(rotation='horizontal')\n",
    "plt.subplot(1, 2, 2)\n",
    "sns.countplot(x='peak_slope', data=df, order = sorted(df['peak_slope'].unique(),reverse=True)).set_title(\"Distribution of the slow of peak\")\n",
    "fig.tight_layout()\n",
    "plt.show();"
   ]
  },
  {
   "cell_type": "markdown",
   "metadata": {},
   "source": [
    "The frequency distribution tells us that the slope of the peak is ranked in descending order as follows: upsloping/flat/downsloping. So 'upsloping' is the category with the most amount of records with 130, representing 48% of the data, and 'downsloping' is the one with the least amount of occurrences with 18."
   ]
  },
  {
   "cell_type": "markdown",
   "metadata": {},
   "source": [
    "### Attribute 12: number_vessels\n",
    "Summary statistics for number_vessels attribute by providing a Bar graph"
   ]
  },
  {
   "cell_type": "code",
   "execution_count": 20,
   "metadata": {
    "scrolled": false
   },
   "outputs": [
    {
     "name": "stdout",
     "output_type": "stream",
     "text": [
      "\t\t\t\t\"Statistical Summary & Visualisation\"\n",
      "\n",
      "counts \n",
      "0.0    160\n",
      "1.0     58\n",
      "2.0     33\n",
      "3.0     19\n",
      "Name: vessels, dtype: int64\n",
      "\n",
      "percentages \n",
      "0.0    59.259259\n",
      "1.0    21.481481\n",
      "2.0    12.222222\n",
      "3.0     7.037037\n",
      "Name: vessels, dtype: float64\n"
     ]
    },
    {
     "data": {
      "image/png": "[encoded data removed]",
      "text/plain": [
       "<Figure size 1080x360 with 2 Axes>"
      ]
     },
     "metadata": {
      "needs_background": "light"
     },
     "output_type": "display_data"
    }
   ],
   "source": [
    "print(\"\\t\\t\\t\\t\\\"Statistical Summary & Visualisation\\\"\\n\")\n",
    "# Showing counts\n",
    "print(\"counts \\n\" + str(df['vessels'].value_counts()))\n",
    "# Showing percentages\n",
    "print(\"\\npercentages \\n\" + str(df['vessels'].value_counts(normalize=True).mul(100)))\n",
    "# Creating a figure with two subplots in the same row\n",
    "fig = plt.figure(figsize=(15,5))\n",
    "plt.subplot(1, 2, 1)\n",
    "df['vessels'].value_counts().plot(kind='bar',color=['blue','orange','green','red'])\n",
    "plt.xlabel('Number of Vessels')\n",
    "plt.title(\"Number of Vessels Distribution\")\n",
    "plt.xticks(rotation='horizontal')\n",
    "plt.subplot(1, 2, 2)\n",
    "sns.countplot(x='vessels', data=df).set_title(\"Distribution of the Number of Vessels\")\n",
    "fig.tight_layout()\n",
    "plt.show();"
   ]
  },
  {
   "cell_type": "markdown",
   "metadata": {},
   "source": [
    "The frequency distribution tells us that the number of major vessels is ranked in descending order as follows: 0/1/2/3. So '0' is the category with the most amount of records with 160 representing almost 60% of the data and '3' the one with the least amount of occurrences with only 19."
   ]
  },
  {
   "cell_type": "markdown",
   "metadata": {},
   "source": [
    "### Attribute 13: thal\n",
    "Summary statistics for thal  attribute by providing a bar graph"
   ]
  },
  {
   "cell_type": "code",
   "execution_count": 21,
   "metadata": {},
   "outputs": [
    {
     "name": "stdout",
     "output_type": "stream",
     "text": [
      "\t\t\t\t\"Statistical Summary & Visualisation\"\n",
      "\n",
      "counts \n",
      "normal               152\n",
      "reversable defect    104\n",
      "fixed defect          14\n",
      "Name: thal, dtype: int64\n",
      "\n",
      "percentages \n",
      "normal               56.296296\n",
      "reversable defect    38.518519\n",
      "fixed defect          5.185185\n",
      "Name: thal, dtype: float64\n"
     ]
    },
    {
     "data": {
      "image/png": "[encoded data removed]",
      "text/plain": [
       "<Figure size 1080x360 with 2 Axes>"
      ]
     },
     "metadata": {
      "needs_background": "light"
     },
     "output_type": "display_data"
    }
   ],
   "source": [
    "print(\"\\t\\t\\t\\t\\\"Statistical Summary & Visualisation\\\"\\n\")\n",
    "# Showing counts\n",
    "print(\"counts \\n\" + str(df['thal'].value_counts()))\n",
    "# Showing percentages\n",
    "print(\"\\npercentages \\n\" + str(df['thal'].value_counts(normalize=True).mul(100)))\n",
    "# Creating a figure with two subplots in the same row\n",
    "fig = plt.figure(figsize=(15,5))\n",
    "plt.subplot(1, 2, 1)\n",
    "df['thal'].value_counts().plot(kind='bar',color=['blue','green','orange'])\n",
    "plt.ylabel('Counts')\n",
    "plt.xlabel('Thal')\n",
    "plt.title(\"Thal Distribution\")\n",
    "plt.xticks(rotation='horizontal')\n",
    "plt.subplot(1, 2, 2)\n",
    "sns.countplot(x='thal', data=df,order=df['thal'].unique()).set_title(\"Thal Distribution\")\n",
    "fig.tight_layout()\n",
    "plt.show();"
   ]
  },
  {
   "cell_type": "markdown",
   "metadata": {},
   "source": [
    "The frequency distribution of the thal attribute (results of thallium stress test measuring blood flow to the heart) tells us that the highest number of cases with 152 is in result normal representing 56% of the data, followed by 104 cases with a reversible defect and finally 14 with the fixed defect.\n"
   ]
  },
  {
   "cell_type": "markdown",
   "metadata": {},
   "source": [
    "### Attribute 14: disease\n",
    "summary statistics for disease attribute by providing a bar graph"
   ]
  },
  {
   "cell_type": "code",
   "execution_count": 22,
   "metadata": {},
   "outputs": [
    {
     "name": "stdout",
     "output_type": "stream",
     "text": [
      "\t\t\t\t\"Statistical Summary & Visualisation\"\n",
      "\n",
      "counts \n",
      "No     150\n",
      "Yes    120\n",
      "Name: disease, dtype: int64\n",
      "\n",
      "percentages \n",
      "No     55.555556\n",
      "Yes    44.444444\n",
      "Name: disease, dtype: float64\n"
     ]
    },
    {
     "data": {
      "image/png": "[encoded data removed]",
      "text/plain": [
       "<Figure size 1080x360 with 2 Axes>"
      ]
     },
     "metadata": {
      "needs_background": "light"
     },
     "output_type": "display_data"
    }
   ],
   "source": [
    "print(\"\\t\\t\\t\\t\\\"Statistical Summary & Visualisation\\\"\\n\")\n",
    "# Showing counts\n",
    "print(\"counts \\n\" + str(df['disease'].value_counts()))\n",
    "# Showing percentages\n",
    "print(\"\\npercentages \\n\" + str(df['disease'].value_counts(normalize=True).mul(100)))\n",
    "# Creating a figure with two subplots in the same row\n",
    "fig = plt.figure(figsize=(15,5))\n",
    "plt.subplot(1, 2, 1)\n",
    "df['disease'].value_counts().plot(kind='bar',color=['blue','orange'])\n",
    "plt.ylabel('Counts')\n",
    "plt.xlabel('Disease')\n",
    "plt.title(\"Binary Distribution of Disease in patients\")\n",
    "plt.xticks(rotation='horizontal')\n",
    "plt.subplot(1, 2, 2)\n",
    "sns.countplot(x='disease', data=df,order=['No','Yes']).set_title(\"Distribution of disease amongst patients\")\n",
    "plt.show();"
   ]
  },
  {
   "cell_type": "markdown",
   "metadata": {},
   "source": [
    "The frecuency distribution shows that over the 270 patients 120 faced a heart disease, representing 45% of the data whereas 150 did not."
   ]
  },
  {
   "cell_type": "code",
   "execution_count": 23,
   "metadata": {},
   "outputs": [
    {
     "data": {
      "text/plain": [
       "<Figure size 432x288 with 0 Axes>"
      ]
     },
     "metadata": {},
     "output_type": "display_data"
    }
   ],
   "source": [
    "# Reseting the Plotting Memory\n",
    "plt.clf();"
   ]
  },
  {
   "cell_type": "markdown",
   "metadata": {},
   "source": [
    "### Part 4: Inference"
   ]
  },
  {
   "cell_type": "markdown",
   "metadata": {},
   "source": [
    "#### Who are the people that are the susceptable to heart diseases the most ? and How do men and women differ in that regard ?\n",
    "The following are our points of interest:\n",
    "- Might it be the age ?\n",
    "- Might it be gender ?\n",
    "- Might it be because of stress ?\n",
    "- Might it be because of cholesterol ?\n",
    "- Might be other cause?\n",
    "- What did we learn"
   ]
  },
  {
   "cell_type": "markdown",
   "metadata": {},
   "source": [
    "First we will work with the dataframes below:\n",
    " - disease_yes: patients that do have a heart disease\n",
    "     - disease_yes_male: men that have a disease\n",
    "     - disease_yes_female: woman that have a disease\n",
    "\n",
    "###### building some statistics and some graphs based on these dataframes"
   ]
  },
  {
   "cell_type": "code",
   "execution_count": 24,
   "metadata": {},
   "outputs": [
    {
     "name": "stdout",
     "output_type": "stream",
     "text": [
      "\t\t\t\"The Following provides the Count of the Number of Men and Women\"\n",
      "counts \n",
      "Male      100\n",
      "Female     20\n",
      "Name: sex, dtype: int64\n",
      "\t\t\t\"The Following provides the Percentages between Men and Women\"\n",
      "\n",
      "percentages \n",
      "Male      83.333333\n",
      "Female    16.666667\n",
      "Name: sex, dtype: float64\n"
     ]
    }
   ],
   "source": [
    "print(\"\\t\\t\\t\\\"The Following provides the Count of the Number of Men and Women\\\"\")\n",
    "disease_yes=df[df.iloc[:,13]=='Yes']# disease = Yes\n",
    "disease_yes_male=disease_yes[disease_yes.iloc[:,1]=='Male'] #male with disease\n",
    "disease_yes_female=disease_yes[disease_yes.iloc[:,1]=='Female'] #female with disease\n",
    "# Showing counts\n",
    "print(\"counts \\n\" + str(disease_yes['sex'].value_counts()))\n",
    "print(\"\\t\\t\\t\\\"The Following provides the Percentages between Men and Women\\\"\")\n",
    "# Showing percentages\n",
    "print(\"\\npercentages \\n\" + str(disease_yes['sex'].value_counts(normalize=True).mul(100)))"
   ]
  },
  {
   "cell_type": "markdown",
   "metadata": {},
   "source": [
    "###### It seems that there are alot more male patients than female patients"
   ]
  },
  {
   "cell_type": "code",
   "execution_count": 25,
   "metadata": {},
   "outputs": [
    {
     "name": "stdout",
     "output_type": "stream",
     "text": [
      "\t\t\t\"The Following provides the Statistical Summary for Men and Women with Heart diseases\"\n",
      "Men:\n",
      "count    100.000000\n",
      "mean      56.040000\n",
      "std        8.487567\n",
      "min       35.000000\n",
      "25%       50.750000\n",
      "50%       57.500000\n",
      "75%       61.000000\n",
      "max       77.000000\n",
      "Name: age, dtype: float64\n",
      "\n",
      "Women:\n",
      "count    20.000000\n",
      "mean     59.350000\n",
      "std       5.254322\n",
      "min      43.000000\n",
      "25%      57.500000\n",
      "50%      61.000000\n",
      "75%      62.000000\n",
      "max      66.000000\n",
      "Name: age, dtype: float64\n"
     ]
    }
   ],
   "source": [
    "print(\"\\t\\t\\t\\\"The Following provides the Statistical Summary for Men and Women with Heart diseases\\\"\\nMen:\\n{0}\\n\\nWomen:\\n{1}\".format(disease_yes_male.age.describe(),disease_yes_female.age.describe()))"
   ]
  },
  {
   "cell_type": "code",
   "execution_count": 26,
   "metadata": {
    "scrolled": false
   },
   "outputs": [
    {
     "name": "stdout",
     "output_type": "stream",
     "text": [
      "\t\t\t\t\"Histogram of the women and men with Heart diseases\"\n",
      "\n",
      "\t\t\t\t\t    'A) Using Matplotlib.py'\n",
      "\n"
     ]
    },
    {
     "data": {
      "image/png": "[encoded data removed]",
      "text/plain": [
       "<Figure size 1080x360 with 2 Axes>"
      ]
     },
     "metadata": {
      "needs_background": "light"
     },
     "output_type": "display_data"
    },
    {
     "name": "stdout",
     "output_type": "stream",
     "text": [
      "\t\t\t\t\t    'B) Using Seaborn'\n",
      "\n"
     ]
    },
    {
     "data": {
      "image/png": "[encoded data removed]",
      "text/plain": [
       "<Figure size 844.56x367.2 with 2 Axes>"
      ]
     },
     "metadata": {
      "needs_background": "light"
     },
     "output_type": "display_data"
    }
   ],
   "source": [
    "print(\"\\t\\t\\t\\t\\\"Histogram of the women and men with Heart diseases\\\"\\n\")\n",
    "\n",
    "# Creating a figure with two subplots in the same row\n",
    "# Matplotlib\n",
    "print(\"\\t\\t\\t\\t\\t    \\'A) Using Matplotlib.py\\'\\n\")\n",
    "fig = plt.figure(figsize=(15,5))\n",
    "plt.subplot(1, 2, 1)\n",
    "plt.hist(disease_yes_male[\"age\"])\n",
    "# define a title for the plot\n",
    "plt.ylabel('Counts')\n",
    "plt.xlabel('Age')\n",
    "plt.title('Age Distribution For Men')\n",
    "# define the number of bins for the histogram + which plot axis they will\n",
    "#plt.locator_params(nbins=10, axis = 'x')\n",
    "plt.subplot(1, 2, 2)\n",
    "plt.hist(disease_yes_female[\"age\"])\n",
    "# define a title for the plot\n",
    "plt.ylabel('Counts')\n",
    "plt.xlabel('Age')\n",
    "plt.ylim([0,30])\n",
    "plt.xlim([35,70])\n",
    "plt.title('Age Distribution For Women')\n",
    "plt.show();\n",
    "\n",
    "# In seaborn\n",
    "print(\"\\t\\t\\t\\t\\t    \\'B) Using Seaborn\\'\\n\")\n",
    "g = sns.FacetGrid(disease_yes, col='sex',height=5.1, aspect=1.15);\n",
    "g.map(plt.hist, \"age\")\n",
    "g.set(xlabel='Age', ylabel='Counts')\n",
    "fig.tight_layout()\n",
    "plt.show();\n"
   ]
  },
  {
   "cell_type": "code",
   "execution_count": 27,
   "metadata": {},
   "outputs": [
    {
     "name": "stdout",
     "output_type": "stream",
     "text": [
      "\t\t\t\t   \"Box Plot of Ages Grouped by Sex\"\n",
      "\n",
      "A) Matplotlib.py\n",
      "\n"
     ]
    },
    {
     "data": {
      "image/png": "[encoded data removed]",
      "text/plain": [
       "<Figure size 432x360 with 1 Axes>"
      ]
     },
     "metadata": {
      "needs_background": "light"
     },
     "output_type": "display_data"
    },
    {
     "name": "stdout",
     "output_type": "stream",
     "text": [
      "B) Seaborn\n",
      "\n"
     ]
    },
    {
     "data": {
      "image/png": "[encoded data removed]",
      "text/plain": [
       "<Figure size 459.576x353.52 with 1 Axes>"
      ]
     },
     "metadata": {
      "needs_background": "light"
     },
     "output_type": "display_data"
    }
   ],
   "source": [
    "print(\"\\t\\t\\t\\t   \\\"Box Plot of Ages Grouped by Sex\\\"\\n\")\n",
    "#A) Matplotlib\n",
    "print(\"A) Matplotlib.py\\n\")\n",
    "disease_yes.boxplot(column='age', by='sex',vert=False,widths = 0.6,patch_artist = True,figsize=(6,5));\n",
    "plt.show();\n",
    "\n",
    "#B) Seaborn\n",
    "print(\"B) Seaborn\\n\")\n",
    "sns.catplot(x='age', y='sex', kind='box',data=disease_yes,height=4.91,aspect=1.3);\n",
    "plt.show();"
   ]
  },
  {
   "cell_type": "markdown",
   "metadata": {},
   "source": [
    "The statistics show that over the 120 patients that have heart disease 83% are men with a mean age of 56 years and 17% women with a mean age of 59 years. Also, we can learn from the graphs that, in general, men are more vulnerable especially between the ages of 57/58 but generally on a wider range of ages with an interquartile range (IQR=Q3-Q1) of 10 whereas for woman the IQR is only 5.\n",
    "Also, we know that in the US, menopause in a woman is around the age of Fifty-one [16], and almost every woman with heart disease in our dataset are older than 51. On the other hand, men are more prone to heart disease before that age. \n",
    "\n"
   ]
  },
  {
   "cell_type": "markdown",
   "metadata": {},
   "source": [
    "The following statistics and charts take a step further into understanding what the differences are between the genders and the cholesterol level as well as chest pain to build our insights. Normally, the liver makes all the cholesterol the body needs. But cholesterol also enters your body from food, such as animal-based foods like milk, eggs, and meat. Too much cholesterol in your body is a risk factor for heart disease [17].\n"
   ]
  },
  {
   "cell_type": "markdown",
   "metadata": {},
   "source": [
    "Let's Look at the Numbers First"
   ]
  },
  {
   "cell_type": "code",
   "execution_count": 28,
   "metadata": {
    "scrolled": false
   },
   "outputs": [
    {
     "name": "stdout",
     "output_type": "stream",
     "text": [
      "The Cholesterol Statistical Summary for Men:\n",
      "count    100.000000\n",
      "mean     249.760000\n",
      "std       42.805201\n",
      "min      149.000000\n",
      "25%      218.750000\n",
      "50%      253.500000\n",
      "75%      282.000000\n",
      "max      353.000000\n",
      "Name: cholest, dtype: float64\n",
      "\n",
      "The Cholesterol Statistical Summary for Women:\n",
      "count     20.000000\n",
      "mean     290.000000\n",
      "std       58.687397\n",
      "min      164.000000\n",
      "25%      255.750000\n",
      "50%      291.000000\n",
      "75%      321.000000\n",
      "max      409.000000\n",
      "Name: cholest, dtype: float64\n"
     ]
    }
   ],
   "source": [
    "print(\"The Cholesterol Statistical Summary for Men:\\n{0}\\n\\nThe Cholesterol Statistical Summary for Women:\\n{1}\".format(disease_yes_male.cholest.describe(),disease_yes_female.cholest.describe()))"
   ]
  },
  {
   "cell_type": "markdown",
   "metadata": {},
   "source": [
    "Now Let's Visualize it"
   ]
  },
  {
   "cell_type": "code",
   "execution_count": 29,
   "metadata": {},
   "outputs": [
    {
     "name": "stdout",
     "output_type": "stream",
     "text": [
      "\t\t\t\t\t    'A) Using Matplotlib.py'\n",
      "\n"
     ]
    },
    {
     "data": {
      "image/png": "[encoded data removed]",
      "text/plain": [
       "<Figure size 1008x864 with 4 Axes>"
      ]
     },
     "metadata": {
      "needs_background": "light"
     },
     "output_type": "display_data"
    },
    {
     "name": "stdout",
     "output_type": "stream",
     "text": [
      "\t\t\t\t\t    'A) Seaborn.py'\n",
      "\n"
     ]
    },
    {
     "data": {
      "image/png": "[encoded data removed]",
      "text/plain": [
       "<Figure size 1008x720 with 4 Axes>"
      ]
     },
     "metadata": {
      "needs_background": "light"
     },
     "output_type": "display_data"
    }
   ],
   "source": [
    "# Printing information\n",
    "print(\"\\t\\t\\t\\t\\t    \\'A) Using Matplotlib.py\\'\\n\")\n",
    "fig = plt.figure(figsize=(14,12))\n",
    "plt.subplot(2, 2, 1)\n",
    "plt.hist(disease_yes_male[\"cholest\"])\n",
    "# define a title for the plot\n",
    "plt.ylabel('Counts')\n",
    "plt.xlabel('Cholesterol')\n",
    "plt.title('Cholesterol Distribution For Men with Heart disease')\n",
    "# define the number of bins for the histogram + which plot axis they will\n",
    "plt.subplot(2, 2, 2)\n",
    "plt.hist(disease_yes_female[\"cholest\"])\n",
    "# define a title for the plot\n",
    "plt.ylabel('Counts')\n",
    "plt.xlabel('Cholesterol')\n",
    "plt.title('Cholesterol Distribution For Women with Heart disease')\n",
    "# here is the 3rd plot\n",
    "plt.subplot(2, 2, 3)\n",
    "plt.hist(disease_no_male[\"cholest\"])\n",
    "#plt.subplot(111)\n",
    "# define a title for the plot\n",
    "plt.ylabel('Counts')\n",
    "plt.xlabel('Cholesterol')\n",
    "plt.title('Cholesterol Distribution For Men without Heart disease')\n",
    "# define the number of bins for the histogram + which plot axis they will\n",
    "plt.subplot(2, 2, 4)\n",
    "plt.hist(disease_no_female[\"cholest\"])\n",
    "# define a title for the plot\n",
    "plt.ylabel('Counts')\n",
    "plt.xlabel('Cholesterol')\n",
    "plt.title('Cholesterol Distribution For Women without Heart disease')\n",
    "#printing the subplots.\n",
    "plt.show();\n",
    "# Now for Seaborn we only have to write just this line.\n",
    "# Printing information.\n",
    "print(\"\\t\\t\\t\\t\\t    \\'A) Seaborn.py\\'\\n\")\n",
    "g = sns.FacetGrid(df, col='sex', row='disease',height=5, aspect=1.4)\n",
    "g.map(plt.hist, \"cholest\")\n",
    "fig.tight_layout()\n",
    "plt.show();\n"
   ]
  },
  {
   "cell_type": "markdown",
   "metadata": {},
   "source": [
    "###### -Let's Have it visualized from a different prespective"
   ]
  },
  {
   "cell_type": "code",
   "execution_count": 30,
   "metadata": {},
   "outputs": [
    {
     "name": "stdout",
     "output_type": "stream",
     "text": [
      "\t\t-Box Plots of Ages Grouped by Sex- \n",
      "\n",
      "\n",
      "A) Matplotlib.py\n",
      "\t\t 'Patients with heart disease'\n",
      "\n"
     ]
    },
    {
     "data": {
      "image/png": "[encoded data removed]",
      "text/plain": [
       "<Figure size 504x360 with 1 Axes>"
      ]
     },
     "metadata": {
      "needs_background": "light"
     },
     "output_type": "display_data"
    },
    {
     "name": "stdout",
     "output_type": "stream",
     "text": [
      "\t\t 'Patients without heart disease'\n",
      "\n"
     ]
    },
    {
     "data": {
      "image/png": "[encoded data removed]",
      "text/plain": [
       "<Figure size 504x360 with 1 Axes>"
      ]
     },
     "metadata": {
      "needs_background": "light"
     },
     "output_type": "display_data"
    },
    {
     "name": "stdout",
     "output_type": "stream",
     "text": [
      "B) Seaborn\n",
      "\n"
     ]
    },
    {
     "data": {
      "image/png": "[encoded data removed]",
      "text/plain": [
       "<Figure size 744.559x432 with 1 Axes>"
      ]
     },
     "metadata": {
      "needs_background": "light"
     },
     "output_type": "display_data"
    }
   ],
   "source": [
    "print(\"\\t\\t-Box Plots of Ages Grouped by Sex- \\n\\n\")\n",
    "#A) Matplotlib\n",
    "print(\"A) Matplotlib.py\")\n",
    "print(\"\\t\\t \\'Patients with heart disease\\'\\n\")\n",
    "box1=disease_yes.boxplot(column=['cholest'], by=['sex'],vert=False,widths = 0.6,patch_artist = True,figsize=(7,5))\n",
    "plt.show();\n",
    "print(\"\\t\\t \\'Patients without heart disease\\'\\n\")\n",
    "box2=disease_no.boxplot(column=['cholest'], by=['sex'],vert=False,widths = 0.6,patch_artist = True,figsize=(7,5))\n",
    "plt.show();\n",
    "\n",
    "#B) Seaborn\n",
    "print(\"B) Seaborn\\n\")\n",
    "sns.catplot(x='cholest', y='sex', kind='box', hue='disease',height= 6, aspect=1.6,data=df);\n",
    "fig.tight_layout()\n",
    "plt.show();"
   ]
  },
  {
   "cell_type": "markdown",
   "metadata": {},
   "source": [
    "Up to 200 milligrams of cholesterol per deciliter (mg/dL) are considered desirable for adults. A reading between 200 and 239 mg/dL is considered borderline high and a reading of 240 mg/dL and above is considered high [15]\n",
    "Overall in the previous charts, we can see that the level of cholesterol is mostly above 200 mg/dL but it seems that for men that have a disease the values tend to be centralized around 250 while in females data is centralized around 290, and it looks like for men heart problems starts to appear at lower cholesterol values (slightly above 200 mg/dL) which would mean that in general woman's heart could be more \"resistant\" to high levels of cholesterol\n",
    "\n",
    "So what?\n",
    "- Well, men need to make a lot of changes to their diet, while women need to do improve it just a little bit. and the reason for that is a high level of cholesterol leeds to narrow arteries [17]"
   ]
  },
  {
   "cell_type": "markdown",
   "metadata": {},
   "source": [
    "Now we will analyze the results of the 'thal' stress test and compare it to the patient's chest pain type (if there is any). The purpose is to understand if there is any symptom, such as chest pain, associated with a presense of a disease.\n",
    "\n",
    "We will provide graphs in matplotlib, and to build them, we will define separate datasets for each group of patients that do not have the disease, male and female.\n",
    "The algorithm define a plot with 4 subplots, and we define lists that will contain each bar counts/height for each chest pain type on the individual 'thal' results.\n",
    "\n",
    "Then we will build the same graphs using seaborn."
   ]
  },
  {
   "cell_type": "code",
   "execution_count": 31,
   "metadata": {
    "scrolled": true
   },
   "outputs": [],
   "source": [
    "disease_no=df[df.iloc[:,13]=='No']# disease = No\n",
    "disease_no_male=disease_no[disease_no.iloc[:,1]=='Male'] #male without disease\n",
    "disease_no_female=disease_no[disease_no.iloc[:,1]=='Female'] #female without disease"
   ]
  },
  {
   "cell_type": "code",
   "execution_count": 32,
   "metadata": {},
   "outputs": [
    {
     "name": "stdout",
     "output_type": "stream",
     "text": [
      "\t\t\t\t\t    'A) Using Matplotlib.py'\n",
      "\n"
     ]
    },
    {
     "data": {
      "image/png": "[encoded data removed]",
      "text/plain": [
       "<Figure size 1008x576 with 4 Axes>"
      ]
     },
     "metadata": {
      "needs_background": "light"
     },
     "output_type": "display_data"
    }
   ],
   "source": [
    "#Bar Graph\n",
    "# Matplotlib\n",
    "print(\"\\t\\t\\t\\t\\t    \\'A) Using Matplotlib.py\\'\\n\")\n",
    "\n",
    "fig, axs = plt.subplots(2, 2, figsize=(14, 8), sharex=True, sharey=True)\n",
    "x = np.arange(len(disease_yes_male.thal.unique()))\n",
    "thal_unique=disease_yes_male.thal.unique()\n",
    "chest_pain_unique = disease_yes_male.chest_pain_tp.unique()\n",
    "\n",
    "# Define bar width. We'll use this to offset the 2nd, 3er and 4th bar.\n",
    "bar_width = 0.14\n",
    "\n",
    "#lists to store bar height of upper left graph, male yes (shorcut my)\n",
    "my1=[]\n",
    "my2=[]\n",
    "my3=[]\n",
    "my4=[]\n",
    "\n",
    "#lists to store bar height of upper right graph, male yes (shorcut mn)\n",
    "mn1=[]\n",
    "mn2=[]\n",
    "mn3=[]\n",
    "mn4=[]\n",
    "\n",
    "#lists to store bar height of lower left graph, female yes (shortcut fy)\n",
    "fy1=[]\n",
    "fy2=[]\n",
    "fy3=[]\n",
    "fy4=[]\n",
    "\n",
    "#lists to store bar height of lower right graph, female no (shortcut fn)\n",
    "fn1=[]\n",
    "fn2=[]\n",
    "fn3=[]\n",
    "fn4=[]\n",
    "\n",
    "for i, category in enumerate(thal_unique):\n",
    "    #disease yes male\n",
    "    my1.append(disease_yes_male.loc[(disease_yes_male['thal'] == category) & (disease_yes_male['chest_pain_tp'] == chest_pain_unique[0]), :][\"sex\"].count())\n",
    "    my2.append(disease_yes_male.loc[(disease_yes_male['thal'] == category) & (disease_yes_male['chest_pain_tp'] == chest_pain_unique[1]), :][\"sex\"].count())\n",
    "    my3.append(disease_yes_male.loc[(disease_yes_male['thal'] == category) & (disease_yes_male['chest_pain_tp'] == chest_pain_unique[2]), :][\"sex\"].count())\n",
    "    my4.append(disease_yes_male.loc[(disease_yes_male['thal'] == category) & (disease_yes_male['chest_pain_tp'] == chest_pain_unique[3]), :][\"sex\"].count())\n",
    "    \n",
    "    #disease no male\n",
    "    mn1.append(disease_no_male.loc[(disease_no_male['thal'] == category) & (disease_no_male['chest_pain_tp'] == chest_pain_unique[0]), :][\"sex\"].count())\n",
    "    mn2.append(disease_no_male.loc[(disease_no_male['thal'] == category) & (disease_no_male['chest_pain_tp'] == chest_pain_unique[1]), :][\"sex\"].count())\n",
    "    mn3.append(disease_no_male.loc[(disease_no_male['thal'] == category) & (disease_no_male['chest_pain_tp'] == chest_pain_unique[2]), :][\"sex\"].count())\n",
    "    mn4.append(disease_no_male.loc[(disease_no_male['thal'] == category) & (disease_no_male['chest_pain_tp'] == chest_pain_unique[3]), :][\"sex\"].count())\n",
    "    \n",
    "    #disease yes female\n",
    "    fy1.append(disease_yes_female.loc[(disease_yes_female['thal'] == category) & (disease_yes_female['chest_pain_tp'] == chest_pain_unique[0]), :][\"sex\"].count())\n",
    "    fy2.append(disease_yes_female.loc[(disease_yes_female['thal'] == category) & (disease_yes_female['chest_pain_tp'] == chest_pain_unique[1]), :][\"sex\"].count())\n",
    "    fy3.append(disease_yes_female.loc[(disease_yes_female['thal'] == category) & (disease_yes_female['chest_pain_tp'] == chest_pain_unique[2]), :][\"sex\"].count())\n",
    "    fy4.append(disease_yes_female.loc[(disease_yes_female['thal'] == category) & (disease_yes_female['chest_pain_tp'] == chest_pain_unique[3]), :][\"sex\"].count())\n",
    "    \n",
    "    #disease no female\n",
    "    fn1.append(disease_no_female.loc[(disease_no_female['thal'] == category) & (disease_no_female['chest_pain_tp'] == chest_pain_unique[0]), :][\"sex\"].count())\n",
    "    fn2.append(disease_no_female.loc[(disease_no_female['thal'] == category) & (disease_no_female['chest_pain_tp'] == chest_pain_unique[1]), :][\"sex\"].count())\n",
    "    fn3.append(disease_no_female.loc[(disease_no_female['thal'] == category) & (disease_no_female['chest_pain_tp'] == chest_pain_unique[2]), :][\"sex\"].count())\n",
    "    fn4.append(disease_no_female.loc[(disease_no_female['thal'] == category) & (disease_no_female['chest_pain_tp'] == chest_pain_unique[3]), :][\"sex\"].count())\n",
    "\n",
    "    \n",
    "#Now we assign each lists values to the height of each subplot graph\n",
    "    \n",
    "# We define one bar for each chest_pain_tp in the upper left graph\n",
    "b1 = axs[0,0].bar(x,my1, width=bar_width, label=chest_pain_unique[0])\n",
    "b2 = axs[0,0].bar(x+bar_width,my2, width=bar_width, label=chest_pain_unique[1])\n",
    "b3 = axs[0,0].bar(x+(bar_width*2),my3, width=bar_width, label=chest_pain_unique[2])\n",
    "b4 = axs[0,0].bar(x+(bar_width*3),my4, width=bar_width, label=chest_pain_unique[3])\n",
    "\n",
    "# We define one bar for each chest_pain_tp in the upper right graph\n",
    "b1 = axs[0,1].bar(x,mn1, width=bar_width, label=chest_pain_unique[0])\n",
    "b2 = axs[0,1].bar(x+bar_width,mn2, width=bar_width, label=chest_pain_unique[1])\n",
    "b3 = axs[0,1].bar(x+(bar_width*2),mn3, width=bar_width, label=chest_pain_unique[2])\n",
    "b4 = axs[0,1].bar(x+(bar_width*3),mn4, width=bar_width, label=chest_pain_unique[3])\n",
    "\n",
    "# We define one bar for each chest_pain_tp in the upper left graph\n",
    "b1 = axs[1,0].bar(x,fy1, width=bar_width, label=chest_pain_unique[0])\n",
    "b2 = axs[1,0].bar(x+bar_width,fy2, width=bar_width, label=chest_pain_unique[1])\n",
    "b3 = axs[1,0].bar(x+(bar_width*2),fy3, width=bar_width, label=chest_pain_unique[2])\n",
    "b4 = axs[1,0].bar(x+(bar_width*3),fy4, width=bar_width, label=chest_pain_unique[3])\n",
    "\n",
    "# We define one bar for each chest_pain_tp in the upper right graph\n",
    "b1 = axs[1,1].bar(x,fn1, width=bar_width, label=chest_pain_unique[0])\n",
    "b2 = axs[1,1].bar(x+bar_width,fn2, width=bar_width, label=chest_pain_unique[1])\n",
    "b3 = axs[1,1].bar(x+(bar_width*2),fn3, width=bar_width, label=chest_pain_unique[2])\n",
    "b4 = axs[1,1].bar(x+(bar_width*3),fn4, width=bar_width, label=chest_pain_unique[3])\n",
    "\n",
    "axs[0,0].legend()\n",
    "axs[0,1].legend()\n",
    "axs[1,0].legend()\n",
    "axs[1,1].legend()\n",
    "\n",
    "# Fix the x-axes.\n",
    "axs[0,0].set_xticks(x + bar_width / 2)\n",
    "axs[0,0].set_xticklabels(thal_unique)\n",
    "axs[0,0].set_title(\"'Thal' result based on chest pain type for Male with disease\")\n",
    "axs[0,1].set_xticks(x + bar_width / 2)\n",
    "axs[0,1].set_xticklabels(thal_unique)\n",
    "axs[0,1].set_title(\"'Thal' result based on chest pain type for Male with no disease\")\n",
    "axs[1,0].set_xticks(x + bar_width / 2)\n",
    "axs[1,0].set_xticklabels(thal_unique)\n",
    "axs[1,0].set_title(\"'Thal' result based on chest pain type for Female with disease\")\n",
    "axs[1,1].set_xticks(x + bar_width / 2)\n",
    "axs[1,1].set_xticklabels(thal_unique)\n",
    "axs[1,1].set_title(\"'Thal' result based on chest pain type for Female with no disease\")\n",
    "for ax in axs.flat:\n",
    "    ax.set(xlabel='thal', ylabel='count')\n",
    "fig.tight_layout()\n",
    "plt.show();"
   ]
  },
  {
   "cell_type": "code",
   "execution_count": 33,
   "metadata": {
    "scrolled": false
   },
   "outputs": [
    {
     "name": "stdout",
     "output_type": "stream",
     "text": [
      "\t\t\t\t\t    'B) Using Seaborn'\n",
      "\n"
     ]
    },
    {
     "data": {
      "image/png": "[encoded data removed]",
      "text/plain": [
       "<Figure size 825.85x504 with 4 Axes>"
      ]
     },
     "metadata": {
      "needs_background": "light"
     },
     "output_type": "display_data"
    }
   ],
   "source": [
    "#Seaborn\n",
    "print(\"\\t\\t\\t\\t\\t    \\'B) Using Seaborn\\'\\n\")\n",
    "sns.catplot(x=\"thal\", hue=\"chest_pain_tp\", data=df, col='disease', kind=\"count\", row='sex',height= 3.5, aspect= 1.4, order=df['thal'].unique());"
   ]
  },
  {
   "cell_type": "markdown",
   "metadata": {},
   "source": [
    "In the previous Chart we delve more into the specifics of what type of chest problems affects each gender when having a disease:\n",
    "- Men are prone to all sorts of chest pain but there seem to have to be a spike in asymptotic chest pain, so in general heart disease can be very silent for both, men and woman, so it is a good habit to do the thal test to find out a potential hidden disease.\n",
    "- Women that don't have a disease are more likely to develop non-anginal pain"
   ]
  },
  {
   "cell_type": "markdown",
   "metadata": {},
   "source": [
    "Finally we want to analyze the impact of the old peak ( ST depression induced by exercise relative to rest [4]) and its slope. For matplotlib the approach is similar to the previous graph, we will build one list for each slope_peak mean value on each group to build the comparison between males and females with disease and without it."
   ]
  },
  {
   "cell_type": "code",
   "execution_count": 34,
   "metadata": {},
   "outputs": [
    {
     "data": {
      "text/plain": [
       "<Figure size 432x288 with 0 Axes>"
      ]
     },
     "metadata": {},
     "output_type": "display_data"
    }
   ],
   "source": [
    "plt.clf();"
   ]
  },
  {
   "cell_type": "code",
   "execution_count": 35,
   "metadata": {},
   "outputs": [
    {
     "name": "stdout",
     "output_type": "stream",
     "text": [
      "\t\t\t\t\t    'A) Using Matplotlib.py'\n",
      "\n"
     ]
    },
    {
     "data": {
      "image/png": "[encoded data removed]",
      "text/plain": [
       "<Figure size 792x288 with 2 Axes>"
      ]
     },
     "metadata": {
      "needs_background": "light"
     },
     "output_type": "display_data"
    },
    {
     "name": "stdout",
     "output_type": "stream",
     "text": [
      "\t\t\t\t\t    'B) Using Seaborn'\n",
      "\n"
     ]
    },
    {
     "data": {
      "image/png": "[encoded data removed]",
      "text/plain": [
       "<Figure size 818.875x360 with 2 Axes>"
      ]
     },
     "metadata": {
      "needs_background": "light"
     },
     "output_type": "display_data"
    }
   ],
   "source": [
    "#Bar Graph\n",
    "# Matplotlib\n",
    "print(\"\\t\\t\\t\\t\\t    \\'A) Using Matplotlib.py\\'\\n\")\n",
    "\n",
    "fig, axs = plt.subplots(1, 2, figsize=(11, 4), sharex=True, sharey=True)\n",
    "x = np.arange(len(df.sex.unique()))\n",
    "sex_unique=df.sex.unique()\n",
    "peak_slope_unique = df.peak_slope.unique()\n",
    "\n",
    "# Define bar width. We'll use this to offset the 2nd, 3er and 4th bar.\n",
    "bar_width = 0.2\n",
    "\n",
    "#lists to store bar height of left graph, disease yes (ds)\n",
    "ds1=[]\n",
    "ds2=[]\n",
    "ds3=[]\n",
    "\n",
    "#lists to store bar height of right graph, disease no (dn)\n",
    "dn1=[]\n",
    "dn2=[]\n",
    "dn3=[]\n",
    "\n",
    "\n",
    "for i, category in enumerate(sex_unique):\n",
    "    #disease yes\n",
    "    ds1.append(disease_yes.loc[(disease_yes['sex'] == category) & (disease_yes['peak_slope'] == peak_slope_unique[0]), :][\"oldpeak\"].mean())\n",
    "    ds2.append(disease_yes.loc[(disease_yes['sex'] == category) & (disease_yes['peak_slope'] == peak_slope_unique[1]), :][\"oldpeak\"].mean())\n",
    "    ds3.append(disease_yes.loc[(disease_yes['sex'] == category) & (disease_yes['peak_slope'] == peak_slope_unique[2]), :][\"oldpeak\"].mean())\n",
    "    \n",
    "    #disease no\n",
    "    dn1.append(disease_no.loc[(disease_no['sex'] == category) & (disease_no['peak_slope'] == peak_slope_unique[0]), :][\"oldpeak\"].mean())\n",
    "    dn2.append(disease_no.loc[(disease_no['sex'] == category) & (disease_no['peak_slope'] == peak_slope_unique[1]), :][\"oldpeak\"].mean())\n",
    "    dn3.append(disease_no.loc[(disease_no['sex'] == category) & (disease_no['peak_slope'] == peak_slope_unique[2]), :][\"oldpeak\"].mean())\n",
    "    \n",
    "#Now we assign each lists values to the height of each subplot graph\n",
    "  \n",
    "# We define one bar for each chest_pain_tp in the upper left graph\n",
    "b1 = axs[0].bar(x,ds1, width=bar_width, label=peak_slope_unique[0])\n",
    "b2 = axs[0].bar(x+bar_width,ds2, width=bar_width, label=peak_slope_unique[1])\n",
    "b3 = axs[0].bar(x+(bar_width*2),ds3, width=bar_width, label=peak_slope_unique[2])\n",
    "\n",
    "# We define one bar for each chest_pain_tp in the upper right graph\n",
    "b1 = axs[1].bar(x,dn1, width=bar_width, label=peak_slope_unique[0])\n",
    "b2 = axs[1].bar(x+bar_width,dn2, width=bar_width, label=peak_slope_unique[1])\n",
    "b3 = axs[1].bar(x+(bar_width*2),dn3, width=bar_width, label=peak_slope_unique[2])\n",
    "\n",
    "axs[0].legend()\n",
    "axs[1].legend()\n",
    "\n",
    "# Set common labels\n",
    "plt.ylabel('Oldpeak')\n",
    "\n",
    "\n",
    "# Fix the x-axes.\n",
    "axs[0].set_xticks(x + bar_width / 2)\n",
    "axs[0].set_xticklabels(sex_unique)\n",
    "axs[0].set_title(\"'OldPeak value and Slope' on patients with disease\")\n",
    "axs[1].set_xticks(x + bar_width / 2)\n",
    "axs[1].set_xticklabels(sex_unique)\n",
    "axs[1].set_title(\"'OldPeak value and Slope' on patients with No disease\")\n",
    "for ax in axs.flat:\n",
    "    ax.set(xlabel='Sex', ylabel='Oldpeak')\n",
    "\n",
    "fig.tight_layout()\n",
    "plt.show();\n",
    "\n",
    "# Seaborn\n",
    "print(\"\\t\\t\\t\\t\\t    \\'B) Using Seaborn\\'\\n\")\n",
    "sns.catplot(x='sex', y='oldpeak', hue='peak_slope', col='disease',kind='bar', data=df);"
   ]
  },
  {
   "cell_type": "markdown",
   "metadata": {},
   "source": [
    "The chart shows the old peak values for patients with a disease on the left , and healthy patients’ values on the right. We can see that in general, regardless of the slope type, the old peak tends to be greater in patients facing a heart disease comparing to healthy ones. We can see that the downsloping peak is almost doubled in women in comparison to men.\n",
    "\n"
   ]
  },
  {
   "cell_type": "markdown",
   "metadata": {},
   "source": [
    "### Conclusion\n",
    "It is extremely difficult to exactly tell what are the exact factors that help foresee who will have heart disease however these are the guidelines we provide for both men and women, generally and exclusively.\n",
    "- Women approaching menopause should have regular medical checkups, while men should start getting medical check-ups before that around the age of 44 which is approximately 10 years before the infliction point where afterwards the likelihood will rise immensely.\n",
    "- Males should make big changes to their diets to lower their cholesterol while women should make fewer changes\n",
    "- Women, despite not facing as much heart disease count as men are more likely to suffer from non-anginal pain meaning they ought to be careful about their movement because can be brought on with one movement of the trunk or arm, can be brought on by local fingers pressure, or bending forward, or it can be relieved immediately on lying down, in this case, it is better to lie down until the pain goes away and then  go visit an MD as soon as possible[18].\n",
    "- Both men and women need to consider performing the thal test regardless of their level of cholesterol or chest pain type since most of the times this could be asymptomatic."
   ]
  },
  {
   "cell_type": "markdown",
   "metadata": {},
   "source": [
    "## Appendix\n",
    "- [1] https://youtu.be/BLw62AhW_Kc"
   ]
  },
  {
   "cell_type": "markdown",
   "metadata": {},
   "source": [
    "## Refrences:\n",
    "- [1] https://www.who.int/news-room/fact-sheets/detail/the-top-10-causes-of-death\n",
    "- [2] https://www.drivendata.org/competitions/54/machine-learning-with-a-heart/page/107/\n",
    "- [3] http://archive.ics.uci.edu/ml/datasets/statlog+(heart)\n",
    "- [4] https://en.wikipedia.org/wiki/ST_depression\n",
    "- [5] https://www.jwatch.org/jc201007070000002/2010/07/07/typical-angina-vs-atypical-chest-pain\n",
    "- [6] https://www.amjmed.com/article/S0002-9343(12)00488-3/pdf\n",
    "- [7] https://www.ncbi.nlm.nih.gov/pubmed/2255129\n",
    "- [8] http://www.ilpi.com/msds/ref/asymptomatic.html\n",
    "- [9] https://health.clevelandclinic.org/busting-6-myths-about-blood-pressure-and-heart-rate/\n",
    "- [10] https://www.medicalnewstoday.com/articles/321519.php\n",
    "- [11] https://www.mayoclinic.org/diseases-conditions/diabetes/diagnosis-treatment/drc-20371451\n",
    "- [12] https://www.ncbi.nlm.nih.gov/books/NBK367910/\n",
    "- [13] https://www.mayoclinic.org/healthy-lifestyle/fitness/in-depth/exercise-intensity/art-20046887\n",
    "- [14] https://www.mayoclinic.org/diseases-conditions/angina/symptoms-causes/syc-20369373\n",
    "- [15] https://www.medicalnewstoday.com/articles/315900.php\n",
    "- [16] https://www.mayoclinic.org/diseases-conditions/menopause/symptoms-causes/syc-20353397\n",
    "- [17] https://www.webmd.com/heart-disease/guide/heart-disease-lower-cholesterol-risk\n",
    "- [18] https://www.ncbi.nlm.nih.gov/pubmed/2255129"
   ]
  },
  {
   "cell_type": "markdown",
   "metadata": {},
   "source": [
    "                                   Thanks From Omar and Julian"
   ]
  }
 ],
 "metadata": {
  "kernelspec": {
   "display_name": "Python 3",
   "language": "python",
   "name": "python3"
  },
  "language_info": {
   "codemirror_mode": {
    "name": "ipython",
    "version": 3
   },
   "file_extension": ".py",
   "mimetype": "text/x-python",
   "name": "python",
   "nbconvert_exporter": "python",
   "pygments_lexer": "ipython3",
   "version": "3.7.3"
  }
 },
 "nbformat": 4,
 "nbformat_minor": 2
}
