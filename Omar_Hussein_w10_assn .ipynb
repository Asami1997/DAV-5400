{
 "cells": [
  {
   "cell_type": "markdown",
   "metadata": {},
   "source": [
    "### DAV 5400 Fall 2019 Week 10 Assignment"
   ]
  },
  {
   "cell_type": "markdown",
   "metadata": {},
   "source": [
    "<img src=\" ALASKA.jpg\">"
   ]
  },
  {
   "cell_type": "markdown",
   "metadata": {},
   "source": [
    "### Question 1\n",
    "Create a .CSV file that includes all of the information shown above. You are required to use a “wide”\n",
    "structure similar to how the information appears above, so that you can practice both data tidying and the\n",
    "data wrangling transformations described in Chapter 8 of the “Python for Data Analysis” textbook. Load your\n",
    ".CSV file into you GitHub repository"
   ]
  },
  {
   "cell_type": "markdown",
   "metadata": {},
   "source": [
    "I will solve Question one in two ways\n",
    "#### 1.1 First way by \n",
    "is through a simple notepad https://github.com/OMS1996/DAV-5400/blob/master/QuestionOne.csv , i will do use this for the rest of the questions."
   ]
  },
  {
   "cell_type": "markdown",
   "metadata": {},
   "source": [
    "#### 1.2 Second way\n",
    "Getting the necassary packages and creating a numpy array with all the numeric values and then resizing it into a 4 by 5 matrix which is the required format\n",
    "##### Steps:\n",
    "- Transforming the matrix into a data frame and rename the coloumns accordingly.\n",
    "- Add additional coloumns\n",
    "- Re-arranging the coloumns to come a step closer to the required figure"
   ]
  },
  {
   "cell_type": "code",
   "execution_count": 1,
   "metadata": {
    "scrolled": true
   },
   "outputs": [
    {
     "data": {
      "text/html": [
       "<div>\n",
       "<style scoped>\n",
       "    .dataframe tbody tr th:only-of-type {\n",
       "        vertical-align: middle;\n",
       "    }\n",
       "\n",
       "    .dataframe tbody tr th {\n",
       "        vertical-align: top;\n",
       "    }\n",
       "\n",
       "    .dataframe thead th {\n",
       "        text-align: right;\n",
       "    }\n",
       "</style>\n",
       "<table border=\"1\" class=\"dataframe\">\n",
       "  <thead>\n",
       "    <tr style=\"text-align: right;\">\n",
       "      <th></th>\n",
       "      <th></th>\n",
       "      <th>Los Angeles</th>\n",
       "      <th>Phoenix</th>\n",
       "      <th>San Diego</th>\n",
       "      <th>San Francisco</th>\n",
       "      <th>Seattle</th>\n",
       "    </tr>\n",
       "    <tr>\n",
       "      <th>Airline</th>\n",
       "      <th>status</th>\n",
       "      <th></th>\n",
       "      <th></th>\n",
       "      <th></th>\n",
       "      <th></th>\n",
       "      <th></th>\n",
       "    </tr>\n",
       "  </thead>\n",
       "  <tbody>\n",
       "    <tr>\n",
       "      <th rowspan=\"2\" valign=\"top\">ALASKA</th>\n",
       "      <th>on time</th>\n",
       "      <td>497</td>\n",
       "      <td>221</td>\n",
       "      <td>212</td>\n",
       "      <td>503</td>\n",
       "      <td>1841</td>\n",
       "    </tr>\n",
       "    <tr>\n",
       "      <th>delayed</th>\n",
       "      <td>62</td>\n",
       "      <td>12</td>\n",
       "      <td>20</td>\n",
       "      <td>102</td>\n",
       "      <td>305</td>\n",
       "    </tr>\n",
       "    <tr>\n",
       "      <th rowspan=\"2\" valign=\"top\">AMWEST</th>\n",
       "      <th>on time</th>\n",
       "      <td>694</td>\n",
       "      <td>4840</td>\n",
       "      <td>383</td>\n",
       "      <td>320</td>\n",
       "      <td>201</td>\n",
       "    </tr>\n",
       "    <tr>\n",
       "      <th>delayed</th>\n",
       "      <td>117</td>\n",
       "      <td>415</td>\n",
       "      <td>65</td>\n",
       "      <td>129</td>\n",
       "      <td>61</td>\n",
       "    </tr>\n",
       "  </tbody>\n",
       "</table>\n",
       "</div>"
      ],
      "text/plain": [
       "                 Los Angeles  Phoenix  San Diego  San Francisco  Seattle\n",
       "Airline status                                                          \n",
       "ALASKA  on time          497      221        212            503     1841\n",
       "        delayed           62       12         20            102      305\n",
       "AMWEST  on time          694     4840        383            320      201\n",
       "        delayed          117      415         65            129       61"
      ]
     },
     "execution_count": 1,
     "metadata": {},
     "output_type": "execute_result"
    }
   ],
   "source": [
    "# Importing the necassary packages\n",
    "import numpy as np\n",
    "import pandas as pd\n",
    "import matplotlib.pyplot as plt \n",
    "import seaborn as sns\n",
    "# Creating a Numpy array\n",
    "Numpy_Array = np.array([497,221,212,503,1841,62,12,20,102,305,694,4840,383,320,201,117,415,65,129,61]).reshape(4,5) \n",
    "#Converting it into a data frame\n",
    "frame = pd.DataFrame(Numpy_Array)\n",
    "#Adding the col\n",
    "frame.columns=['Los Angeles','Phoenix','San Diego','San Francisco','Seattle']\n",
    "# adding the state and status\n",
    "frame['Airline']=['ALASKA','ALASKA','AMWEST','AMWEST']\n",
    "frame['status']=['on time','delayed','on time','delayed']\n",
    "# Adding the coloumn name\n",
    "cols = ['Airline','status','Los Angeles','Phoenix','San Diego',\n",
    "        'San Francisco',\n",
    "        'Seattle']\n",
    "# Rearranging the coloumns\n",
    "frame = frame[cols]\n",
    "# visualising it the same way on the PDF\n",
    "frame.set_index(['Airline', 'status'], inplace=True)\n",
    "# Printing the frame\n",
    "frame"
   ]
  },
  {
   "cell_type": "markdown",
   "metadata": {},
   "source": [
    "Creating a CSV file and store it on harddrive"
   ]
  },
  {
   "cell_type": "code",
   "execution_count": 2,
   "metadata": {},
   "outputs": [],
   "source": [
    "frame.to_csv('Question_One_in_Code.csv',index=False) # end of question 1"
   ]
  },
  {
   "cell_type": "markdown",
   "metadata": {},
   "source": [
    "### Question 2\n",
    "Read your .CSV file from your GitHub repository into a Jupyter Notebook, and use your knowledge of\n",
    "combining and reshaping data in Pandas to tidy and transform your data. To get started, think about how you\n",
    "would want the data to appear if it were converted to “long” format, e.g., how would you define a “single\n",
    "observation” for the data shown in the graphic?; How many key values are associated with each data value?;\n",
    "How many columns should your long format structure contain based on the information provided in the\n",
    "graphic shown above?; What would the column headings for the long structure be?; etc. Use your answers to\n",
    "these questions to guide your reshaping/transformational work on the data. Your reshaping/transformational\n",
    "steps must include converting the above table to a “tidy” long format. Additional transformational steps\n",
    "(e.g., filling in missing data values, renaming columns, etc.) should be performed as needed to ensure that\n",
    "your data is, in fact, “tidy”\n"
   ]
  },
  {
   "cell_type": "markdown",
   "metadata": {},
   "source": [
    "##### 2.1 Reading data from my Github\n",
    "Reading the comma seperated value file that was created in first way and that was uplouded on github"
   ]
  },
  {
   "cell_type": "code",
   "execution_count": 3,
   "metadata": {},
   "outputs": [
    {
     "data": {
      "text/html": [
       "<div>\n",
       "<style scoped>\n",
       "    .dataframe tbody tr th:only-of-type {\n",
       "        vertical-align: middle;\n",
       "    }\n",
       "\n",
       "    .dataframe tbody tr th {\n",
       "        vertical-align: top;\n",
       "    }\n",
       "\n",
       "    .dataframe thead th {\n",
       "        text-align: right;\n",
       "    }\n",
       "</style>\n",
       "<table border=\"1\" class=\"dataframe\">\n",
       "  <thead>\n",
       "    <tr style=\"text-align: right;\">\n",
       "      <th></th>\n",
       "      <th>Unnamed: 0</th>\n",
       "      <th>Unnamed: 1</th>\n",
       "      <th>Los Angeles</th>\n",
       "      <th>Phoenix</th>\n",
       "      <th>San Diego</th>\n",
       "      <th>San Francisco</th>\n",
       "      <th>Seattle</th>\n",
       "    </tr>\n",
       "  </thead>\n",
       "  <tbody>\n",
       "    <tr>\n",
       "      <th>0</th>\n",
       "      <td>ALASKA</td>\n",
       "      <td>on time</td>\n",
       "      <td>497.0</td>\n",
       "      <td>221.0</td>\n",
       "      <td>212.0</td>\n",
       "      <td>503.0</td>\n",
       "      <td>1841.0</td>\n",
       "    </tr>\n",
       "    <tr>\n",
       "      <th>1</th>\n",
       "      <td>NaN</td>\n",
       "      <td>delayed</td>\n",
       "      <td>62.0</td>\n",
       "      <td>12.0</td>\n",
       "      <td>20.0</td>\n",
       "      <td>102.0</td>\n",
       "      <td>305.0</td>\n",
       "    </tr>\n",
       "    <tr>\n",
       "      <th>2</th>\n",
       "      <td>NaN</td>\n",
       "      <td>NaN</td>\n",
       "      <td>NaN</td>\n",
       "      <td>NaN</td>\n",
       "      <td>NaN</td>\n",
       "      <td>NaN</td>\n",
       "      <td>NaN</td>\n",
       "    </tr>\n",
       "    <tr>\n",
       "      <th>3</th>\n",
       "      <td>AMWEST</td>\n",
       "      <td>on time</td>\n",
       "      <td>694.0</td>\n",
       "      <td>4840.0</td>\n",
       "      <td>383.0</td>\n",
       "      <td>320.0</td>\n",
       "      <td>201.0</td>\n",
       "    </tr>\n",
       "    <tr>\n",
       "      <th>4</th>\n",
       "      <td>NaN</td>\n",
       "      <td>delayed</td>\n",
       "      <td>117.0</td>\n",
       "      <td>415.0</td>\n",
       "      <td>65.0</td>\n",
       "      <td>129.0</td>\n",
       "      <td>61.0</td>\n",
       "    </tr>\n",
       "  </tbody>\n",
       "</table>\n",
       "</div>"
      ],
      "text/plain": [
       "  Unnamed: 0 Unnamed: 1  Los Angeles  Phoenix  San Diego  San Francisco  \\\n",
       "0     ALASKA    on time        497.0    221.0      212.0          503.0   \n",
       "1        NaN    delayed         62.0     12.0       20.0          102.0   \n",
       "2        NaN        NaN          NaN      NaN        NaN            NaN   \n",
       "3     AMWEST    on time        694.0   4840.0      383.0          320.0   \n",
       "4        NaN    delayed        117.0    415.0       65.0          129.0   \n",
       "\n",
       "   Seattle  \n",
       "0   1841.0  \n",
       "1    305.0  \n",
       "2      NaN  \n",
       "3    201.0  \n",
       "4     61.0  "
      ]
     },
     "execution_count": 3,
     "metadata": {},
     "output_type": "execute_result"
    }
   ],
   "source": [
    "# Reading the data into a CSV file\n",
    "data =pd.read_csv('https://raw.githubusercontent.com/OMS1996/DAV-5400/master/QuestionOne.csv')\n",
    "# Printing the data\n",
    "data"
   ]
  },
  {
   "cell_type": "markdown",
   "metadata": {},
   "source": [
    "#### 2.2 Making the data tidy"
   ]
  },
  {
   "cell_type": "markdown",
   "metadata": {},
   "source": [
    "##### 2.2.1 Removing the Null values\n",
    "Removing the rows with all the NULL values using dropna() and setting the parameter 'how' to all"
   ]
  },
  {
   "cell_type": "code",
   "execution_count": 4,
   "metadata": {},
   "outputs": [
    {
     "data": {
      "text/html": [
       "<div>\n",
       "<style scoped>\n",
       "    .dataframe tbody tr th:only-of-type {\n",
       "        vertical-align: middle;\n",
       "    }\n",
       "\n",
       "    .dataframe tbody tr th {\n",
       "        vertical-align: top;\n",
       "    }\n",
       "\n",
       "    .dataframe thead th {\n",
       "        text-align: right;\n",
       "    }\n",
       "</style>\n",
       "<table border=\"1\" class=\"dataframe\">\n",
       "  <thead>\n",
       "    <tr style=\"text-align: right;\">\n",
       "      <th></th>\n",
       "      <th>Unnamed: 0</th>\n",
       "      <th>Unnamed: 1</th>\n",
       "      <th>Los Angeles</th>\n",
       "      <th>Phoenix</th>\n",
       "      <th>San Diego</th>\n",
       "      <th>San Francisco</th>\n",
       "      <th>Seattle</th>\n",
       "    </tr>\n",
       "  </thead>\n",
       "  <tbody>\n",
       "    <tr>\n",
       "      <th>0</th>\n",
       "      <td>ALASKA</td>\n",
       "      <td>on time</td>\n",
       "      <td>497.0</td>\n",
       "      <td>221.0</td>\n",
       "      <td>212.0</td>\n",
       "      <td>503.0</td>\n",
       "      <td>1841.0</td>\n",
       "    </tr>\n",
       "    <tr>\n",
       "      <th>1</th>\n",
       "      <td>NaN</td>\n",
       "      <td>delayed</td>\n",
       "      <td>62.0</td>\n",
       "      <td>12.0</td>\n",
       "      <td>20.0</td>\n",
       "      <td>102.0</td>\n",
       "      <td>305.0</td>\n",
       "    </tr>\n",
       "    <tr>\n",
       "      <th>3</th>\n",
       "      <td>AMWEST</td>\n",
       "      <td>on time</td>\n",
       "      <td>694.0</td>\n",
       "      <td>4840.0</td>\n",
       "      <td>383.0</td>\n",
       "      <td>320.0</td>\n",
       "      <td>201.0</td>\n",
       "    </tr>\n",
       "    <tr>\n",
       "      <th>4</th>\n",
       "      <td>NaN</td>\n",
       "      <td>delayed</td>\n",
       "      <td>117.0</td>\n",
       "      <td>415.0</td>\n",
       "      <td>65.0</td>\n",
       "      <td>129.0</td>\n",
       "      <td>61.0</td>\n",
       "    </tr>\n",
       "  </tbody>\n",
       "</table>\n",
       "</div>"
      ],
      "text/plain": [
       "  Unnamed: 0 Unnamed: 1  Los Angeles  Phoenix  San Diego  San Francisco  \\\n",
       "0     ALASKA    on time        497.0    221.0      212.0          503.0   \n",
       "1        NaN    delayed         62.0     12.0       20.0          102.0   \n",
       "3     AMWEST    on time        694.0   4840.0      383.0          320.0   \n",
       "4        NaN    delayed        117.0    415.0       65.0          129.0   \n",
       "\n",
       "   Seattle  \n",
       "0   1841.0  \n",
       "1    305.0  \n",
       "3    201.0  \n",
       "4     61.0  "
      ]
     },
     "execution_count": 4,
     "metadata": {},
     "output_type": "execute_result"
    }
   ],
   "source": [
    "#Removing the rows with all the NULL\n",
    "data=data.dropna(how='all')\n",
    "# Printing\n",
    "data"
   ]
  },
  {
   "cell_type": "code",
   "execution_count": 5,
   "metadata": {},
   "outputs": [
    {
     "data": {
      "text/html": [
       "<div>\n",
       "<style scoped>\n",
       "    .dataframe tbody tr th:only-of-type {\n",
       "        vertical-align: middle;\n",
       "    }\n",
       "\n",
       "    .dataframe tbody tr th {\n",
       "        vertical-align: top;\n",
       "    }\n",
       "\n",
       "    .dataframe thead th {\n",
       "        text-align: right;\n",
       "    }\n",
       "</style>\n",
       "<table border=\"1\" class=\"dataframe\">\n",
       "  <thead>\n",
       "    <tr style=\"text-align: right;\">\n",
       "      <th></th>\n",
       "      <th>Airline</th>\n",
       "      <th>Status</th>\n",
       "      <th>Los Angeles</th>\n",
       "      <th>Phoenix</th>\n",
       "      <th>San Diego</th>\n",
       "      <th>San Francisco</th>\n",
       "      <th>Seattle</th>\n",
       "    </tr>\n",
       "  </thead>\n",
       "  <tbody>\n",
       "    <tr>\n",
       "      <th>0</th>\n",
       "      <td>ALASKA</td>\n",
       "      <td>on time</td>\n",
       "      <td>497.0</td>\n",
       "      <td>221.0</td>\n",
       "      <td>212.0</td>\n",
       "      <td>503.0</td>\n",
       "      <td>1841.0</td>\n",
       "    </tr>\n",
       "    <tr>\n",
       "      <th>1</th>\n",
       "      <td>NaN</td>\n",
       "      <td>delayed</td>\n",
       "      <td>62.0</td>\n",
       "      <td>12.0</td>\n",
       "      <td>20.0</td>\n",
       "      <td>102.0</td>\n",
       "      <td>305.0</td>\n",
       "    </tr>\n",
       "    <tr>\n",
       "      <th>3</th>\n",
       "      <td>AMWEST</td>\n",
       "      <td>on time</td>\n",
       "      <td>694.0</td>\n",
       "      <td>4840.0</td>\n",
       "      <td>383.0</td>\n",
       "      <td>320.0</td>\n",
       "      <td>201.0</td>\n",
       "    </tr>\n",
       "    <tr>\n",
       "      <th>4</th>\n",
       "      <td>NaN</td>\n",
       "      <td>delayed</td>\n",
       "      <td>117.0</td>\n",
       "      <td>415.0</td>\n",
       "      <td>65.0</td>\n",
       "      <td>129.0</td>\n",
       "      <td>61.0</td>\n",
       "    </tr>\n",
       "  </tbody>\n",
       "</table>\n",
       "</div>"
      ],
      "text/plain": [
       "  Airline   Status  Los Angeles  Phoenix  San Diego  San Francisco  Seattle\n",
       "0  ALASKA  on time        497.0    221.0      212.0          503.0   1841.0\n",
       "1     NaN  delayed         62.0     12.0       20.0          102.0    305.0\n",
       "3  AMWEST  on time        694.0   4840.0      383.0          320.0    201.0\n",
       "4     NaN  delayed        117.0    415.0       65.0          129.0     61.0"
      ]
     },
     "execution_count": 5,
     "metadata": {},
     "output_type": "execute_result"
    }
   ],
   "source": [
    "# Renaming all the coloumns\n",
    "data.columns=['Airline','Status','Los Angeles','Phoenix','San Diego','San Francisco','Seattle']\n",
    "# Printing the data\n",
    "x=data\n",
    "x"
   ]
  },
  {
   "cell_type": "markdown",
   "metadata": {},
   "source": [
    "##### 2.2.2 Filling in the Null values\n",
    "- Filling all the NaN values with previous values and then overwriting the coloumn in the data frame with a new and improved version of it Using the method fillna() and assigning the parameter 'method' = ffill\n",
    "\n",
    "- P.S: the reason i used copy is to avoid the warning message"
   ]
  },
  {
   "cell_type": "code",
   "execution_count": 6,
   "metadata": {},
   "outputs": [
    {
     "name": "stderr",
     "output_type": "stream",
     "text": [
      "C:\\Users\\Morra\\Anaconda3\\lib\\site-packages\\ipykernel_launcher.py:2: SettingWithCopyWarning: \n",
      "A value is trying to be set on a copy of a slice from a DataFrame.\n",
      "Try using .loc[row_indexer,col_indexer] = value instead\n",
      "\n",
      "See the caveats in the documentation: http://pandas.pydata.org/pandas-docs/stable/indexing.html#indexing-view-versus-copy\n",
      "  \n"
     ]
    },
    {
     "data": {
      "text/html": [
       "<div>\n",
       "<style scoped>\n",
       "    .dataframe tbody tr th:only-of-type {\n",
       "        vertical-align: middle;\n",
       "    }\n",
       "\n",
       "    .dataframe tbody tr th {\n",
       "        vertical-align: top;\n",
       "    }\n",
       "\n",
       "    .dataframe thead th {\n",
       "        text-align: right;\n",
       "    }\n",
       "</style>\n",
       "<table border=\"1\" class=\"dataframe\">\n",
       "  <thead>\n",
       "    <tr style=\"text-align: right;\">\n",
       "      <th></th>\n",
       "      <th>Airline</th>\n",
       "      <th>Status</th>\n",
       "      <th>Los Angeles</th>\n",
       "      <th>Phoenix</th>\n",
       "      <th>San Diego</th>\n",
       "      <th>San Francisco</th>\n",
       "      <th>Seattle</th>\n",
       "    </tr>\n",
       "  </thead>\n",
       "  <tbody>\n",
       "    <tr>\n",
       "      <th>0</th>\n",
       "      <td>ALASKA</td>\n",
       "      <td>on time</td>\n",
       "      <td>497.0</td>\n",
       "      <td>221.0</td>\n",
       "      <td>212.0</td>\n",
       "      <td>503.0</td>\n",
       "      <td>1841.0</td>\n",
       "    </tr>\n",
       "    <tr>\n",
       "      <th>1</th>\n",
       "      <td>ALASKA</td>\n",
       "      <td>delayed</td>\n",
       "      <td>62.0</td>\n",
       "      <td>12.0</td>\n",
       "      <td>20.0</td>\n",
       "      <td>102.0</td>\n",
       "      <td>305.0</td>\n",
       "    </tr>\n",
       "    <tr>\n",
       "      <th>3</th>\n",
       "      <td>AMWEST</td>\n",
       "      <td>on time</td>\n",
       "      <td>694.0</td>\n",
       "      <td>4840.0</td>\n",
       "      <td>383.0</td>\n",
       "      <td>320.0</td>\n",
       "      <td>201.0</td>\n",
       "    </tr>\n",
       "    <tr>\n",
       "      <th>4</th>\n",
       "      <td>AMWEST</td>\n",
       "      <td>delayed</td>\n",
       "      <td>117.0</td>\n",
       "      <td>415.0</td>\n",
       "      <td>65.0</td>\n",
       "      <td>129.0</td>\n",
       "      <td>61.0</td>\n",
       "    </tr>\n",
       "  </tbody>\n",
       "</table>\n",
       "</div>"
      ],
      "text/plain": [
       "  Airline   Status  Los Angeles  Phoenix  San Diego  San Francisco  Seattle\n",
       "0  ALASKA  on time        497.0    221.0      212.0          503.0   1841.0\n",
       "1  ALASKA  delayed         62.0     12.0       20.0          102.0    305.0\n",
       "3  AMWEST  on time        694.0   4840.0      383.0          320.0    201.0\n",
       "4  AMWEST  delayed        117.0    415.0       65.0          129.0     61.0"
      ]
     },
     "execution_count": 6,
     "metadata": {},
     "output_type": "execute_result"
    }
   ],
   "source": [
    "#Overwriting the missing NaN values\n",
    "data['Airline']= data['Airline'].fillna(method='ffill').copy()\n",
    "# Printing the values\n",
    "data"
   ]
  },
  {
   "cell_type": "markdown",
   "metadata": {},
   "source": [
    "##### 2.2.3 Resetting the indexes\n",
    "Resetting the Indexes within the data frame, and deleting the extra index coloumn because it is no longer needed"
   ]
  },
  {
   "cell_type": "code",
   "execution_count": 7,
   "metadata": {},
   "outputs": [
    {
     "data": {
      "text/html": [
       "<div>\n",
       "<style scoped>\n",
       "    .dataframe tbody tr th:only-of-type {\n",
       "        vertical-align: middle;\n",
       "    }\n",
       "\n",
       "    .dataframe tbody tr th {\n",
       "        vertical-align: top;\n",
       "    }\n",
       "\n",
       "    .dataframe thead th {\n",
       "        text-align: right;\n",
       "    }\n",
       "</style>\n",
       "<table border=\"1\" class=\"dataframe\">\n",
       "  <thead>\n",
       "    <tr style=\"text-align: right;\">\n",
       "      <th></th>\n",
       "      <th>Airline</th>\n",
       "      <th>Status</th>\n",
       "      <th>Los Angeles</th>\n",
       "      <th>Phoenix</th>\n",
       "      <th>San Diego</th>\n",
       "      <th>San Francisco</th>\n",
       "      <th>Seattle</th>\n",
       "    </tr>\n",
       "  </thead>\n",
       "  <tbody>\n",
       "    <tr>\n",
       "      <th>0</th>\n",
       "      <td>ALASKA</td>\n",
       "      <td>on time</td>\n",
       "      <td>497.0</td>\n",
       "      <td>221.0</td>\n",
       "      <td>212.0</td>\n",
       "      <td>503.0</td>\n",
       "      <td>1841.0</td>\n",
       "    </tr>\n",
       "    <tr>\n",
       "      <th>1</th>\n",
       "      <td>ALASKA</td>\n",
       "      <td>delayed</td>\n",
       "      <td>62.0</td>\n",
       "      <td>12.0</td>\n",
       "      <td>20.0</td>\n",
       "      <td>102.0</td>\n",
       "      <td>305.0</td>\n",
       "    </tr>\n",
       "    <tr>\n",
       "      <th>2</th>\n",
       "      <td>AMWEST</td>\n",
       "      <td>on time</td>\n",
       "      <td>694.0</td>\n",
       "      <td>4840.0</td>\n",
       "      <td>383.0</td>\n",
       "      <td>320.0</td>\n",
       "      <td>201.0</td>\n",
       "    </tr>\n",
       "    <tr>\n",
       "      <th>3</th>\n",
       "      <td>AMWEST</td>\n",
       "      <td>delayed</td>\n",
       "      <td>117.0</td>\n",
       "      <td>415.0</td>\n",
       "      <td>65.0</td>\n",
       "      <td>129.0</td>\n",
       "      <td>61.0</td>\n",
       "    </tr>\n",
       "  </tbody>\n",
       "</table>\n",
       "</div>"
      ],
      "text/plain": [
       "  Airline   Status  Los Angeles  Phoenix  San Diego  San Francisco  Seattle\n",
       "0  ALASKA  on time        497.0    221.0      212.0          503.0   1841.0\n",
       "1  ALASKA  delayed         62.0     12.0       20.0          102.0    305.0\n",
       "2  AMWEST  on time        694.0   4840.0      383.0          320.0    201.0\n",
       "3  AMWEST  delayed        117.0    415.0       65.0          129.0     61.0"
      ]
     },
     "execution_count": 7,
     "metadata": {},
     "output_type": "execute_result"
    }
   ],
   "source": [
    "# Resetting the index\n",
    "data = data.reset_index()\n",
    "# deleting the coloumn\n",
    "del data['index']\n",
    "# Printing\n",
    "data"
   ]
  },
  {
   "cell_type": "markdown",
   "metadata": {},
   "source": [
    "##### 2.2.4   Changing from \"Wide\" to \"Long\" Format\n",
    "\n",
    "###### 2.2.4.1 Questions & Anwers for Q2\n",
    "\n",
    "<br>\n",
    "- how would you define a “single observation” for the data shown in the graphic?\n",
    "</br>\n",
    "\n",
    "<br>\n",
    "Answer: Each observation is a certain configuration of state,status,city and frequncy and unless the frequency is the same it should be unique.<br>\n",
    "</br>\n",
    "\n",
    "<br>\n",
    "- How many key values are associated with each data value?\n",
    "</br>\n",
    "\n",
    "<br>\n",
    "Answer: 2 keys.<br>\n",
    "</br>\n",
    "\n",
    "<br>\n",
    "- How many columns should your long format structure contain based on the information provided in the graphic shown above?\n",
    "<br>\n",
    "</br>\n",
    "Answer: There should be 4 columns and there should be 20 elements in it.<br><br>\n",
    "</br>\n",
    "- What would the column headings for the long structure be?\n",
    "<br>\n",
    "Answer: It should be City and Frequency, denoting the cities and the number of flights\n",
    "</br>"
   ]
  },
  {
   "cell_type": "markdown",
   "metadata": {},
   "source": [
    "###### 2.2.4.2 Melting the Wide format into 4 coloumn thin long format\n",
    "- Using the melt function on the two ids state and status.\n",
    "- Saving the original wide version by adding the df variable.\n",
    "- Changing the name from Value to Frequency"
   ]
  },
  {
   "cell_type": "code",
   "execution_count": 8,
   "metadata": {},
   "outputs": [
    {
     "data": {
      "text/html": [
       "<div>\n",
       "<style scoped>\n",
       "    .dataframe tbody tr th:only-of-type {\n",
       "        vertical-align: middle;\n",
       "    }\n",
       "\n",
       "    .dataframe tbody tr th {\n",
       "        vertical-align: top;\n",
       "    }\n",
       "\n",
       "    .dataframe thead th {\n",
       "        text-align: right;\n",
       "    }\n",
       "</style>\n",
       "<table border=\"1\" class=\"dataframe\">\n",
       "  <thead>\n",
       "    <tr style=\"text-align: right;\">\n",
       "      <th></th>\n",
       "      <th>Airline</th>\n",
       "      <th>Status</th>\n",
       "      <th>City</th>\n",
       "      <th>Frequency</th>\n",
       "    </tr>\n",
       "  </thead>\n",
       "  <tbody>\n",
       "    <tr>\n",
       "      <th>0</th>\n",
       "      <td>ALASKA</td>\n",
       "      <td>on time</td>\n",
       "      <td>Los Angeles</td>\n",
       "      <td>497.0</td>\n",
       "    </tr>\n",
       "    <tr>\n",
       "      <th>1</th>\n",
       "      <td>ALASKA</td>\n",
       "      <td>delayed</td>\n",
       "      <td>Los Angeles</td>\n",
       "      <td>62.0</td>\n",
       "    </tr>\n",
       "    <tr>\n",
       "      <th>2</th>\n",
       "      <td>AMWEST</td>\n",
       "      <td>on time</td>\n",
       "      <td>Los Angeles</td>\n",
       "      <td>694.0</td>\n",
       "    </tr>\n",
       "    <tr>\n",
       "      <th>3</th>\n",
       "      <td>AMWEST</td>\n",
       "      <td>delayed</td>\n",
       "      <td>Los Angeles</td>\n",
       "      <td>117.0</td>\n",
       "    </tr>\n",
       "    <tr>\n",
       "      <th>4</th>\n",
       "      <td>ALASKA</td>\n",
       "      <td>on time</td>\n",
       "      <td>Phoenix</td>\n",
       "      <td>221.0</td>\n",
       "    </tr>\n",
       "    <tr>\n",
       "      <th>5</th>\n",
       "      <td>ALASKA</td>\n",
       "      <td>delayed</td>\n",
       "      <td>Phoenix</td>\n",
       "      <td>12.0</td>\n",
       "    </tr>\n",
       "    <tr>\n",
       "      <th>6</th>\n",
       "      <td>AMWEST</td>\n",
       "      <td>on time</td>\n",
       "      <td>Phoenix</td>\n",
       "      <td>4840.0</td>\n",
       "    </tr>\n",
       "    <tr>\n",
       "      <th>7</th>\n",
       "      <td>AMWEST</td>\n",
       "      <td>delayed</td>\n",
       "      <td>Phoenix</td>\n",
       "      <td>415.0</td>\n",
       "    </tr>\n",
       "    <tr>\n",
       "      <th>8</th>\n",
       "      <td>ALASKA</td>\n",
       "      <td>on time</td>\n",
       "      <td>San Diego</td>\n",
       "      <td>212.0</td>\n",
       "    </tr>\n",
       "    <tr>\n",
       "      <th>9</th>\n",
       "      <td>ALASKA</td>\n",
       "      <td>delayed</td>\n",
       "      <td>San Diego</td>\n",
       "      <td>20.0</td>\n",
       "    </tr>\n",
       "    <tr>\n",
       "      <th>10</th>\n",
       "      <td>AMWEST</td>\n",
       "      <td>on time</td>\n",
       "      <td>San Diego</td>\n",
       "      <td>383.0</td>\n",
       "    </tr>\n",
       "    <tr>\n",
       "      <th>11</th>\n",
       "      <td>AMWEST</td>\n",
       "      <td>delayed</td>\n",
       "      <td>San Diego</td>\n",
       "      <td>65.0</td>\n",
       "    </tr>\n",
       "    <tr>\n",
       "      <th>12</th>\n",
       "      <td>ALASKA</td>\n",
       "      <td>on time</td>\n",
       "      <td>San Francisco</td>\n",
       "      <td>503.0</td>\n",
       "    </tr>\n",
       "    <tr>\n",
       "      <th>13</th>\n",
       "      <td>ALASKA</td>\n",
       "      <td>delayed</td>\n",
       "      <td>San Francisco</td>\n",
       "      <td>102.0</td>\n",
       "    </tr>\n",
       "    <tr>\n",
       "      <th>14</th>\n",
       "      <td>AMWEST</td>\n",
       "      <td>on time</td>\n",
       "      <td>San Francisco</td>\n",
       "      <td>320.0</td>\n",
       "    </tr>\n",
       "    <tr>\n",
       "      <th>15</th>\n",
       "      <td>AMWEST</td>\n",
       "      <td>delayed</td>\n",
       "      <td>San Francisco</td>\n",
       "      <td>129.0</td>\n",
       "    </tr>\n",
       "    <tr>\n",
       "      <th>16</th>\n",
       "      <td>ALASKA</td>\n",
       "      <td>on time</td>\n",
       "      <td>Seattle</td>\n",
       "      <td>1841.0</td>\n",
       "    </tr>\n",
       "    <tr>\n",
       "      <th>17</th>\n",
       "      <td>ALASKA</td>\n",
       "      <td>delayed</td>\n",
       "      <td>Seattle</td>\n",
       "      <td>305.0</td>\n",
       "    </tr>\n",
       "    <tr>\n",
       "      <th>18</th>\n",
       "      <td>AMWEST</td>\n",
       "      <td>on time</td>\n",
       "      <td>Seattle</td>\n",
       "      <td>201.0</td>\n",
       "    </tr>\n",
       "    <tr>\n",
       "      <th>19</th>\n",
       "      <td>AMWEST</td>\n",
       "      <td>delayed</td>\n",
       "      <td>Seattle</td>\n",
       "      <td>61.0</td>\n",
       "    </tr>\n",
       "  </tbody>\n",
       "</table>\n",
       "</div>"
      ],
      "text/plain": [
       "   Airline   Status           City  Frequency\n",
       "0   ALASKA  on time    Los Angeles      497.0\n",
       "1   ALASKA  delayed    Los Angeles       62.0\n",
       "2   AMWEST  on time    Los Angeles      694.0\n",
       "3   AMWEST  delayed    Los Angeles      117.0\n",
       "4   ALASKA  on time        Phoenix      221.0\n",
       "5   ALASKA  delayed        Phoenix       12.0\n",
       "6   AMWEST  on time        Phoenix     4840.0\n",
       "7   AMWEST  delayed        Phoenix      415.0\n",
       "8   ALASKA  on time      San Diego      212.0\n",
       "9   ALASKA  delayed      San Diego       20.0\n",
       "10  AMWEST  on time      San Diego      383.0\n",
       "11  AMWEST  delayed      San Diego       65.0\n",
       "12  ALASKA  on time  San Francisco      503.0\n",
       "13  ALASKA  delayed  San Francisco      102.0\n",
       "14  AMWEST  on time  San Francisco      320.0\n",
       "15  AMWEST  delayed  San Francisco      129.0\n",
       "16  ALASKA  on time        Seattle     1841.0\n",
       "17  ALASKA  delayed        Seattle      305.0\n",
       "18  AMWEST  on time        Seattle      201.0\n",
       "19  AMWEST  delayed        Seattle       61.0"
      ]
     },
     "execution_count": 8,
     "metadata": {},
     "output_type": "execute_result"
    }
   ],
   "source": [
    "# Storing the data\n",
    "df = data\n",
    "# Using the melt function on state and status\n",
    "df = pd.melt(df, id_vars=['Airline','Status'], var_name='City')\n",
    "# Choosing a suitable name replacement for the coloumn name value\n",
    "df=df.rename(columns={'value': 'Frequency'})\n",
    "df"
   ]
  },
  {
   "cell_type": "markdown",
   "metadata": {},
   "source": [
    "###### 2.2.5\n",
    "Saving the New long data frame into a CSV"
   ]
  },
  {
   "cell_type": "code",
   "execution_count": 9,
   "metadata": {},
   "outputs": [],
   "source": [
    "# Saving the data frame into a CSV file\n",
    "df.to_csv('Question_Two_in_Code.csv',index=False)"
   ]
  },
  {
   "cell_type": "markdown",
   "metadata": {},
   "source": [
    "## Question 3\n",
    "Using your reshaped/transformed data, perform analysis to compare the arrival delays for the two airlines.\n",
    "\n",
    "### 3.1 Questions \n",
    "- Q1)For each city, which airline had the best on time performance?\n",
    "<br>Answer:AM WEST has has much higher on time flights for san diego and los and angelos while ALASKA has a higher on time flights frequency for seattle and san francisco, Which due to the fact that AM performs better in more cities and a great deal better in pheonix in particular where there are alot of flights, i am inclined to say that AM WEST is much better than ALASKA in arriving on time, Please refer to the plot A & B</br>\n",
    "- Q2)Which airline had the best overall on time performance?\n",
    "<br>Answer: Despite the fact that AM WEST is higher on the On time is slightly worse on the delayed time average so ALASKA has a higher performance rate, Please refer to the plot A & B</br>\n",
    "- The Optional question Q3) Regarding the ratio between Delays and on time flights which on is favored here?\n",
    "<br>Answer: On time flights in both airlines are far more than the delays"
   ]
  },
  {
   "cell_type": "markdown",
   "metadata": {},
   "source": [
    "### 3.1.1 Plot A & Summary statistics\n",
    "Here in Plot A, we use a barchart to understand the differences between AM WEST and ALASKA for each city from a frequency prespective"
   ]
  },
  {
   "cell_type": "code",
   "execution_count": 10,
   "metadata": {},
   "outputs": [
    {
     "name": "stdout",
     "output_type": "stream",
     "text": [
      "\t\t\tPlot A\n",
      "\n"
     ]
    },
    {
     "data": {
      "image/png": "[encoded data removed]",
      "text/plain": [
       "<Figure size 432x288 with 1 Axes>"
      ]
     },
     "metadata": {},
     "output_type": "display_data"
    }
   ],
   "source": [
    "# Styling and Using Seaborn\n",
    "sns.set(style=\"whitegrid\")\n",
    "# Using a barplot to show the frequency comparison\n",
    "print(\"\\t\\t\\tPlot A\\n\")\n",
    "g = sns.barplot(x=\"City\", y=\"Frequency\",hue=\"Airline\",data=df, palette=\"muted\")"
   ]
  },
  {
   "cell_type": "markdown",
   "metadata": {},
   "source": [
    "First i split the dataset into two, one for ALASKA the other is for AM WEST"
   ]
  },
  {
   "cell_type": "code",
   "execution_count": 11,
   "metadata": {},
   "outputs": [
    {
     "name": "stdout",
     "output_type": "stream",
     "text": [
      "\t\t\t The full summary statistics for the dataset \n",
      "The on time data set: \n",
      "         Frequency\n",
      "count    10.000000\n",
      "mean    377.500000\n",
      "std     544.246523\n",
      "min      12.000000\n",
      "25%      72.000000\n",
      "50%     216.500000\n",
      "75%     449.000000\n",
      "max    1841.000000 \n",
      "\n",
      "The AMWEST data set: \n",
      "        Frequency\n",
      "count    10.00000\n",
      "mean    722.50000\n",
      "std    1460.10519\n",
      "min      61.00000\n",
      "25%     120.00000\n",
      "50%     260.50000\n",
      "75%     407.00000\n",
      "max    4840.00000\n"
     ]
    }
   ],
   "source": [
    "# SPlitting the data\n",
    "df_ALASKA=df[df[\"Airline\"]==\"ALASKA\"]\n",
    "df_AMWEST=df[df[\"Airline\"]==\"AMWEST\"]\n",
    "# Formatting\n",
    "print(\"\\t\\t\\t The full summary statistics for the dataset \")\n",
    "# More formatting\n",
    "print(\"The on time data set: \")\n",
    "print(df_ALASKA.describe(),\"\\n\")\n",
    "# More more formatting\n",
    "print(\"The AMWEST data set: \")\n",
    "print(df_AMWEST.describe())"
   ]
  },
  {
   "cell_type": "markdown",
   "metadata": {},
   "source": [
    "### 3.1.2 Plot B & Summary statistics"
   ]
  },
  {
   "cell_type": "markdown",
   "metadata": {},
   "source": [
    "Here in Plot B, we use a barchart to understand the differences between AM WEST and ALASKA for each city from a frequency prespective\n",
    "only this time we split them into delayed and ontime categories"
   ]
  },
  {
   "cell_type": "code",
   "execution_count": 12,
   "metadata": {},
   "outputs": [
    {
     "name": "stdout",
     "output_type": "stream",
     "text": [
      "\t\t\tPlot B\n",
      "\n"
     ]
    },
    {
     "name": "stderr",
     "output_type": "stream",
     "text": [
      "C:\\Users\\Morra\\Anaconda3\\lib\\site-packages\\seaborn\\categorical.py:3666: UserWarning: The `factorplot` function has been renamed to `catplot`. The original name will be removed in a future release. Please update your code. Note that the default `kind` in `factorplot` (`'point'`) has changed `'strip'` in `catplot`.\n",
      "  warnings.warn(msg)\n"
     ]
    },
    {
     "data": {
      "image/png": "[encoded data removed]",
      "text/plain": [
       "<Figure size 807.975x360 with 2 Axes>"
      ]
     },
     "metadata": {},
     "output_type": "display_data"
    }
   ],
   "source": [
    "# Formatting\n",
    "print(\"\\t\\t\\tPlot B\\n\")\n",
    "# Building a barplot using seaborn\n",
    "sns.factorplot(x=\"City\", y=\"Frequency\",col=\"Status\",hue=\"Airline\",data=df, palette=\"muted\", kind=\"bar\");"
   ]
  },
  {
   "cell_type": "code",
   "execution_count": 13,
   "metadata": {},
   "outputs": [
    {
     "name": "stdout",
     "output_type": "stream",
     "text": [
      "\t\t\t The full summary statistics for the dataset \n",
      "The on time data set: \n",
      "         Frequency\n",
      "count    10.000000\n",
      "mean    971.200000\n",
      "std    1443.280045\n",
      "min     201.000000\n",
      "25%     245.750000\n",
      "50%     440.000000\n",
      "75%     646.250000\n",
      "max    4840.000000 \n",
      "\n",
      "The delayed data set: \n",
      "        Frequency\n",
      "count   10.000000\n",
      "mean   128.800000\n",
      "std    130.138217\n",
      "min     12.000000\n",
      "25%     61.250000\n",
      "50%     83.500000\n",
      "75%    126.000000\n",
      "max    415.000000\n"
     ]
    }
   ],
   "source": [
    "# Splitting into two data sets\n",
    "df_ontime=df[df[\"Status\"]==\"on time\"]\n",
    "df_delayed=df[df[\"Status\"]==\"delayed\"]\n",
    "# Formatting\n",
    "print(\"\\t\\t\\t The full summary statistics for the dataset \")\n",
    "# Getting summary statistics\n",
    "print(\"The on time data set: \")\n",
    "print(df_ontime.describe(),\"\\n\")\n",
    "print(\"The delayed data set: \")\n",
    "print(df_delayed.describe())"
   ]
  },
  {
   "cell_type": "markdown",
   "metadata": {},
   "source": [
    "### Question 4\n",
    "#### 4.1 Problem describtion\n",
    "Finally, given your “tidy” long format structure, consider what, if any, changes you would make to the\n",
    "visual presentation of the data if you were then asked to transform your “long” data back into a “wide”\n",
    "format: would you mimic the structure of the graphic shown above? If not, how might you transform your\n",
    "“long” data to “wide” format to make its “wide” presentation easier to understand and work with? Provide an\n",
    "example of your recommendation.\n",
    "\n",
    "#### Answer to 4.1\n",
    "I would use the the flavor of wide format in section 4.2 to perform calculations, however for visual presentation i would use a pivot table such as the one in section 4.3 because it is particularly useful for aggregating which is frequently needed in reports\n"
   ]
  },
  {
   "cell_type": "markdown",
   "metadata": {},
   "source": [
    "###### 4.2 Wide format (Normal format)"
   ]
  },
  {
   "cell_type": "code",
   "execution_count": 14,
   "metadata": {},
   "outputs": [
    {
     "data": {
      "text/html": [
       "<div>\n",
       "<style scoped>\n",
       "    .dataframe tbody tr th:only-of-type {\n",
       "        vertical-align: middle;\n",
       "    }\n",
       "\n",
       "    .dataframe tbody tr th {\n",
       "        vertical-align: top;\n",
       "    }\n",
       "\n",
       "    .dataframe thead th {\n",
       "        text-align: right;\n",
       "    }\n",
       "</style>\n",
       "<table border=\"1\" class=\"dataframe\">\n",
       "  <thead>\n",
       "    <tr style=\"text-align: right;\">\n",
       "      <th></th>\n",
       "      <th>Airline</th>\n",
       "      <th>Status</th>\n",
       "      <th>Los Angeles</th>\n",
       "      <th>Phoenix</th>\n",
       "      <th>San Diego</th>\n",
       "      <th>San Francisco</th>\n",
       "      <th>Seattle</th>\n",
       "    </tr>\n",
       "  </thead>\n",
       "  <tbody>\n",
       "    <tr>\n",
       "      <th>0</th>\n",
       "      <td>ALASKA</td>\n",
       "      <td>on time</td>\n",
       "      <td>497.0</td>\n",
       "      <td>221.0</td>\n",
       "      <td>212.0</td>\n",
       "      <td>503.0</td>\n",
       "      <td>1841.0</td>\n",
       "    </tr>\n",
       "    <tr>\n",
       "      <th>1</th>\n",
       "      <td>ALASKA</td>\n",
       "      <td>delayed</td>\n",
       "      <td>62.0</td>\n",
       "      <td>12.0</td>\n",
       "      <td>20.0</td>\n",
       "      <td>102.0</td>\n",
       "      <td>305.0</td>\n",
       "    </tr>\n",
       "    <tr>\n",
       "      <th>3</th>\n",
       "      <td>AMWEST</td>\n",
       "      <td>on time</td>\n",
       "      <td>694.0</td>\n",
       "      <td>4840.0</td>\n",
       "      <td>383.0</td>\n",
       "      <td>320.0</td>\n",
       "      <td>201.0</td>\n",
       "    </tr>\n",
       "    <tr>\n",
       "      <th>4</th>\n",
       "      <td>AMWEST</td>\n",
       "      <td>delayed</td>\n",
       "      <td>117.0</td>\n",
       "      <td>415.0</td>\n",
       "      <td>65.0</td>\n",
       "      <td>129.0</td>\n",
       "      <td>61.0</td>\n",
       "    </tr>\n",
       "  </tbody>\n",
       "</table>\n",
       "</div>"
      ],
      "text/plain": [
       "  Airline   Status  Los Angeles  Phoenix  San Diego  San Francisco  Seattle\n",
       "0  ALASKA  on time        497.0    221.0      212.0          503.0   1841.0\n",
       "1  ALASKA  delayed         62.0     12.0       20.0          102.0    305.0\n",
       "3  AMWEST  on time        694.0   4840.0      383.0          320.0    201.0\n",
       "4  AMWEST  delayed        117.0    415.0       65.0          129.0     61.0"
      ]
     },
     "execution_count": 14,
     "metadata": {},
     "output_type": "execute_result"
    }
   ],
   "source": [
    "x"
   ]
  },
  {
   "cell_type": "markdown",
   "metadata": {},
   "source": [
    "###### 4.3 Wide format Pivor table"
   ]
  },
  {
   "cell_type": "markdown",
   "metadata": {},
   "source": [
    "Pivot Table\n",
    "In this form, aggregating the ratings grouped by Airlines"
   ]
  },
  {
   "cell_type": "code",
   "execution_count": 15,
   "metadata": {},
   "outputs": [
    {
     "name": "stdout",
     "output_type": "stream",
     "text": [
      "\t\t\t Pivot table in wide format\n",
      "          Status                                                        \\\n",
      "idx            0        1        2        3        4        5        6   \n",
      "Airline                                                                  \n",
      "ALASKA   on time  delayed  on time  delayed  on time  delayed  on time   \n",
      "AMWEST   on time  delayed  on time  delayed  on time  delayed  on time   \n",
      "\n",
      "                                    ... Frequency                        \\\n",
      "idx            7        8        9  ...         0      1       2      3   \n",
      "Airline                             ...                                   \n",
      "ALASKA   delayed  on time  delayed  ...     497.0   62.0   221.0   12.0   \n",
      "AMWEST   delayed  on time  delayed  ...     694.0  117.0  4840.0  415.0   \n",
      "\n",
      "                                                   \n",
      "idx          4     5      6      7       8      9  \n",
      "Airline                                            \n",
      "ALASKA   212.0  20.0  503.0  102.0  1841.0  305.0  \n",
      "AMWEST   383.0  65.0  320.0  129.0   201.0   61.0  \n",
      "\n",
      "[2 rows x 30 columns]\n"
     ]
    }
   ],
   "source": [
    "# Formatting\n",
    "print(\"\\t\\t\\t Pivot table in wide format\")\n",
    "# Grouping the data by Airline\n",
    "df['idx'] = df.groupby('Airline').cumcount()\n",
    "#Building the pivot table\n",
    "print(df.pivot(index='Airline',columns='idx')[['Status','City','Frequency']])"
   ]
  },
  {
   "cell_type": "markdown",
   "metadata": {},
   "source": [
    "###### Thank you from Omar M. Hussein"
   ]
  },
  {
   "cell_type": "code",
   "execution_count": null,
   "metadata": {},
   "outputs": [],
   "source": []
  }
 ],
 "metadata": {
  "kernelspec": {
   "display_name": "Python 3",
   "language": "python",
   "name": "python3"
  },
  "language_info": {
   "codemirror_mode": {
    "name": "ipython",
    "version": 3
   },
   "file_extension": ".py",
   "mimetype": "text/x-python",
   "name": "python",
   "nbconvert_exporter": "python",
   "pygments_lexer": "ipython3",
   "version": "3.7.3"
  }
 },
 "nbformat": 4,
 "nbformat_minor": 2
}
