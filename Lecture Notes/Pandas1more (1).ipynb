{
 "cells": [
  {
   "cell_type": "markdown",
   "metadata": {},
   "source": [
    "## Week 4 Assignment Solutions"
   ]
  },
  {
   "cell_type": "markdown",
   "metadata": {},
   "source": [
    "1. Write a Python/NumPy code block that finds the distinct/unique common items between these two arrays:"
   ]
  },
  {
   "cell_type": "code",
   "execution_count": null,
   "metadata": {},
   "outputs": [],
   "source": [
    "import numpy as np\n",
    "\n",
    "a = np.array([1,2,3,2,3,4,3,4,5,6])\n",
    "b = np.array([7,2,10,2,7,4,9,4,9,8])\n",
    "\n",
    "# the question requires finding the intersection of the 2 arrays\n",
    "np.intersect1d(a,b)"
   ]
  },
  {
   "cell_type": "markdown",
   "metadata": {},
   "source": [
    "2. Create the following 5x3 array using knowledge you have of \n",
    "Python's/NumPy's sequencing functionality so that you do not need to \n",
    "explicitly key in every integer value."
   ]
  },
  {
   "cell_type": "code",
   "execution_count": null,
   "metadata": {},
   "outputs": [],
   "source": [
    "np.arange(1,16).reshape(3,5).T"
   ]
  },
  {
   "cell_type": "markdown",
   "metadata": {},
   "source": [
    "3. Write a Python/Numpy code block that removes from array a any items that are also present in array b."
   ]
  },
  {
   "cell_type": "code",
   "execution_count": null,
   "metadata": {},
   "outputs": [],
   "source": [
    "a = np.array([12,5,7,15,3,1,8])\n",
    "b = np.array([14,6,3,11,19,12,5])\n",
    "\n",
    "\n",
    "# the setdiff1d() function removes items from array a that are also in array b\n",
    "np.setdiff1d(a,b)"
   ]
  },
  {
   "cell_type": "markdown",
   "metadata": {},
   "source": [
    "4. Your task is to create a NumPy array wherein you can record the cumulative miles you recorded each day during your trip. Then use your Python skills to show the total miles that you rode each day. ..."
   ]
  },
  {
   "cell_type": "code",
   "execution_count": null,
   "metadata": {},
   "outputs": [],
   "source": [
    "# create an array containing your odometer readings. What is the actual distance\n",
    "# by bicycle from NYC to Key West?\n",
    "odometer_array = np.asarray([60, 105, 147, 189, 234, 289, 332, 388, 388, 444, 498, 549, 612, 655, 697, 756, 756, 809,853, \n",
    "                             896, 957, 1015, 1065, 1107, 1107, 1152, 1203, 1249, 1312, 1358, 1402, 1460, 1460, 1510, 1548])\n",
    "\n",
    "# the first daily mileage value is the first entry in the odometer array.\n",
    "# For the remaining daily calculations,\n",
    "# use the np.diff() function to calculate the differences\n",
    "# between consecutive array items to get your daily mileage values.\n",
    "# for days 2 - 35.\n",
    "np.diff(odometer_array)"
   ]
  },
  {
   "cell_type": "markdown",
   "metadata": {},
   "source": [
    "5. NYC Water Usage Data\n",
    "\n",
    "https://data.cityofnewyork.us/Environment/Water-Consumption-In-The-New-York-City/ia2d-e54m"
   ]
  },
  {
   "cell_type": "code",
   "execution_count": null,
   "metadata": {},
   "outputs": [],
   "source": [
    "import pandas\n",
    "import numpy as np\n",
    "\n",
    "# supress scientific notation\n",
    "np.set_printoptions(suppress = True)\n",
    "\n",
    "# read the data file from GitHub and convert to a NumPy ndarray object\n",
    "nyc_water = pandas.read_csv('https://raw.githubusercontent.com/jtopor/DAV-5400/master/Week4/Water_Consumption_In_The_New_York_City.csv').as_matrix()\n",
    "\n",
    "print(nyc_water)"
   ]
  },
  {
   "cell_type": "markdown",
   "metadata": {},
   "source": [
    "What is the maximum yearly NYC consumption of water in millions of gallons per day?"
   ]
  },
  {
   "cell_type": "code",
   "execution_count": null,
   "metadata": {},
   "outputs": [],
   "source": [
    "# yearly water consumption = column 3\n",
    "np.max(nyc_water[:, 2])"
   ]
  },
  {
   "cell_type": "markdown",
   "metadata": {},
   "source": [
    "How many calendar years are represented within this data set? NumPy's shape command is one way to find out."
   ]
  },
  {
   "cell_type": "code",
   "execution_count": null,
   "metadata": {},
   "outputs": [],
   "source": [
    "# np.shape() tells us row, col count for the array. The row count is equivalent\n",
    "# to the number of years\n",
    "\n",
    "np.shape(nyc_water)[0]"
   ]
  },
  {
   "cell_type": "markdown",
   "metadata": {},
   "source": [
    "What is the mean and standard deviation of the per capita daily water consumption?"
   ]
  },
  {
   "cell_type": "code",
   "execution_count": null,
   "metadata": {},
   "outputs": [],
   "source": [
    "# per capita daily water consumption is the 4th column\n",
    "print(np.mean(nyc_water[:, 3]))\n",
    "print(np.std(nyc_water[:, 3]))"
   ]
  },
  {
   "cell_type": "markdown",
   "metadata": {},
   "source": [
    "What is the increase or decrease in population from year to year? "
   ]
  },
  {
   "cell_type": "code",
   "execution_count": null,
   "metadata": {},
   "outputs": [],
   "source": [
    "# population is the 2nd column in the array\n",
    "# once again use np.diff() to calculate differences between consecutive\n",
    "# array items\n",
    "np.diff(nyc_water[:,1])"
   ]
  },
  {
   "cell_type": "markdown",
   "metadata": {},
   "source": [
    "# Week 5: Pandas Series & Data Frames\n",
    "\n",
    "## What is Pandas?\n",
    "\n",
    "- The name \"Pandas\" is derived from the term \"__Pan__el __Da__ta\"\n",
    "\n",
    "\n",
    "- The term \"panel data\" is used in statistics and econometrics to refer to data sets that include observations over multiple time periods for the same entities.\n",
    "\n",
    "\n",
    "- Pandas is a library of pre-built data structures and data manipulation tools designed to make the cleaning and analysis of data relatively fast and easy within Python.\n",
    "\n",
    "\n",
    "- Like NumPy, the underlying code has been optimized for speed of computation\n",
    "\n",
    "\n",
    "- 'Series' and 'Data Frames', the two primary Pandas data structures, are essentially NumPy arrays that have been extended to include functionality that allows users to define their own row & column labels. This feature enables far more flexibility in how users can manage + access data than is available with NumPy's integer-based row/column indexing scheme.\n",
    "\n",
    "\n",
    "- Pandas is used in conjunction with virtually every Python-based analytical and graphics package (e.g., scikit-learn, matplotlib, statsmodels, Seaborn, Plotly, etc.)\n",
    "\n",
    "\n",
    "- Becoming adept at the use of Pandas is necessary for any Python user wishing to become proficient in data analytics and visualization.\n",
    "\n",
    "\n",
    "\n",
    "## Getting Started With Pandas"
   ]
  },
  {
   "cell_type": "code",
   "execution_count": null,
   "metadata": {},
   "outputs": [],
   "source": [
    "# load the pandas library\n",
    "import pandas as pd\n",
    "\n",
    "# We're importing NumPy here for purposes of demonstrating similarities + \n",
    "# differences to Pandas objects\n",
    "import numpy as np\n",
    "\n",
    "# OPTIONAL: load the Series and DataFrame functions if you want to avoid the use of \n",
    "# the 'pd' predicate every time you want to create a new Series or \n",
    "# DataFrame object.\n",
    "from pandas import Series, DataFrame"
   ]
  },
  {
   "cell_type": "markdown",
   "metadata": {},
   "source": [
    "## Pandas Series Objects\n",
    "\n",
    "- One dimensional (similar to NumPy 1D array)\n",
    "\n",
    "\n",
    "- Comprised of a set of data values + a corresponding set of user-definable index values."
   ]
  },
  {
   "cell_type": "code",
   "execution_count": null,
   "metadata": {},
   "outputs": [],
   "source": [
    "# Define a 1D NumPy array so we can compare to a Pandas Series object\n",
    "NP1D = np.array([11, 28, 72, 3, 5, 8])\n",
    "NP1D"
   ]
  },
  {
   "cell_type": "code",
   "execution_count": null,
   "metadata": {},
   "outputs": [],
   "source": [
    "# Now define a Pandas series using the same data: \n",
    "# Note similarity to how a NumPy array is defined\n",
    "# But how the structure of the resulting object contains an explicit column\n",
    "# of index values (shown to the left of the data)\n",
    "S = pd.Series([11, 28, 72, 3, 5, 8])\n",
    "S"
   ]
  },
  {
   "cell_type": "markdown",
   "metadata": {},
   "source": [
    "In the above output, the left column contains the default index values assigned to the Series by Pandas. The right column contains the actual data elements we are placing into the Series object.\n",
    "\n",
    "\n",
    "Next, we access the index and the values directly:"
   ]
  },
  {
   "cell_type": "code",
   "execution_count": null,
   "metadata": {},
   "outputs": [],
   "source": [
    "# access the index for the Series\n",
    "print(S.index)\n",
    "print(\" \")\n",
    "\n",
    "# access the actual data values within the Series\n",
    "print(S.values)"
   ]
  },
  {
   "cell_type": "markdown",
   "metadata": {},
   "source": [
    "Note the zero-based characteristic of the index: Does this look familiar?\n",
    "\n",
    "\n",
    "Now let's define a series and assign our own index values to it:"
   ]
  },
  {
   "cell_type": "code",
   "execution_count": null,
   "metadata": {},
   "outputs": [],
   "source": [
    "# define a series + assign our own index values to it\n",
    "obj2 = pd.Series([4, 7, -5, 3], index=['d', 'b', 'a', 'c'])\n",
    "\n",
    "print(obj2)\n",
    "\n",
    "print(\" \")\n",
    "\n",
    "print(obj2.index)"
   ]
  },
  {
   "cell_type": "markdown",
   "metadata": {},
   "source": [
    "Now we can access our data using the index values we defined:"
   ]
  },
  {
   "cell_type": "code",
   "execution_count": null,
   "metadata": {},
   "outputs": [],
   "source": [
    "print(obj2['a'])\n",
    "\n",
    "# change the value of the element associated with index value 'd'\n",
    "print(obj2['d'])\n",
    "obj2['d'] = 6\n",
    "\n",
    "print(obj2['d'])\n",
    "\n",
    "# display the values associated with index values 'c', 'a', and 'd'\n",
    "obj2[['c', 'a', 'd']]"
   ]
  },
  {
   "cell_type": "code",
   "execution_count": null,
   "metadata": {},
   "outputs": [],
   "source": [
    "# apply a boolean test to a Series\n",
    "obj2[obj2 > 0]\n"
   ]
  },
  {
   "cell_type": "markdown",
   "metadata": {},
   "source": [
    "The index/data value relationship in a Pandas Series or DataFrame is very similar to the key/value relationships we saw in Python __dict__ objects:"
   ]
  },
  {
   "cell_type": "code",
   "execution_count": null,
   "metadata": {},
   "outputs": [],
   "source": [
    "# check to see if a 'key' value exists within the index of the series\n",
    "print('b' in obj2)\n",
    "'e' in obj2"
   ]
  },
  {
   "cell_type": "markdown",
   "metadata": {},
   "source": [
    "### Create a Pandas Series from a Python Dict"
   ]
  },
  {
   "cell_type": "code",
   "execution_count": null,
   "metadata": {},
   "outputs": [],
   "source": [
    "\n",
    "# define a Python dict object\n",
    "sdata = {'Ohio': 35000, 'Texas': 71000, 'Oregon': 16000, 'Utah': 5000}\n",
    "\n",
    "print(type(sdata))\n",
    "\n",
    "# convert the dict to a series: the dict's key values become the index of the series\n",
    "obj3 = pd.Series(sdata)\n",
    "\n",
    "obj3\n"
   ]
  },
  {
   "cell_type": "markdown",
   "metadata": {},
   "source": [
    "### 'NaN': How Pandas Indicates Missing Data Values"
   ]
  },
  {
   "cell_type": "code",
   "execution_count": null,
   "metadata": {},
   "outputs": [],
   "source": [
    "# define a dict with a missing data value\n",
    "sdata2 = {'Ohio': 35000, 'Texas': 71000, 'Oregon': 16000, 'Utah': None }\n",
    "\n",
    "# convert the dict to a series\n",
    "obj4 = pd.Series(sdata2)\n",
    "obj4"
   ]
  },
  {
   "cell_type": "code",
   "execution_count": null,
   "metadata": {},
   "outputs": [],
   "source": [
    "# test for missing values in the series\n",
    "print(pd.isnull(obj4))\n",
    "\n",
    "# use the built-in ufunc 'isnull() to test for missing values'\n",
    "print(obj4.isnull())\n",
    "\n",
    "# test for non-null values in the series\n",
    "pd.notnull(obj4)"
   ]
  },
  {
   "cell_type": "code",
   "execution_count": null,
   "metadata": {},
   "outputs": [],
   "source": [
    "# add values from 2 series\n",
    "obj3 + obj4"
   ]
  },
  {
   "cell_type": "markdown",
   "metadata": {},
   "source": [
    "Note the NaN result above for Utah: it is not possible to perform addition on an undefined value!!\n",
    "\n",
    "\n",
    "What happens if we try to add the values of two series whose key values __do not__ align?"
   ]
  },
  {
   "cell_type": "code",
   "execution_count": null,
   "metadata": {},
   "outputs": [],
   "source": [
    "ndata = {'Ohio': 35000, 'Texas': 71000, 'Oregon': 16000, 'Utah': 5000}\n",
    "\n",
    "print(type(ndata))\n",
    "\n",
    "nobj1 = pd.Series(ndata)\n",
    "\n",
    "pdata =  {'Virginia': 22000, 'Texas': 71000, 'Washington': 46000, 'Utah': 1000}\n",
    "print(type(pdata))\n",
    "\n",
    "nobj2 = pd.Series(pdata)\n",
    "\n",
    "nobj1 + nobj2"
   ]
  },
  {
   "cell_type": "markdown",
   "metadata": {},
   "source": [
    "### Pandas Index Values Can Be Changed \"In Place\""
   ]
  },
  {
   "cell_type": "code",
   "execution_count": null,
   "metadata": {},
   "outputs": [],
   "source": [
    "print(nobj2)\n",
    "\n",
    "# rename the indices for series object 'nobj2'\n",
    "nobj2.index = ['Bob', 'Steve', 'Jeff', 'Ryan']\n",
    "nobj2"
   ]
  },
  {
   "cell_type": "markdown",
   "metadata": {},
   "source": [
    "## Pandas DataFrame Objects\n",
    "\n",
    "- Data Frames are rectangular, ordered collection of columns\n",
    "\n",
    "\n",
    "- Columns can be of different data types\n",
    "\n",
    "\n",
    "- Data frames have indices that enable access to both the rows and columns.\n",
    "\n",
    "\n",
    "- As with Pandas Series objects, DataFrame column index names can be assigned by a user. Row indices can also be assigned by a user if needed.\n",
    "\n",
    "\n",
    "\n",
    "Let's compare a NumPy 2D array to a Pandas data frame:\n"
   ]
  },
  {
   "cell_type": "code",
   "execution_count": null,
   "metadata": {},
   "outputs": [],
   "source": [
    "# define a 2D NumPy array so we can compare it to a Pandas DataFrame\n",
    "# define a 2x3 array\n",
    "arr = np.array([[1., 2., 3.], [4., 5., 6.]])\n",
    "arr"
   ]
  },
  {
   "cell_type": "code",
   "execution_count": null,
   "metadata": {},
   "outputs": [],
   "source": [
    "# now define a Pandas DataFrame using the same data\n",
    "# note similarity to how a NumPy 2D array is defined\n",
    "# but how the structure of the resulting object contains explicit row + column\n",
    "# index values (shown to the left and above of the data)\n",
    "df1 = pd.DataFrame([[1., 2., 3.], [4., 5., 6.]])\n",
    "df1"
   ]
  },
  {
   "cell_type": "code",
   "execution_count": null,
   "metadata": {},
   "outputs": [],
   "source": [
    "# example from page 131 of \"Python for Data Analysis\"\n",
    "\n",
    "# first, the author defines a dict of key/value pairs\n",
    "data = {'state': ['Ohio', 'Ohio', 'Ohio', 'Nevada', 'Nevada', 'Nevada'],\n",
    "        'year': [2000, 2001, 2002, 2001, 2002, 2003],\n",
    "        'pop': [1.5, 1.7, 3.6, 2.4, 2.9, 3.2]}\n",
    "\n",
    "# then define the DataFrame, assigning your own names to the column + row indices\n",
    "frame2 = pd.DataFrame(data, columns=['year', 'state', 'pop', 'debt'],\n",
    "                      index=['one', 'two', 'three', 'four',\n",
    "                             'five', 'six'])\n",
    "frame2"
   ]
  },
  {
   "cell_type": "markdown",
   "metadata": {},
   "source": [
    "Note that the author specified 4 column names when there were only 3 columns of data defined within the 'data' dictionary. Pandas will automatically create that fourth column, but assigns a value of 'NaN' ('Not a number') to each column element within it."
   ]
  },
  {
   "cell_type": "code",
   "execution_count": null,
   "metadata": {},
   "outputs": [],
   "source": [
    "# display the column index for the data frame\n",
    "frame2.columns"
   ]
  },
  {
   "cell_type": "markdown",
   "metadata": {},
   "source": [
    "### Retrieving, Accessing, and Adding DataFrame Columns\n",
    "\n",
    "DataFrame columns can be retrieved as a Pandas Series object"
   ]
  },
  {
   "cell_type": "code",
   "execution_count": null,
   "metadata": {},
   "outputs": [],
   "source": [
    "# retrieve column using col name in quotes within brackets\n",
    "frame2['state']"
   ]
  },
  {
   "cell_type": "code",
   "execution_count": null,
   "metadata": {},
   "outputs": [],
   "source": [
    "# retrieve column using column name as an attribute of the DataFrame object\n",
    "# NOTE: this only works if the column name is not a Python method/function name\n",
    "# or Python keyword\n",
    "frame2.year"
   ]
  },
  {
   "cell_type": "code",
   "execution_count": null,
   "metadata": {},
   "outputs": [],
   "source": [
    "# add a new column based on a logic test:\n",
    "# in this example, all 'state' values of 'Ohio' are assigned an 'eastern'\n",
    "# value of 'True' while all other are assigned 'False'\n",
    "frame2['eastern'] = frame2.state == 'Ohio'\n",
    "frame2"
   ]
  },
  {
   "cell_type": "code",
   "execution_count": null,
   "metadata": {},
   "outputs": [],
   "source": [
    "# delete an unwanted column\n",
    "del frame2['eastern']\n",
    "frame2"
   ]
  },
  {
   "cell_type": "code",
   "execution_count": null,
   "metadata": {},
   "outputs": [],
   "source": [
    "# transpose the rows and columns of a data frame\n",
    "# NOTE: This does NOT transpose the data frame 'in place'\n",
    "# so if you want a transposed version, assign the output \n",
    "# of this line of code to a new variable name\n",
    "frame2.T"
   ]
  },
  {
   "cell_type": "code",
   "execution_count": null,
   "metadata": {},
   "outputs": [],
   "source": [
    "# frame2 has not been transposed \"in place\"\n",
    "frame2"
   ]
  },
  {
   "cell_type": "markdown",
   "metadata": {},
   "source": [
    "### Indexing, Selection & Filtering of Pandas Series + DataFrames\n",
    "\n",
    "\n",
    "#### Indexing for Series Objects"
   ]
  },
  {
   "cell_type": "code",
   "execution_count": null,
   "metadata": {},
   "outputs": [],
   "source": [
    "obj = pd.Series(np.arange(4.), index=['a', 'b', 'c', 'd'])\n",
    "obj\n"
   ]
  },
  {
   "cell_type": "code",
   "execution_count": null,
   "metadata": {},
   "outputs": [],
   "source": [
    "# get the data value from the series element corresponding to index 'b'\n",
    "obj['b']"
   ]
  },
  {
   "cell_type": "code",
   "execution_count": null,
   "metadata": {},
   "outputs": [],
   "source": [
    "# get the data values from series elements corresponding to indices 'b', \n",
    "# 'a' & 'd'\n",
    "obj[['b', 'a', 'd']]"
   ]
  },
  {
   "cell_type": "code",
   "execution_count": null,
   "metadata": {},
   "outputs": [],
   "source": [
    "# get data values corresponding to series elements in index positions 1 & 3\n",
    "obj[[1, 3]]"
   ]
  },
  {
   "cell_type": "code",
   "execution_count": null,
   "metadata": {},
   "outputs": [],
   "source": [
    "# assign the value of 5 to all elements between + inclusive of \n",
    "# indices 'b' & 'c'\n",
    "obj['b':'c'] = 5\n",
    "obj"
   ]
  },
  {
   "cell_type": "markdown",
   "metadata": {},
   "source": [
    "#### Indexing for DataFrame Objects"
   ]
  },
  {
   "cell_type": "code",
   "execution_count": null,
   "metadata": {},
   "outputs": [],
   "source": [
    "data = pd.DataFrame(\n",
    "                    np.arange(16).reshape((4, 4))\n",
    "                    ,index=['Ohio', 'Colorado', 'Utah', 'New York']\n",
    "                    ,columns=['one', 'two', 'three', 'four']\n",
    "                   )\n",
    "\n",
    "data\n"
   ]
  },
  {
   "cell_type": "code",
   "execution_count": null,
   "metadata": {},
   "outputs": [],
   "source": [
    "# display the values of the column having an index name of 'two'\n",
    "data['two']\n"
   ]
  },
  {
   "cell_type": "code",
   "execution_count": null,
   "metadata": {},
   "outputs": [],
   "source": [
    "# display the values of the columns having an index names of 'three' & 'one'\n",
    "data[['three', 'one']]"
   ]
  },
  {
   "cell_type": "code",
   "execution_count": null,
   "metadata": {},
   "outputs": [],
   "source": [
    "# display the content of all rows having indices < 2\n",
    "data[:2]"
   ]
  },
  {
   "cell_type": "code",
   "execution_count": null,
   "metadata": {},
   "outputs": [],
   "source": [
    "# display content of all rows where the value in the 'three' column is > 5\n",
    "data[data['three'] > 5]"
   ]
  },
  {
   "cell_type": "code",
   "execution_count": null,
   "metadata": {},
   "outputs": [],
   "source": [
    "# apply a logic test to the entire data frame\n",
    "data < 5"
   ]
  },
  {
   "cell_type": "markdown",
   "metadata": {},
   "source": [
    "#### Selecting / Filtering Data Using Column Names"
   ]
  },
  {
   "cell_type": "code",
   "execution_count": null,
   "metadata": {},
   "outputs": [],
   "source": [
    "# reprint 'frame2' so we can easily refer to its contents\n",
    "print(frame2)"
   ]
  },
  {
   "cell_type": "code",
   "execution_count": null,
   "metadata": {},
   "outputs": [],
   "source": [
    "# 'select state, pop from frame2 where year == 2002'\n",
    "# note you need to use double brackets if you are specifying more than one\n",
    "# column for 'selection'\n",
    "frame2[(frame2['year']== 2002)][[\"state\", \"pop\"]]"
   ]
  },
  {
   "cell_type": "code",
   "execution_count": null,
   "metadata": {},
   "outputs": [],
   "source": [
    "# 'select pop from frame2 where year == 2002 and state == Ohio'\n",
    "frame2[(frame2['year']== 2002) & (frame2['state'] == 'Ohio')][\"pop\"]"
   ]
  },
  {
   "cell_type": "markdown",
   "metadata": {},
   "source": [
    "## Accessing Data with 'loc' & 'iloc'\n",
    "\n",
    "- Subset rows + columns of a DataFrame using either the axis label values ('__loc__') or integer index values ('__iloc__')"
   ]
  },
  {
   "cell_type": "code",
   "execution_count": null,
   "metadata": {},
   "outputs": [],
   "source": [
    "# reprint data object for ease of reference\n",
    "print(data)"
   ]
  },
  {
   "cell_type": "code",
   "execution_count": null,
   "metadata": {},
   "outputs": [],
   "source": [
    "# subset columns having labels 'two' and 'three' for the row having\n",
    "# label 'Colorado'\n",
    "data.loc['Colorado', ['two', 'three']]"
   ]
  },
  {
   "cell_type": "code",
   "execution_count": null,
   "metadata": {},
   "outputs": [],
   "source": [
    "# subset columns 3, 0, 1 (in that order) from row having index value of \n",
    "# 2 of the data frame\n",
    "data.iloc[2, [3, 0, 1]]"
   ]
  },
  {
   "cell_type": "code",
   "execution_count": null,
   "metadata": {},
   "outputs": [],
   "source": [
    "# get row having index value of 2 from the data frame\n",
    "data.iloc[2]"
   ]
  },
  {
   "cell_type": "code",
   "execution_count": null,
   "metadata": {},
   "outputs": [],
   "source": [
    "# get all rows having integer index >= 1 and all columns having an integer\n",
    "# index < 3\n",
    "data.iloc[1:, :3]"
   ]
  },
  {
   "cell_type": "code",
   "execution_count": null,
   "metadata": {},
   "outputs": [],
   "source": [
    "# get all rows having an integer index < 2 and all columns having an integer\n",
    "# index >= 1\n",
    "data.iloc[:2, 1:]"
   ]
  },
  {
   "cell_type": "code",
   "execution_count": null,
   "metadata": {},
   "outputs": [],
   "source": [
    "# for all rows, subset only those whose column 'one' values are <= 8 and whose \n",
    "# column index value is < 3\n",
    "data.iloc[:, :3][data.one <= 8]"
   ]
  },
  {
   "cell_type": "markdown",
   "metadata": {},
   "source": [
    "## Summarizing & Computing Descriptive Statistics"
   ]
  },
  {
   "cell_type": "code",
   "execution_count": null,
   "metadata": {},
   "outputs": [],
   "source": [
    "# display frame2\n",
    "frame2"
   ]
  },
  {
   "cell_type": "code",
   "execution_count": null,
   "metadata": {
    "scrolled": true
   },
   "outputs": [],
   "source": [
    "# get descriptive statistics for a DataFrame column\n",
    "frame2['pop'].describe()"
   ]
  },
  {
   "cell_type": "code",
   "execution_count": null,
   "metadata": {},
   "outputs": [],
   "source": [
    "# get just the mean from the descriptive statistics\n",
    "frame2['pop'].describe()['mean']"
   ]
  },
  {
   "cell_type": "code",
   "execution_count": null,
   "metadata": {},
   "outputs": [],
   "source": [
    "# get descriptive stats for a column containing string values\n",
    "frame2['state'].describe()"
   ]
  },
  {
   "cell_type": "markdown",
   "metadata": {},
   "source": [
    "## Quick Visualizations with Pandas Objects"
   ]
  },
  {
   "cell_type": "code",
   "execution_count": null,
   "metadata": {},
   "outputs": [],
   "source": [
    "# create a histogram of frame2's 'pop' column's values \n",
    "frame2['pop'].plot(kind = 'hist')"
   ]
  },
  {
   "cell_type": "code",
   "execution_count": null,
   "metadata": {},
   "outputs": [],
   "source": [
    "# create a boxplot of frame2's 'pop' column's values \n",
    "frame2['pop'].plot(kind = 'box')"
   ]
  },
  {
   "cell_type": "code",
   "execution_count": null,
   "metadata": {},
   "outputs": [],
   "source": [
    "# line plot of Ohio's population by year\n",
    "fplot = frame2[frame2['state'] == 'Ohio'].plot(x = 'year', y = 'pop')\n",
    "# place a semicolon after plot name to suppress matplotlib info at top of plot\n",
    "fplot;"
   ]
  },
  {
   "cell_type": "code",
   "execution_count": null,
   "metadata": {},
   "outputs": [],
   "source": [
    "# line plot of Nevada's population by year\n",
    "fplot = frame2[frame2['state'] == 'Nevada'].plot(x = 'year', y = 'pop')\n",
    "fplot;"
   ]
  },
  {
   "cell_type": "code",
   "execution_count": null,
   "metadata": {},
   "outputs": [],
   "source": [
    "filename = \"https://raw.githubusercontent.com/jtopor/DAV-5400/master/Project1/hflights.csv\"\n",
    "df2 = pd.read_csv(filename)\n",
    "df2.head()"
   ]
  },
  {
   "cell_type": "markdown",
   "metadata": {},
   "source": [
    "## Case Study: UCI Mushroom Dataset\n",
    "\n",
    "A famous dataset about mushrooms can be found in the UCI repository here: https://archive.ics.uci.edu/ml/datasets/mushroom\n",
    "\n",
    " Your task is to study the dataset and the associated description of the data (i.e. “data dictionary”). You may need to look around a bit, but it’s there! You should take the data, and create a data frame with a subset of the columns (and if you like rows) in the dataset. You should include the column that indicates edible or poisonous and three or four other columns. You should also add meaningful column names and replace the abbreviations used in the data—for example, in the appropriate column, “e” might become “edible.”\n",
    "\n",
    "Here's a pd.read_csv() function call that will load the data set for you:\n"
   ]
  },
  {
   "cell_type": "code",
   "execution_count": null,
   "metadata": {},
   "outputs": [],
   "source": [
    "# load the data set\n",
    "import pandas as pd \n",
    "\n",
    "# This was the original read_csv() path - went direct to the UCI mushroom data set\n",
    "# However, UCI no longer provides direct access to that data so instead\n",
    "# we will make use of a copy of the data set that has been uploaded to Github\n",
    "# mr_df = pd.read_csv(\"https://archive.ics.uci.edu/ml/machine-learning-databases/mushroom/agaricus-lepiota.data\", header = None)\n",
    "\n",
    "# this is the new read_csv path:\n",
    "mr_df = pd.read_csv(\"https://raw.githubusercontent.com/jtopor/DAV-5400/master/Week5/agaricus-lepiota.data\", header = None)"
   ]
  },
  {
   "cell_type": "code",
   "execution_count": null,
   "metadata": {},
   "outputs": [],
   "source": [
    "# sanity check - make sure data was read in as expected\n",
    "mr_df.head()"
   ]
  },
  {
   "cell_type": "code",
   "execution_count": null,
   "metadata": {},
   "outputs": [],
   "source": [
    "# NOTE: number of columns in data frame is 1 more than number of attributes\n",
    "# described in data set. Why? First column is 'edible/poisonous' indicator\n",
    "len(mr_df.columns)\n"
   ]
  },
  {
   "cell_type": "markdown",
   "metadata": {},
   "source": [
    "1. Create a dataframe with a subset of the columns that includes the 'edible/poisonous' indicator and at least 3-4 other columns.\n",
    "\n",
    "*Example: Use 'edible', 'cap shape', 'cap color', 'odor', and 'habitat'*"
   ]
  },
  {
   "cell_type": "code",
   "execution_count": null,
   "metadata": {},
   "outputs": [],
   "source": [
    "# create a subset of 5 columns, including 'edible' + 'poisonous'\n",
    "# use the 'copy()' function if you want to preserve the original data frame\n",
    "mr_sub = mr_df.iloc[:, [0, 1, 3, 5, 22]].copy()"
   ]
  },
  {
   "cell_type": "code",
   "execution_count": null,
   "metadata": {},
   "outputs": [],
   "source": [
    "# check results: do we have the 5 columns we want? Check the first 10 rows\n",
    "mr_sub.head(10)"
   ]
  },
  {
   "cell_type": "markdown",
   "metadata": {},
   "source": [
    "2. Truncate the new data frame to reduce the number of rows"
   ]
  },
  {
   "cell_type": "code",
   "execution_count": null,
   "metadata": {},
   "outputs": [],
   "source": [
    "# take the first 100 rows and store them in a new data frame\n",
    "# use the copy() function if you want to preserve the original data frame\n",
    "mr_sub_tr = mr_sub.iloc[:100,:].copy()"
   ]
  },
  {
   "cell_type": "code",
   "execution_count": null,
   "metadata": {},
   "outputs": [],
   "source": [
    "# sanity check: were we successful in truncating the dataframe to 100 rows?\n",
    "mr_sub_tr.shape"
   ]
  },
  {
   "cell_type": "markdown",
   "metadata": {},
   "source": [
    "3. Add meaningful column names"
   ]
  },
  {
   "cell_type": "code",
   "execution_count": null,
   "metadata": {},
   "outputs": [],
   "source": [
    "# add meaningful column names\n",
    "mr_sub_tr.columns = ['Edible', 'Cap_Shape', 'Cap_Color', 'Odor', 'Habitat']\n",
    "\n",
    "# sanity check\n",
    "mr_sub_tr.head(5)"
   ]
  },
  {
   "cell_type": "markdown",
   "metadata": {},
   "source": [
    "4. Replace the single letter abbreviations used in the data with more descriptive character strings"
   ]
  },
  {
   "cell_type": "code",
   "execution_count": null,
   "metadata": {},
   "outputs": [],
   "source": [
    "# replace Edible col values\n",
    "mr_sub_tr.Edible.replace('e', 'edible', inplace = True)\n",
    "mr_sub_tr.Edible.replace('p', 'poisonous', inplace = True)\n",
    "\n",
    "# replace Cap Shape col values\n",
    "mr_sub_tr.Cap_Shape.replace('b', 'bell', inplace = True)\n",
    "mr_sub_tr.Cap_Shape.replace('c', 'conical', inplace = True)\n",
    "mr_sub_tr.Cap_Shape.replace('x', 'convex', inplace = True)\n",
    "mr_sub_tr.Cap_Shape.replace('f', 'flat', inplace = True)\n",
    "mr_sub_tr.Cap_Shape.replace('k', 'knobbed', inplace = True)\n",
    "mr_sub_tr.Cap_Shape.replace('s', 'sunken', inplace = True)\n",
    "\n",
    "mr_sub_tr.head(10)\n",
    "\n"
   ]
  },
  {
   "cell_type": "code",
   "execution_count": null,
   "metadata": {},
   "outputs": [],
   "source": [
    "# replace Cap Color values using a dict\n",
    "mr_sub_tr.Cap_Color.replace({'n': 'brown', \n",
    "                             'b': 'buff',\n",
    "                             'c': 'cinnamon',\n",
    "                             'g': 'gray',\n",
    "                             'r': 'green',\n",
    "                             'p': 'pink',\n",
    "                             'u': 'purple',\n",
    "                             'e': 'red',\n",
    "                             'w': 'white',\n",
    "                             'y': 'yellow'}, inplace = True)\n",
    "\n",
    "mr_sub_tr.head(10)\n",
    "\n",
    "# replace Odor col values\n",
    "\n",
    "\n",
    "\n",
    "# replace Habitat col values\n"
   ]
  },
  {
   "cell_type": "code",
   "execution_count": null,
   "metadata": {},
   "outputs": [],
   "source": [
    "# now do some basic subsetting\n",
    "# get rows where Cap_Shape == flat and Cap_Color == gray\n",
    "mr_sub_tr[(mr_sub_tr['Cap_Shape']== 'flat') & (mr_sub_tr['Cap_Color'] == 'gray')]"
   ]
  },
  {
   "cell_type": "code",
   "execution_count": null,
   "metadata": {},
   "outputs": [],
   "source": [
    "# get Habitat values from rows where Cap_Shape == flat and Cap_Colr == gray\n",
    "mr_sub_tr[(mr_sub_tr['Cap_Shape']== 'flat') & (mr_sub_tr['Cap_Color'] == 'gray')].Habitat"
   ]
  },
  {
   "cell_type": "code",
   "execution_count": null,
   "metadata": {},
   "outputs": [],
   "source": [
    "# get descriptive statistics for Cap_Color\n",
    "# remember: Cap_Color is a categorical variable, so the output of the \n",
    "# describe() function is different from what you would get if you \n",
    "# were working with a numeric variable\n",
    "mr_sub_tr.Cap_Color.describe()"
   ]
  },
  {
   "cell_type": "markdown",
   "metadata": {},
   "source": [
    "The results shown above tell us that for our 100 row subset we have 4 unique Cap_Color values. The most frequently occurring Cap_Color value within the 100 row subset is 'yellow': it appears 37 times within the 100 row subset"
   ]
  },
  {
   "cell_type": "code",
   "execution_count": null,
   "metadata": {},
   "outputs": [],
   "source": []
  }
 ],
 "metadata": {
  "kernelspec": {
   "display_name": "Python 3",
   "language": "python",
   "name": "python3"
  },
  "language_info": {
   "codemirror_mode": {
    "name": "ipython",
    "version": 3
   },
   "file_extension": ".py",
   "mimetype": "text/x-python",
   "name": "python",
   "nbconvert_exporter": "python",
   "pygments_lexer": "ipython3",
   "version": "3.7.3"
  }
 },
 "nbformat": 4,
 "nbformat_minor": 2
}
