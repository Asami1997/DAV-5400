{
 "cells": [
  {
   "cell_type": "markdown",
   "metadata": {},
   "source": [
    "# DAV 5400 Fall 2019 Week 8 Assignment (30 Points)\n",
    "## Regular Expressions"
   ]
  },
  {
   "cell_type": "markdown",
   "metadata": {},
   "source": [
    "- Text data is often in need of “cleaning” and preparation before it can be effectively used for analysis purposes. Consider\n",
    "the following poorly formatted text string containing names and phone numbers of some residents of the town of\n",
    "Springfield:\n",
    "- \n",
    "\"555-1239Moe Szyslak(636) 555-0113Burns, C. Montgomery555 -6542Rev. Timothy Lovejoy555\n",
    "8904Ned Flanders636-555-3226Simpson, Homer5553642Dr. Julius Hibbert\"\n",
    "\n",
    "- Use your Python regular expression (“regex”) skills to complete the following tasks:\n"
   ]
  },
  {
   "cell_type": "markdown",
   "metadata": {},
   "source": [
    "1. Extract the names of each individual from the unformatted text string and store them in a vector of some sort. When\n",
    "complete, your vector should contain the following entries:\n",
    "\"Moe Szyslak\" \"Burns, C. Montgomery\" \"Rev. Timothy Lovejoy\"\n",
    "\"Ned Flanders\" \"Simpson,Homer\" \"Dr. Julius Hibbert\"\n"
   ]
  },
  {
   "cell_type": "code",
   "execution_count": 1,
   "metadata": {},
   "outputs": [],
   "source": [
    "# Imorting the regular expression library , Numpy and Pandas\n",
    "import re\n",
    "import numpy as np\n",
    "import pandas as pd\n",
    "# Storing the text search space\n",
    "text = \"555-1239Moe Szyslak(636) 555-0113Burns, C. Montgomery555 -6542Rev. Timothy Lovejoy555 8904Ned Flanders636-555-3226Simpson, Homer5553642Dr. Julius Hibbert\""
   ]
  },
  {
   "cell_type": "markdown",
   "metadata": {},
   "source": [
    "##### Regex:\n",
    "- divided the expression into three parts first name, middle name(optional and a subject to multiplicity), last name with the same logic as the first\n",
    "\n",
    "##### Regex breakdown\n",
    "- Part I: name starting with capital then followed by as many letters as necessary [one or more] finally it is possibly followed by a comma or not and at the end there is one or more spaces\n",
    "\n",
    "- Part II: Is an optional part that has to start by one capital letter and a one or more lower case letters followed by a possible dot then finally 1 or more spaces, P.S there could be multiple middle names.\n",
    "\n",
    "- Part III: The last part has basically the same logic as the first part\n",
    "\n",
    "-  Title: follows a very similar logic, you can consider it part 0"
   ]
  },
  {
   "cell_type": "code",
   "execution_count": 2,
   "metadata": {},
   "outputs": [],
   "source": [
    "# Regular expression for extracting names.\n",
    "#Parts: Title                    partI              PartII             PartIII\n",
    "regex= r\"(?:[A-Z][a-z]*\\.\\s*)?\" + r\"[A-Z]{1}[a-z]+,?\\s+[A-Z{1}a-z*\\.?\\s+]*[A-Z]{1}[a-z]+\"\n",
    "#Recomling it into the name\n",
    "name_reg= re.compile(regex)"
   ]
  },
  {
   "cell_type": "markdown",
   "metadata": {},
   "source": [
    "- The following names:\n",
    "\"Moe Szyslak\" \"Burns, C. Montgomery\" \"Rev. Timothy Lovejoy\" \"Ned Flanders\" \"Simpson,Homer\" \"Dr. Julius Hibbert\"\n",
    "- will be extracted from the texts and the honorifics such as Dr, rev will be included\n"
   ]
  },
  {
   "cell_type": "code",
   "execution_count": 3,
   "metadata": {},
   "outputs": [
    {
     "name": "stdout",
     "output_type": "stream",
     "text": [
      "These are the six names extracted and stored: \n",
      " ['Moe Szyslak', 'Burns, C. Montgomery', 'Rev. Timothy Lovejoy', 'Ned Flanders', 'Simpson, Homer', 'Dr. Julius Hibbert']\n"
     ]
    }
   ],
   "source": [
    "# Storing the names in a Numpy array.\n",
    "names =name_reg.findall(text)\n",
    "# Printing the values.\n",
    "print(\"These are the six names extracted and stored: \\n\",names)"
   ]
  },
  {
   "cell_type": "markdown",
   "metadata": {},
   "source": [
    "2. Using your new vector containing only the names of the six individuals, complete the following tasks:\n",
    "\n",
    "   * a. Use your regex skills to rearrange the vector so that all elements conform to the standard “firstname\n",
    "lastname”, preserving any titles (e.g., “Rev.”, “Dr.”, etc) or middle/second names.\n",
    "\n",
    "   * b. Construct a logical vector indicating whether a character has a title (i.e., Rev. and Dr.).\n",
    "\n",
    "   * c. Construct a logical vector indicating whether a character has a middle/second name."
   ]
  },
  {
   "cell_type": "markdown",
   "metadata": {},
   "source": [
    "#### Plan Attack for 2.a\n",
    "So, the expressions that are not ordered are the ones that have a ',' so I would target those specifically and order them within\n",
    "the entire text\n"
   ]
  },
  {
   "cell_type": "code",
   "execution_count": 4,
   "metadata": {},
   "outputs": [
    {
     "name": "stdout",
     "output_type": "stream",
     "text": [
      "This is the ordered version:\n"
     ]
    },
    {
     "data": {
      "text/plain": [
       "array(['Moe Szyslak', ' C. Montgomery, Burns', 'Rev. Timothy Lovejoy',\n",
       "       'Ned Flanders', ' Homer, Simpson', 'Dr. Julius Hibbert'],\n",
       "      dtype='<U21')"
      ]
     },
     "execution_count": 4,
     "metadata": {},
     "output_type": "execute_result"
    }
   ],
   "source": [
    "# 2.a\n",
    "# arranging the the names that are not ordered\n",
    "main_pattern = r\"(?:[A-Z][a-z]*\\.\\s*)?\" + r\"[A-Z]{1}[a-z]+,?\\s+[A-Z{1}a-z*\\.?\\s+]*[A-Z]{1}[a-z]+\"\n",
    "extraction= re.findall(main_pattern ,text)\n",
    "\n",
    "# Unarranged names subset pattern\n",
    "target_pattern=\"([A-Z]{1}[a-z]+),([A-Z{1}a-z*\\.?\\s+]*[A-Z]{1}[a-z]+)\"\n",
    "\n",
    "#The regular expression compiled\n",
    "regular_exp=re.compile(target_pattern)\n",
    "# re-ordering the first and last name through groupings in a list comprehnsion.\n",
    "Question2a=[regular_exp.sub(r'\\2, \\1', item) for item in extraction]\n",
    "#here is the re-ordered list\n",
    "print(\"This is the ordered version:\")\n",
    "np.array(Question2a)"
   ]
  },
  {
   "cell_type": "markdown",
   "metadata": {},
   "source": [
    "#### Plan of attack for 2.b\n",
    "- we Construct a logical vector indicating whether a person has an honorific title (i.e., Rev. and Dr.)\n"
   ]
  },
  {
   "cell_type": "code",
   "execution_count": 5,
   "metadata": {},
   "outputs": [
    {
     "name": "stdout",
     "output_type": "stream",
     "text": [
      "0    False\n",
      "1    False\n",
      "2     True\n",
      "3    False\n",
      "4    False\n",
      "5     True\n",
      "dtype: bool \n",
      "Or you can look at it this way too:  [0, 0, 1, 0, 0, 1]\n"
     ]
    }
   ],
   "source": [
    "# Casting to a series to preform boealon check\n",
    "data = pd.Series(Question2a)\n",
    "# Creating the vector\n",
    "logical_vector = data.str.contains(r'Dr.|dr.|rev.|Rev.|Mr.|Miss.|Excellency.|Mrs.|Sir.|Dame.|sir.|dame.')\n",
    "print(logical_vector,\"\\nOr you can look at it this way too: \",list(logical_vector.astype('int64')))"
   ]
  },
  {
   "cell_type": "markdown",
   "metadata": {},
   "source": [
    "Plan of Attack 2.c\n",
    "- Construct a logical vector indicating whether a character has a middle/second name by simply checking \n",
    "if there are three or more names in a name without an honorific title\n",
    "or\n",
    "if there are four or more names in a name with an honorific title\n",
    "- Meaning we need to create a function that would facilitate this\n"
   ]
  },
  {
   "cell_type": "code",
   "execution_count": 6,
   "metadata": {},
   "outputs": [
    {
     "name": "stdout",
     "output_type": "stream",
     "text": [
      "How Many words? 2 \n",
      "How Many words? 3\n"
     ]
    }
   ],
   "source": [
    "def wordcount(value):\n",
    "    '''\n",
    "    Counts the number of words\n",
    "    Value is a text expression\n",
    "    returns an int\n",
    "    '''\n",
    "    # Find all non-whitespace patterns.\n",
    "    list = re.findall(\"(\\S+)\", value)\n",
    "    # Return length of resulting list.\n",
    "    return len(list)\n",
    "\n",
    "# demonstration of the word count, Looks great, eh!\n",
    "print(\"How Many words?\",wordcount(Question2a[0]),\"\\nHow Many words?\",wordcount(Question2a[1]))"
   ]
  },
  {
   "cell_type": "code",
   "execution_count": 7,
   "metadata": {},
   "outputs": [
    {
     "name": "stdout",
     "output_type": "stream",
     "text": [
      "The second one is the only one that has a middle name [0, 1, 0, 0, 0, 0]\n"
     ]
    },
    {
     "data": {
      "text/plain": [
       "0    0\n",
       "1    1\n",
       "2    0\n",
       "3    0\n",
       "4    0\n",
       "5    0\n",
       "dtype: int64"
      ]
     },
     "execution_count": 7,
     "metadata": {},
     "output_type": "execute_result"
    }
   ],
   "source": [
    "logical=list(logical_vector.astype('int64'))\n",
    "\n",
    "middle_vector=[]\n",
    "for val,lv in zip(Question2a,logical):\n",
    "    wc= wordcount(val)\n",
    "    if lv == 0:\n",
    "        if wc >= 3:\n",
    "            middle_vector.append(1)\n",
    "        else:\n",
    "            middle_vector.append(0)\n",
    "        \n",
    "    elif lv ==1:\n",
    "        if wc >=4:\n",
    "            middle_vector.append(1)\n",
    "        else:\n",
    "            middle_vector.append(0)\n",
    "print(\"The second one is the only one that has a middle name\",middle_vector)\n",
    "middle_vector = pd.Series(middle_vector)\n",
    "middle_vector"
   ]
  },
  {
   "cell_type": "markdown",
   "metadata": {},
   "source": [
    "## Here is a summary of Question 2 for all a b & c in DataFrame"
   ]
  },
  {
   "cell_type": "code",
   "execution_count": 8,
   "metadata": {},
   "outputs": [
    {
     "data": {
      "text/html": [
       "<div>\n",
       "<style scoped>\n",
       "    .dataframe tbody tr th:only-of-type {\n",
       "        vertical-align: middle;\n",
       "    }\n",
       "\n",
       "    .dataframe tbody tr th {\n",
       "        vertical-align: top;\n",
       "    }\n",
       "\n",
       "    .dataframe thead th {\n",
       "        text-align: right;\n",
       "    }\n",
       "</style>\n",
       "<table border=\"1\" class=\"dataframe\">\n",
       "  <thead>\n",
       "    <tr style=\"text-align: right;\">\n",
       "      <th></th>\n",
       "      <th>Name</th>\n",
       "      <th>Honorific_title_vector</th>\n",
       "      <th>middlename_vector</th>\n",
       "    </tr>\n",
       "  </thead>\n",
       "  <tbody>\n",
       "    <tr>\n",
       "      <th>0</th>\n",
       "      <td>Moe Szyslak</td>\n",
       "      <td>0</td>\n",
       "      <td>0</td>\n",
       "    </tr>\n",
       "    <tr>\n",
       "      <th>1</th>\n",
       "      <td>C. Montgomery, Burns</td>\n",
       "      <td>0</td>\n",
       "      <td>1</td>\n",
       "    </tr>\n",
       "    <tr>\n",
       "      <th>2</th>\n",
       "      <td>Rev. Timothy Lovejoy</td>\n",
       "      <td>1</td>\n",
       "      <td>0</td>\n",
       "    </tr>\n",
       "    <tr>\n",
       "      <th>3</th>\n",
       "      <td>Ned Flanders</td>\n",
       "      <td>0</td>\n",
       "      <td>0</td>\n",
       "    </tr>\n",
       "    <tr>\n",
       "      <th>4</th>\n",
       "      <td>Homer, Simpson</td>\n",
       "      <td>0</td>\n",
       "      <td>0</td>\n",
       "    </tr>\n",
       "    <tr>\n",
       "      <th>5</th>\n",
       "      <td>Dr. Julius Hibbert</td>\n",
       "      <td>1</td>\n",
       "      <td>0</td>\n",
       "    </tr>\n",
       "  </tbody>\n",
       "</table>\n",
       "</div>"
      ],
      "text/plain": [
       "                    Name  Honorific_title_vector  middlename_vector\n",
       "0            Moe Szyslak                       0                  0\n",
       "1   C. Montgomery, Burns                       0                  1\n",
       "2   Rev. Timothy Lovejoy                       1                  0\n",
       "3           Ned Flanders                       0                  0\n",
       "4         Homer, Simpson                       0                  0\n",
       "5     Dr. Julius Hibbert                       1                  0"
      ]
     },
     "execution_count": 8,
     "metadata": {},
     "output_type": "execute_result"
    }
   ],
   "source": [
    "# initialize list of lists \n",
    "data = {\n",
    "        'Name':list(Question2a)\n",
    "        ,'Honorific_title_vector':list(logical_vector.astype('int64'))\n",
    "        ,'middlename_vector':list(middle_vector)\n",
    "       } \n",
    "# Create the pandas DataFrame \n",
    "df = pd.DataFrame(data) \n",
    "  \n",
    "# print dataframe. \n",
    "df "
   ]
  },
  {
   "cell_type": "markdown",
   "metadata": {},
   "source": [
    "### Question 3"
   ]
  },
  {
   "cell_type": "markdown",
   "metadata": {},
   "source": [
    "For question 3 Consider the HTML string We would like to extract the first HTML tag To do so we write the regular expression “<. + >”. Explain why this fails and correct the expression.\n",
    "This regex is incorrect because it includes the entire expression when we only need a part of it so it would be better if we \n",
    "create the following regex and extract the first instance of it\n"
   ]
  },
  {
   "cell_type": "code",
   "execution_count": 9,
   "metadata": {},
   "outputs": [
    {
     "data": {
      "text/plain": [
       "['<title>+++BREAKING NEWS+++<title>']"
      ]
     },
     "execution_count": 9,
     "metadata": {},
     "output_type": "execute_result"
    }
   ],
   "source": [
    "q3=\"<title>+++BREAKING NEWS+++<title>\"\n",
    "re.findall(\"<.+>\",q3)"
   ]
  },
  {
   "cell_type": "markdown",
   "metadata": {},
   "source": [
    "r\"\\<\\w+\\>\" would be alot more useful to get the first instance of the title tag"
   ]
  },
  {
   "cell_type": "code",
   "execution_count": 10,
   "metadata": {},
   "outputs": [
    {
     "name": "stdout",
     "output_type": "stream",
     "text": [
      "<title>\n"
     ]
    }
   ],
   "source": [
    "# 3. Consider the HTML string <title>+++BREAKING NEWS+++<title>. We would like to extract the first HTML tag (i.e.,\n",
    "# “<title>”). To do so we write the regular expression “<.+>”. Explain why this fails and correct the expression.\n",
    "test=\"<!DOCTYUPE>howurhgouwrhgwrhgirhgpwrih<title>+++BREAKING NEWS+++<title> hjsthoirhipwrhpwjrhpijrohjwrp\"\n",
    "# Creating the regex to extract it\n",
    "title_regex=r\"\\<\\w+\\>\"\n",
    "entire= re.findall(title_regex ,test)[0]\n",
    "print(entire)"
   ]
  },
  {
   "cell_type": "markdown",
   "metadata": {},
   "source": [
    "4. Consider the string “(5-3) ^2=5^2-2*5*3+3^2” conforms to the binomial theorem. We would like to extract the\n",
    "formula in the string. To do so we write the regular expression “[^0-9=+*()] +”. Explain why this fails and correct the\n",
    "expression.\n"
   ]
  },
  {
   "cell_type": "markdown",
   "metadata": {},
   "source": [
    "As you can see below it doesn't get the required values it only gets the  certain operators and not the formula, that’s why it is not working because it lack digits and operators\n"
   ]
  },
  {
   "cell_type": "code",
   "execution_count": 11,
   "metadata": {},
   "outputs": [
    {
     "name": "stdout",
     "output_type": "stream",
     "text": [
      "['-', '^', '^', '-', '^']\n"
     ]
    }
   ],
   "source": [
    "test2 =\"(5-3)^2=5^2-2*5*3+3^2\"\n",
    "rg=r\"[^0-9=+*()]+\"\n",
    "fl= re.findall(rg ,test2)\n",
    "print(fl)"
   ]
  },
  {
   "cell_type": "markdown",
   "metadata": {},
   "source": [
    "This is to get the entire equation (5-3)^2=5^2-2*5*3+3^2 we get it like this"
   ]
  },
  {
   "cell_type": "code",
   "execution_count": 12,
   "metadata": {},
   "outputs": [
    {
     "name": "stdout",
     "output_type": "stream",
     "text": [
      "(5-3)^2=5^2-2*5*3+3^2\n"
     ]
    }
   ],
   "source": [
    "\n",
    "test3 =\"(5-3)^2=5^2-2*5*3+3^2\"\n",
    "rg=r\"\\(\\d[-|+]\\d\\)\\^\\d=\\S+\\b\"\n",
    "final= re.findall(rg ,test2)[0]\n",
    "print(final)\n"
   ]
  },
  {
   "cell_type": "markdown",
   "metadata": {},
   "source": [
    "# Thank You : Omar M. H"
   ]
  }
 ],
 "metadata": {
  "kernelspec": {
   "display_name": "Python 3",
   "language": "python",
   "name": "python3"
  },
  "language_info": {
   "codemirror_mode": {
    "name": "ipython",
    "version": 3
   },
   "file_extension": ".py",
   "mimetype": "text/x-python",
   "name": "python",
   "nbconvert_exporter": "python",
   "pygments_lexer": "ipython3",
   "version": "3.7.3"
  }
 },
 "nbformat": 4,
 "nbformat_minor": 2
}
