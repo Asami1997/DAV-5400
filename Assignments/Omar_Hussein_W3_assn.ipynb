{
 "cells": [
  {
   "cell_type": "markdown",
   "metadata": {},
   "source": [
    "#                           DAV 5400 Fall 2019 Week 3 Assignment\n",
    "This assignment will extend the work you started last week with the cars-sample35.txt data set to encompass list\n",
    "comprehensions, some additional Python data structures (e.g., dict objects), and user-defined functions.\n",
    "Start by reading the cars-sample35.txt file and re-creating the seven distinct lists of automobile attributes (i.e., Price,\n",
    "Maintenance Cost, Number of Doors, Number of Passengers, Luggage Capacity, Safety Rating, Classification of Vehicle)\n",
    "we worked with last week. You should be able to do this via a simple cut + paste of your code from last week."
   ]
  },
  {
   "cell_type": "code",
   "execution_count": 26,
   "metadata": {},
   "outputs": [],
   "source": [
    "# Importing the module\n",
    "import csv\n",
    "#Opening the file from my local HDD and giving it an alias\n",
    "with open('C:/Users/Morra/Downloads/cars-sample35.txt') as csvfile:\n",
    " readCSV = csv.reader(csvfile)\n",
    " \n",
    " #PRICE\n",
    " price=[val[0] for val in readCSV]\n",
    " #Seek is just to restart the CSV READER that is all.\n",
    " csvfile.seek(0)\n",
    " \n",
    " #Maintenance\n",
    " m_cost=[val[1] for val in readCSV]\n",
    " csvfile.seek(0)\n",
    "   \n",
    " #Number of Doors\n",
    " n_doors=[val[2] for val in readCSV]\n",
    " csvfile.seek(0)\n",
    " \n",
    " #Number of Passengers\n",
    " n_pass=[val[3] for val in readCSV]\n",
    " csvfile.seek(0)\n",
    " \n",
    " #luggage Capacity\n",
    " l_cap=[val[4] for val in readCSV]\n",
    " csvfile.seek(0)\n",
    "  \n",
    " #Safety rating\n",
    " s_rating=[val[5] for val in readCSV]\n",
    " csvfile.seek(0)\n",
    "    \n",
    " #class vehical\n",
    " c_veh=[val[6] for val in readCSV]\n",
    " csvfile.seek(0)\n"
   ]
  },
  {
   "cell_type": "markdown",
   "metadata": {},
   "source": [
    "#  List Comprehensions\n",
    "Your first task is to find the list index values of each automobile having a price rating of \"med\". However, you are\n",
    "required to do this using a list comprehension instead of a basic for or while loop. The list comprehension should\n",
    "create a new list containing your result. Be sure to print your results to the screen.\n",
    "##### \"Your second task is to find the \"number of passengers\" value for each auto having a \"price\" value of \"med\" using a list\n",
    "comprehension instead of a basic for or while loop. The list comprehension should create a new list containing your\n",
    "findings. Be sure to print your results to the screen.\n",
    "###### Your third task is to find the index value for each automobile having a price value of \"high\" and a maintenance value that\n",
    "is not \"low\" using a list comprehension. The list comprehension should create a new list containing your findings. Be\n",
    "sure to print your results to the screen.\n"
   ]
  },
  {
   "cell_type": "code",
   "execution_count": 36,
   "metadata": {},
   "outputs": [
    {
     "name": "stdout",
     "output_type": "stream",
     "text": [
      "Medium price: \n",
      "[6, 16, 20, 23, 26, 29]\n",
      "\n",
      "\n",
      "Number of passenger Medium price: \n",
      "['more', '2', '2', '2', '4', '2']\n",
      "\n",
      "\n",
      "High Priced Vehicles with anything but low maintenance \n",
      "[0, 1, 2, 27, 31]\n",
      "\n",
      "\n"
     ]
    }
   ],
   "source": [
    "#Task1\n",
    "price_med = [i for i,val in enumerate(price) if val == 'med']\n",
    "print(\"Medium price: \")\n",
    "print(price_med)\n",
    "print(\"\\n\")\n",
    "\n",
    "#Task2\n",
    "n_pass_med = [n_pass[i] for i,val in enumerate(price) if val == 'med']\n",
    "print(\"Number of passenger Medium price: \")\n",
    "print(n_pass_med)\n",
    "print(\"\\n\")\n",
    "\n",
    "#Task3\n",
    "price_high = [i for i,val in enumerate(c_veh) if price[i] == 'high' and m_cost[i]!='low']\n",
    "print(\"High Priced Vehicles with anything but low maintenance \")\n",
    "print(price_high)\n",
    "print(\"\\n\")\n"
   ]
  },
  {
   "cell_type": "markdown",
   "metadata": {},
   "source": [
    "#### Nested List Comprehensions\n",
    "Consider the following list of lists:\n",
    "nlist = [ [1, 2, 3], [‘A’, ‘B’, ‘C’], [4, 5], [‘D’, ‘E’] ]\n",
    "If we wanted to extract each individual element of the component lists contained within nlist and add them to a new\n",
    "list, we could use a nested for loop similar to this:\n",
    "--------\n",
    "#### flist = []\n",
    "##### for x in nlist:\n",
    " ##### for y in x:\n",
    " ###### flist.append(y)\n",
    "##### print(flist)\n",
    "--------\n",
    "# For your fourth task, implement this same logic using a list comprehension. Apply your list comprehension to the nlist\n",
    "list of lists shown above. Be sure to print your newly created list to the screen.\n",
    "\n"
   ]
  },
  {
   "cell_type": "code",
   "execution_count": 55,
   "metadata": {},
   "outputs": [],
   "source": [
    "nlist = [ [1, 2, 3], ['A', 'B', 'C'], [4, 5], ['D', 'E'] ]"
   ]
  },
  {
   "cell_type": "code",
   "execution_count": 60,
   "metadata": {},
   "outputs": [
    {
     "name": "stdout",
     "output_type": "stream",
     "text": [
      "we have successfully flattened it, eat that nested for loops\n"
     ]
    },
    {
     "data": {
      "text/plain": [
       "[1, 2, 3, 'A', 'B', 'C', 4, 5, 'D', 'E']"
      ]
     },
     "execution_count": 60,
     "metadata": {},
     "output_type": "execute_result"
    }
   ],
   "source": [
    "#el is what we ultimately want so put at the return area of the list comprehension\n",
    "# now first thing we do is loop through the list of lists then for every lst loop through its elements\n",
    "flist = [el for lst in nlist for el in lst]\n",
    "print(\"we have successfully flattened it, eat that nested for loops\")\n",
    "flist\n"
   ]
  },
  {
   "cell_type": "markdown",
   "metadata": {},
   "source": [
    "Write a Function That Converts a List to a Dict Object\n",
    "# Your fifth task is to create a user defined function that accepts as input one of the seven automobile attribute lists as well as an integer value and returns a Python dict object. \n",
    "\n",
    "Remember: a Python dict object is comprised of ‘key/value’\n",
    "pairs. The integer value accepted as a parameter by your function will represent the exact number of items you are to\n",
    "\n",
    "use from the list for purposes of creating the new dict object. So for example, if your function was defined as:\n",
    "--------\n",
    "\n",
    "def makedict(mylist, x):\n",
    "newdict = {}\n",
    "\n",
    "return(newdict)\n",
    "\n",
    "--------\n",
    "\n",
    "you would take the first x items from mylist to create the new dict object. The key values you assign to the elements of\n",
    "the dict object should all be comprised of a combination of the letter ‘A’ and the alphanumeric representation of the\n",
    "index value corresponding to the location of the item in the mylist object. So if you had 3 dict elements in total, the key\n",
    "values for those elements would be (‘A0’, ‘A1’, ‘A2’). If we apply this concept to the first 5 elements of our “Luggage” list\n",
    "we’d have a dict object that looks like this:\n",
    "First five elements of luggage list:\n",
    "['med', 'small', 'big', 'big', 'med']\n",
    "\n"
   ]
  },
  {
   "cell_type": "code",
   "execution_count": 91,
   "metadata": {},
   "outputs": [],
   "source": [
    "def makedict(mylist,x=4):\n",
    "    #checking if the size is appropriate\n",
    "    if x <= len(mylist):\n",
    "        #initializing a dictionary\n",
    "        dic = {}\n",
    "        #slicing the dictionary\n",
    "        mylist = mylist[:x]\n",
    "        # this is how you make a dictionary using dictionary comprehnision\n",
    "        dic = {'A'+str(idx):val for idx,val in enumerate(mylist)}\n",
    "        # returning a dictionary\n",
    "        return dic\n",
    "    else:\n",
    "        #returing an error message\n",
    "        return 'Please enter a value for x smaller than list,Try again ;-)'"
   ]
  },
  {
   "cell_type": "code",
   "execution_count": 92,
   "metadata": {},
   "outputs": [
    {
     "data": {
      "text/plain": [
       "'Please enter a value for x smaller than list,Try again ;-)'"
      ]
     },
     "execution_count": 92,
     "metadata": {},
     "output_type": "execute_result"
    }
   ],
   "source": [
    "# Testing the error snif\n",
    "makedict(price,555)\n",
    "\n"
   ]
  },
  {
   "cell_type": "code",
   "execution_count": 94,
   "metadata": {},
   "outputs": [
    {
     "data": {
      "text/plain": [
       "{'A0': 'high',\n",
       " 'A1': 'high',\n",
       " 'A2': 'high',\n",
       " 'A3': 'high',\n",
       " 'A4': 'vhigh',\n",
       " 'A5': 'low',\n",
       " 'A6': 'med'}"
      ]
     },
     "execution_count": 94,
     "metadata": {},
     "output_type": "execute_result"
    }
   ],
   "source": [
    "price_dic=makedict(price,7)\n",
    "price_dic"
   ]
  },
  {
   "cell_type": "code",
   "execution_count": 95,
   "metadata": {},
   "outputs": [
    {
     "data": {
      "text/plain": [
       "{'A0': 'med',\n",
       " 'A1': 'small',\n",
       " 'A2': 'big',\n",
       " 'A3': 'big',\n",
       " 'A4': 'med',\n",
       " 'A5': 'small',\n",
       " 'A6': 'med'}"
      ]
     },
     "execution_count": 95,
     "metadata": {},
     "output_type": "execute_result"
    }
   ],
   "source": [
    "luggage_dic=makedict(l_cap,7)\n",
    "luggage_dic\n"
   ]
  },
  {
   "cell_type": "code",
   "execution_count": 99,
   "metadata": {},
   "outputs": [
    {
     "name": "stdout",
     "output_type": "stream",
     "text": [
      "The value of luggage dictionary is : med \n",
      "\n",
      "The value of the price dictionary is : vhigh \n",
      "\n"
     ]
    }
   ],
   "source": [
    "# the value in A4 of each luggage and price\n",
    "print('The value of luggage dictionary is : {0} \\n'.format(luggage_dic['A4']))\n",
    "print('The value of the price dictionary is : {0} \\n'.format(price_dic['A4']))\n"
   ]
  },
  {
   "cell_type": "code",
   "execution_count": null,
   "metadata": {},
   "outputs": [],
   "source": []
  }
 ],
 "metadata": {
  "kernelspec": {
   "display_name": "Python 3",
   "language": "python",
   "name": "python3"
  },
  "language_info": {
   "codemirror_mode": {
    "name": "ipython",
    "version": 3
   },
   "file_extension": ".py",
   "mimetype": "text/x-python",
   "name": "python",
   "nbconvert_exporter": "python",
   "pygments_lexer": "ipython3",
   "version": "3.7.3"
  }
 },
 "nbformat": 4,
 "nbformat_minor": 2
}
