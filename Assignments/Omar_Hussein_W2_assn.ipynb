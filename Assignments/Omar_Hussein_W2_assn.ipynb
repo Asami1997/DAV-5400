{
 "cells": [
  {
   "cell_type": "markdown",
   "metadata": {},
   "source": [
    "# This Assignment 2 for week 2 of Analytical Programming\n",
    "### First we need to get the data first so we will be using a framework called CSV\n",
    "### location on my HDD : C:\\Users\\Morra\\Downloads\n",
    "### Data Set : cars-sample35.txt\n",
    "#### Data Details, Cols names are :\n",
    "- Price\n",
    "- Maintenance cost\n",
    "- Number of doors\n",
    "- Number of passengers\n",
    "- Luggage capacity\n",
    "- Safety rating\n",
    "- Classification of vehicle\n",
    "\n",
    "PS: The approach i took in this assignment is that i assumed that each task is mutual exclusive"
   ]
  },
  {
   "cell_type": "code",
   "execution_count": 94,
   "metadata": {},
   "outputs": [
    {
     "name": "stdout",
     "output_type": "stream",
     "text": [
      "['high', 'high', '2', '4', 'med', 'low', 'unacc']\n",
      "['high', 'high', '4', 'more', 'small', 'high', 'acc']\n",
      "['high', 'high', '4', 'more', 'big', 'low', 'unacc']\n",
      "['high', 'low', '2', 'more', 'big', 'high', 'acc']\n",
      "['vhigh', 'low', '3', '2', 'med', 'med', 'unacc']\n",
      "['low', 'high', '2', '2', 'small', 'low', 'unacc']\n",
      "['med', 'med', '4', 'more', 'med', 'high', 'vgood']\n",
      "['low', 'low', '3', '2', 'big', 'med', 'unacc']\n",
      "['vhigh', 'low', '2', '2', 'small', 'low', 'unacc']\n",
      "['vhigh', 'high', '4', '4', 'med', 'low', 'unacc']\n",
      "['low', 'low', '2', '2', 'med', 'med', 'unacc']\n",
      "['vhigh', 'low', '4', 'more', 'small', 'high', 'acc']\n",
      "['high', 'low', '2', '4', 'big', 'med', 'acc']\n",
      "['low', 'vhigh', '3', 'more', 'big', 'low', 'unacc']\n",
      "['high', 'low', '5more', '2', 'big', 'med', 'unacc']\n",
      "['vhigh', 'high', '2', 'more', 'med', 'high', 'unacc']\n",
      "['med', 'med', '2', '2', 'small', 'low', 'unacc']\n",
      "['high', 'low', '5more', '4', 'med', 'high', 'acc']\n",
      "['low', 'low', '3', 'more', 'med', 'high', 'vgood']\n",
      "['low', 'low', '2', '2', 'big', 'med', 'unacc']\n",
      "['med', 'high', '4', '2', 'big', 'high', 'unacc']\n",
      "['low', 'low', '2', '2', 'small', 'high', 'unacc']\n",
      "['vhigh', 'high', '5more', '4', 'med', 'med', 'unacc']\n",
      "['med', 'vhigh', '2', '2', 'big', 'low', 'unacc']\n",
      "['low', 'vhigh', '4', '4', 'big', 'low', 'unacc']\n",
      "['vhigh', 'low', '3', 'more', 'big', 'low', 'unacc']\n",
      "['med', 'vhigh', '3', '4', 'small', 'low', 'unacc']\n",
      "['high', 'high', '3', '4', 'med', 'med', 'unacc']\n",
      "['low', 'high', '5more', '2', 'big', 'low', 'unacc']\n",
      "['med', 'high', '5more', '2', 'med', 'med', 'unacc']\n",
      "['high', 'low', '3', '4', 'med', 'high', 'acc']\n",
      "['high', 'vhigh', '5more', '4', 'med', 'med', 'unacc']\n",
      "['low', 'low', '5more', '2', 'med', 'low', 'unacc']\n",
      "['vhigh', 'vhigh', '4', '2', 'big', 'high', 'unacc']\n",
      "['high', 'low', '3', '2', 'big', 'high', 'unacc']\n",
      "35\n"
     ]
    }
   ],
   "source": [
    "# Importing the module\n",
    "import csv\n",
    "i=0\n",
    "#Opening the file from my local HDD and giving it an alias\n",
    "with open('C:/Users/Morra/Downloads/cars-sample35.txt') as csvfile:\n",
    " readCSV = csv.reader(csvfile)\n",
    " for row in readCSV:\n",
    " # print each row as read by the csv.reader function\n",
    "     print(row)\n",
    "     i+=1\n",
    "    \n",
    "# how many rows are there ?\n",
    "print(i)"
   ]
  },
  {
   "cell_type": "markdown",
   "metadata": {},
   "source": [
    "Your first task is to read the file again and extract these seven attributes from each line of the file and create seven\n",
    "\n",
    "distinct lists comprised solely of the values you extracted for a given attribute. In other words, you should have lists of\n",
    "\n",
    "prices, maintenance costs, number of doors, etc. For example, the first five \"luggage\" values should be as follows:\n",
    "\n",
    "['med', 'small', 'big', 'big', 'med']\n",
    "\n",
    "One way to complete this task would be to use the code snippet from above as a starting point: you could replace the\n",
    "\n",
    "“print(row)” statement with whatever Python code you feel is necessary to create the seven required lists."
   ]
  },
  {
   "cell_type": "code",
   "execution_count": 95,
   "metadata": {},
   "outputs": [],
   "source": [
    "'''\n",
    "List naming convetion here is the first letter is capital\n",
    "'''\n",
    "#0 Price of the vehical\n",
    "Price = []\n",
    "\n",
    "#1 Maintenance Cost\n",
    "Mcost= []\n",
    "\n",
    "#2 Number of Doors\n",
    "Ndoors = []\n",
    "\n",
    "#3 Number of Passengers\n",
    "Npass= []\n",
    "\n",
    "#4 Luggage Capacity\n",
    "Lcap= []\n",
    "\n",
    "#5 Safety Rating\n",
    "\n",
    "Srate= []\n",
    "\n",
    "#6Vehical type\n",
    "Vtype= []\n",
    "\n",
    "#Opening the file from my local HDD and giving it an alias\n",
    "with open('C:/Users/Morra/Downloads/cars-sample35.txt') as csvfile:\n",
    " # reading the entire file\n",
    " readCSV = csv.reader(csvfile)\n",
    "# looping the reader\n",
    " for row in readCSV:\n",
    "    #looping through every attribute within\n",
    "    for att in row:\n",
    "        #price\n",
    "        if(row.index(att)==0):\n",
    "            Price.append(att)\n",
    "        #cost\n",
    "        elif(row.index(att)==1):\n",
    "            Mcost.append(att)\n",
    "        #number of doors\n",
    "        elif(row.index(att)==2):\n",
    "            Ndoors.append(att)\n",
    "        #Number of passengers\n",
    "        elif(row.index(att)==3):\n",
    "            Npass.append(att)\n",
    "        #Lugguage capacity\n",
    "        elif(row.index(att)==4):\n",
    "            Lcap.append(att)\n",
    "        #safety rate\n",
    "        elif(row.index(att)==5):\n",
    "            Srate.append(att)\n",
    "        # Vehical type\n",
    "        elif(row.index(att)==6):\n",
    "            Vtype.append(att)\n",
    "\n",
    "\n",
    "    \n",
    "    \n",
    "    \n",
    "    "
   ]
  },
  {
   "cell_type": "code",
   "execution_count": 96,
   "metadata": {},
   "outputs": [
    {
     "data": {
      "text/plain": [
       "['med', 'small', 'big', 'big', 'med']"
      ]
     },
     "execution_count": 96,
     "metadata": {},
     "output_type": "execute_result"
    }
   ],
   "source": [
    "# first Five should be ['med', 'small', 'big', 'big', 'med']\n",
    "Lcap[0:5]\n"
   ]
  },
  {
   "cell_type": "markdown",
   "metadata": {},
   "source": [
    "Conclusion algorithm was a success Big O of N**2, Ouptut matches the predicted/required result\n",
    "### refrences : https://www.programiz.com/python-programming/methods/list/index\n",
    "# End of Task 1"
   ]
  },
  {
   "cell_type": "markdown",
   "metadata": {},
   "source": [
    "# Task 2 start\n",
    "\n",
    "Your second task is to find the list index values of each automobile having a price rating of \"med\". \n",
    "\n",
    "Create a new list with your result. \n",
    "\n",
    "HINT: you can accomplish this task by searching the list of price values you created earlier. \n",
    "\n",
    "Be sure to print\n",
    "your results"
   ]
  },
  {
   "cell_type": "code",
   "execution_count": 97,
   "metadata": {},
   "outputs": [
    {
     "data": {
      "text/plain": [
       "['__class__',\n",
       " '__delattr__',\n",
       " '__dir__',\n",
       " '__doc__',\n",
       " '__eq__',\n",
       " '__format__',\n",
       " '__ge__',\n",
       " '__getattribute__',\n",
       " '__gt__',\n",
       " '__hash__',\n",
       " '__init__',\n",
       " '__init_subclass__',\n",
       " '__iter__',\n",
       " '__le__',\n",
       " '__lt__',\n",
       " '__ne__',\n",
       " '__new__',\n",
       " '__next__',\n",
       " '__reduce__',\n",
       " '__reduce_ex__',\n",
       " '__repr__',\n",
       " '__setattr__',\n",
       " '__sizeof__',\n",
       " '__str__',\n",
       " '__subclasshook__',\n",
       " 'dialect',\n",
       " 'line_num']"
      ]
     },
     "execution_count": 97,
     "metadata": {},
     "output_type": "execute_result"
    }
   ],
   "source": [
    "dir(readCSV)"
   ]
  },
  {
   "cell_type": "code",
   "execution_count": 98,
   "metadata": {},
   "outputs": [],
   "source": [
    "'''pretty much the same as before only this time getting the medium price'''\n",
    "\n",
    "med_price_index = []\n",
    "with open('C:/Users/Morra/Downloads/cars-sample35.txt') as csvfile:\n",
    " # reading the entire file\n",
    " readCSV = csv.reader(csvfile)\n",
    " for i,row in enumerate(readCSV):\n",
    "    if(row[0]=='med'):\n",
    "        med_price_index.append(i)\n",
    "        \n",
    "            \n",
    "                \n",
    "                \n",
    "        \n",
    "    \n",
    "                \n"
   ]
  },
  {
   "cell_type": "code",
   "execution_count": 99,
   "metadata": {},
   "outputs": [
    {
     "name": "stdout",
     "output_type": "stream",
     "text": [
      "[6, 16, 20, 23, 26, 29]\n"
     ]
    }
   ],
   "source": [
    "print(med_price_index)"
   ]
  },
  {
   "cell_type": "markdown",
   "metadata": {},
   "source": [
    "I managed to reduce the Big O of this one by only applying One for Loop and using enumerate\n",
    "end of task 2\n"
   ]
  },
  {
   "cell_type": "markdown",
   "metadata": {},
   "source": [
    "# Start of Task 3\n",
    "Your third task is to find the \"number of passengers\" value for each auto having a \"price\" value of \"med\". Create a new\n",
    "list to store your findings and be sure to print your results"
   ]
  },
  {
   "cell_type": "code",
   "execution_count": 100,
   "metadata": {},
   "outputs": [],
   "source": [
    "# finding the number of passengers when price = med "
   ]
  },
  {
   "cell_type": "code",
   "execution_count": 101,
   "metadata": {},
   "outputs": [
    {
     "name": "stdout",
     "output_type": "stream",
     "text": [
      "6\n",
      "16\n",
      "20\n",
      "23\n",
      "26\n",
      "29\n"
     ]
    }
   ],
   "source": [
    "#List that has the number of passengers initialization\n",
    "num_pass_med_price = []\n",
    "#\n",
    "with open('C:/Users/Morra/Downloads/cars-sample35.txt') as csvfile:\n",
    " # reading the entire file\n",
    " readCSV = csv.reader(csvfile)\n",
    " for i,row in enumerate(readCSV):\n",
    "    #setting the condition to medium\n",
    "    if(row[0]=='med'):\n",
    "        #Appending the passenger number value to a list\n",
    "        num_pass_med_price.append(row[3])\n",
    "        # this print is just to check if we have the right indexes\n",
    "        print(i)"
   ]
  },
  {
   "cell_type": "code",
   "execution_count": 102,
   "metadata": {},
   "outputs": [
    {
     "name": "stdout",
     "output_type": "stream",
     "text": [
      "['more', '2', '2', '2', '4', '2']\n"
     ]
    }
   ],
   "source": [
    "print(num_pass_med_price)"
   ]
  },
  {
   "cell_type": "markdown",
   "metadata": {},
   "source": [
    "Works perfectly fine with a Big O of N\n",
    "End of task 3"
   ]
  },
  {
   "cell_type": "markdown",
   "metadata": {},
   "source": [
    "# Start of Task 4\n",
    "Your fourth task is to find the index value for each automobile \n",
    "having a price value of \"high\" & a maintenance value that is not \"low\". \n",
    "Create a new list to store your findings and be sure to print your results."
   ]
  },
  {
   "cell_type": "code",
   "execution_count": 103,
   "metadata": {},
   "outputs": [],
   "source": [
    "#List that has the number of passengers initialization\n",
    "hprice_vnl = []\n",
    "#\n",
    "with open('C:/Users/Morra/Downloads/cars-sample35.txt') as csvfile:\n",
    " # reading the entire file\n",
    " readCSV = csv.reader(csvfile)\n",
    " # looping through the reader\n",
    " for i,row in enumerate(readCSV):\n",
    "    #setting the condition to high and not low\n",
    "    if(row[0]=='high' and row[1] != 'low'):\n",
    "        #adding the index for every successful find\n",
    "        hprice_vnl.append(i)\n",
    "        \n",
    "        \n",
    "        \n",
    "        \n",
    "        \n",
    "        \n",
    "        \n",
    "        "
   ]
  },
  {
   "cell_type": "code",
   "execution_count": 104,
   "metadata": {},
   "outputs": [
    {
     "name": "stdout",
     "output_type": "stream",
     "text": [
      "[0, 1, 2, 27, 31]\n"
     ]
    }
   ],
   "source": [
    "# Answer\n",
    "print(hprice_vnl)"
   ]
  },
  {
   "cell_type": "markdown",
   "metadata": {},
   "source": [
    "End of 4th task\n"
   ]
  },
  {
   "cell_type": "markdown",
   "metadata": {},
   "source": [
    "# Start of Fifth Task\n",
    "## in Task 5 \n",
    "- you have to find the index value for each auto having 2 doors & a luggage value of \"big\". \n",
    "- Create a new list to store your findings and be sure to print your results"
   ]
  },
  {
   "cell_type": "code",
   "execution_count": 105,
   "metadata": {},
   "outputs": [],
   "source": [
    "#List that has the number of passengers initialization\n",
    "subset = []\n",
    "#Works fine\n",
    "with open('C:/Users/Morra/Downloads/cars-sample35.txt') as csvfile:\n",
    " # reading the entire file\n",
    " readCSV = csv.reader(csvfile)\n",
    " # looping through the reader\n",
    " for i,row in enumerate(readCSV):\n",
    "        #setting the condition to 2 luggage and big\n",
    "        if(row[2]=='2' and row[4] == 'big'):\n",
    "            #adding the index for every successful find\n",
    "            subset.append(i)\n",
    "        "
   ]
  },
  {
   "cell_type": "code",
   "execution_count": 106,
   "metadata": {},
   "outputs": [
    {
     "name": "stdout",
     "output_type": "stream",
     "text": [
      "[3, 12, 19, 23]\n"
     ]
    }
   ],
   "source": [
    "print(subset)"
   ]
  },
  {
   "cell_type": "markdown",
   "metadata": {},
   "source": [
    "End of Task 5"
   ]
  },
  {
   "cell_type": "markdown",
   "metadata": {},
   "source": [
    "# Start of Final Task\n",
    "\n",
    "Finally, create a new list containing the only the integer equivalents of the doors values. \n",
    "Keep in mind that the lists you have created thus far are composed solely of strings. \n",
    "\n",
    "If you find any values of '5more' in your list, convert them to a '5'.\n",
    "\n",
    "After converting the '5more' values to '5', convert all of the items in your list to their numeric equivalent \n",
    "\n",
    "and calculate the average number of doors across all 35 autos using whichever of Python's built in functions you require. \n",
    "\n",
    "Print your\n",
    "\n",
    "result."
   ]
  },
  {
   "cell_type": "code",
   "execution_count": 107,
   "metadata": {},
   "outputs": [
    {
     "name": "stdout",
     "output_type": "stream",
     "text": [
      "[2, 4, 4, 2, 3, 2, 4, 3, 2, 4, 2, 4, 2, 3, 5, 2, 2, 5, 3, 2, 4, 2, 5, 2, 4, 3, 3, 3, 5, 5, 3, 5, 5, 4, 3]\n"
     ]
    }
   ],
   "source": [
    "#List that has the number of passengers initialization\n",
    "casted = []\n",
    "#Works fine\n",
    "with open('C:/Users/Morra/Downloads/cars-sample35.txt') as csvfile:\n",
    " # reading the entire file\n",
    " readCSV = csv.reader(csvfile)\n",
    "    \n",
    " # looping through the reader\n",
    " for i,row in enumerate(readCSV):\n",
    "        #Replacing 5more\n",
    "        if ( row[2]=='5more'):\n",
    "            row[2]='5'\n",
    "        #adding all the door numbers into the list whether they are 5 or not\n",
    "        casted.append(row[2])\n",
    "# casting the values to integers using map for every indivisual value in the list and then materializing it using list()      \n",
    "casted =list(map(int,casted))\n",
    "# printing the list of all the number of doors as integers\n",
    "print(casted)"
   ]
  },
  {
   "cell_type": "code",
   "execution_count": 108,
   "metadata": {},
   "outputs": [
    {
     "name": "stdout",
     "output_type": "stream",
     "text": [
      "3.3142857142857145\n",
      "\n",
      " answer needs reformatting.... loading\n",
      "\n",
      "The average value for the number of doors is, 3.314286 ,doors\n"
     ]
    }
   ],
   "source": [
    "import statistics as stat\n",
    "print(stat.mean(casted))\n",
    "print(\"\\n answer needs reformatting.... loading\")\n",
    "#value for the casted printed out and re formatted\n",
    "print(\"\\nThe average value for the number of doors is, {0:2f} ,doors\".format(stat.mean(casted)))"
   ]
  },
  {
   "cell_type": "markdown",
   "metadata": {},
   "source": [
    "refrences: https://www.geeksforgeeks.org/python-map-function/\n",
    "           https://appdividend.com/2019/01/28/python-statistics-tutorial-mean-function-example/\n",
    "           https://www.geeksforgeeks.org/python-output-formatting/"
   ]
  },
  {
   "cell_type": "code",
   "execution_count": null,
   "metadata": {},
   "outputs": [],
   "source": []
  }
 ],
 "metadata": {
  "kernelspec": {
   "display_name": "Python 3",
   "language": "python",
   "name": "python3"
  },
  "language_info": {
   "codemirror_mode": {
    "name": "ipython",
    "version": 3
   },
   "file_extension": ".py",
   "mimetype": "text/x-python",
   "name": "python",
   "nbconvert_exporter": "python",
   "pygments_lexer": "ipython3",
   "version": "3.7.3"
  }
 },
 "nbformat": 4,
 "nbformat_minor": 2
}
