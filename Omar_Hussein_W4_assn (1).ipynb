{
 "cells": [
  {
   "cell_type": "markdown",
   "metadata": {},
   "source": [
    "# DAV 5400 Fall 2019 Week 4 Assignment (30 Points)\n",
    "\n",
    "Our Week 4 Assignment makes use of the functionality provided by Python’s NumPy package.\n",
    "--------------------------------------------------------------------------------------------------------------------------------\n",
    "\n",
    "#### 1. Write a Python/NumPy code block that finds the distinct/unique common items between these two arrays:\n",
    "a = np.array([1, 2, 3, 2, 3, 4, 3, 4, 5, 6])\n",
    "b = np.array([7, 2, 10, 2, 7, 4, 9, 4, 9, 8])\n",
    "Your output should contain only the distinct overlapping values.<br> For example, if a 2 is found in both array a and array b,\n",
    "your output should contain only one 2 even if array a contains more than one 2 within it."
   ]
  },
  {
   "cell_type": "code",
   "execution_count": 65,
   "metadata": {},
   "outputs": [
    {
     "data": {
      "text/plain": [
       "array([2, 4])"
      ]
     },
     "execution_count": 65,
     "metadata": {},
     "output_type": "execute_result"
    }
   ],
   "source": [
    "# you can solve this question in three ways , \n",
    "#1. you can cast it into sets then use intersect\n",
    "#2.you can use from functools import reduce and use reduce()\n",
    "#3.or you can simpy use this method where it finds the intersected values between two 1D Numpy array values\n",
    "import numpy as np\n",
    "a = np.array([1, 2, 3, 2, 3, 4, 3, 4, 5, 6])\n",
    "b = np.array([7, 2, 10, 2, 7, 4, 9, 4, 9, 8])\n",
    "\n",
    "np.intersect1d(a, b)"
   ]
  },
  {
   "cell_type": "markdown",
   "metadata": {},
   "source": [
    "# 2. Create the following 5x3 array using knowledge you have of Python’s / NumPy’s sequencing functionality so that you do not need to explicitly key in every integer value.\n",
    "1 6 11\n",
    "2 7 12\n",
    "3 8 13\n",
    "4 9 14\n",
    "5 10 15 (5x3 array table) "
   ]
  },
  {
   "cell_type": "code",
   "execution_count": 66,
   "metadata": {},
   "outputs": [
    {
     "data": {
      "text/plain": [
       "array([[ 1,  6, 11],\n",
       "       [ 2,  7, 12],\n",
       "       [ 3,  8, 13],\n",
       "       [ 4,  9, 14],\n",
       "       [ 5, 10, 15]])"
      ]
     },
     "execution_count": 66,
     "metadata": {},
     "output_type": "execute_result"
    }
   ],
   "source": [
    "# numpy.arange(start, stop, step, dtype)\n",
    "# reshape used to reshape it\n",
    "# create values from 1 to 15 and reshape it into 3by5 then transpose it into 3by5\n",
    "fivebythree = np.arange(1,16,1).reshape(3,5).T\n",
    "fivebythree"
   ]
  },
  {
   "cell_type": "markdown",
   "metadata": {},
   "source": [
    "--------------------------------------------------------------------------------------------------------------------------------\n",
    "# 3. You are given the following two arrays:\n",
    "a = np.array([12, 5, 7, 15, 3, 1, 8])\n",
    "b = np.array([14, 6, 3, 11, 19, 12, 5])\n",
    "Write a Python/Numpy code block that removes from array a any items that are also present in array b."
   ]
  },
  {
   "cell_type": "code",
   "execution_count": 67,
   "metadata": {},
   "outputs": [
    {
     "name": "stdout",
     "output_type": "stream",
     "text": [
      "Sorted and doesnot allow duplicates :  [ 1  7  8 15]\n",
      "\n",
      "\n",
      "There is also the unsorted version of it that allows duplicates :  [ 7 15  1  8] \n",
      " which of course you can always sort() it if you only want the duplicates\n",
      "\n",
      "\n"
     ]
    }
   ],
   "source": [
    "# this can be done in many ways\n",
    "a = np.array([12, 5, 7, 15, 3, 1, 8])\n",
    "b = np.array([14, 6, 3, 11, 19, 12, 5])\n",
    "\n",
    "# way number 1 but this does not allow duplicates\n",
    "print(\"Sorted and doesnot allow duplicates : \",np.array(np.setdiff1d(a, b)))\n",
    "\n",
    "# way number 2 only problem with this is that it is not sorted but on the upside if you want duplicates it allows duplicates\n",
    "cond = np.isin(a,b)\n",
    "# in numpy ~ is not instead of !\n",
    "find = a[~cond]\n",
    "print('\\n')\n",
    "print(\"There is also the unsorted version of it that allows duplicates : \",find,'\\n which of course you can always sort() it if you only want the duplicates')\n",
    "print('\\n')"
   ]
  },
  {
   "cell_type": "markdown",
   "metadata": {},
   "source": [
    "4. Suppose you have ridden a bicycle from New York City to Key West, Florida. Your bicycle odometer shows the total\n",
    "miles you have travelled thus far, which you make a note of each day with paper and pencil. Your first two entries might\n",
    "be ‘55’ and ‘120’, indicating that you rode your bike 55 miles on day 1 and 65 miles on day 2. Your task is to create a\n",
    "NumPy array wherein you can record the cumulative miles you recorded each day during your trip. Then use your\n",
    "Python skills to show the total miles that you rode each day. Assume the trip took a total of 35 days and included at\n",
    "least 4 non-consecutive days where no cycling was possible due to either weather conditions or personal\n",
    "fatigue/soreness. For the remaining 31 days, you would have covered the entire distance between NYC and Key West.\n",
    "Complete your work within your Jupyter Notebook for this assignment and be sure to include a writeup explaining your\n",
    "approach to this problem, including the ways in which you decided to make use of NumPy."
   ]
  },
  {
   "cell_type": "code",
   "execution_count": 68,
   "metadata": {},
   "outputs": [],
   "source": [
    "# this is how you get the cumalative sum for every day including the plateaus and only get the final sum\n",
    "def total_view(arr_np):\n",
    "    '''\n",
    "    arr_np: NumPy array that has the accumatltive \n",
    "    output: has the total traversed distance\n",
    "    '''\n",
    "    # getting the accumalative sum\n",
    "    tot=np.cumsum(arr_np)\n",
    "    #print the entire time series\n",
    "    print(\"This is the accumalative sum everyday in the 35 days\")\n",
    "    print(tot)\n",
    "    # getting the last index\n",
    "    print(\"\\n Total traversed distance in miles stored:\", tot[-1] )\n",
    "    return  tot[-1]"
   ]
  },
  {
   "cell_type": "code",
   "execution_count": 69,
   "metadata": {},
   "outputs": [
    {
     "name": "stdout",
     "output_type": "stream",
     "text": [
      "[47 54 45 48 54 46 51 44 55 41 49 51 58 44 45 54 37 43 63 49 56 56 38 59\n",
      " 53 48 47 51 52 58 51]\n",
      "Their sum is = 1547\n"
     ]
    }
   ],
   "source": [
    "# Getting the  distance over the course of 31 traveling days first \n",
    "import numpy as np\n",
    "# the Distance between new york city to key west florida by bicycle\n",
    "_sum = 1547\n",
    "# The number of tr\n",
    "n = 31\n",
    "rnd_array = np.random.multinomial(_sum, np.ones(n)/n, size=1)[0]\n",
    "# Showing the distance traversed everyday of the 31 days\n",
    "print(rnd_array)\n",
    "# Testing if the random numbers we obtained were correct and add up to total distance\n",
    "print(\"Their sum is =\",sum(rnd_array))"
   ]
  },
  {
   "cell_type": "code",
   "execution_count": 35,
   "metadata": {},
   "outputs": [
    {
     "name": "stdout",
     "output_type": "stream",
     "text": [
      "[53 53 47 49  0 50 56 49 46 51 49 53 51 46 52  0 62 51 40 45 51 53  0 49\n",
      "  0 52 39 51 42 54 54 56 41 49 53]\n",
      "Their sum is = 1547\n"
     ]
    }
   ],
   "source": [
    "# Here are four inserts, i know i could do it in a loop but its only 4 inserts so no need in creating something that is O(Nlogn)\n",
    "a = np.asarray(rnd_array)\n",
    "a=np.insert(a, 4, 0)#1\n",
    "a=np.insert(a, 15, 0)#2\n",
    "a=np.insert(a, 22, 0)#3\n",
    "a=np.insert(a, 24, 0)#O(log N)\n",
    "#view the points\n",
    "a = np.array(a)\n",
    "print(a)\n",
    "\n",
    "# Testing if the random numbers we obtained were correct and add up to total distance\n",
    "print(\"Their sum is =\",sum(a))"
   ]
  },
  {
   "cell_type": "markdown",
   "metadata": {},
   "source": [
    "\n",
    "\n",
    "\n"
   ]
  },
  {
   "cell_type": "code",
   "execution_count": 36,
   "metadata": {},
   "outputs": [
    {
     "name": "stdout",
     "output_type": "stream",
     "text": [
      "This is the accumalative sum everyday in the 35 days\n",
      "[  53  106  153  202  202  252  308  357  403  454  503  556  607  653\n",
      "  705  705  767  818  858  903  954 1007 1007 1056 1056 1108 1147 1198\n",
      " 1240 1294 1348 1404 1445 1494 1547]\n",
      "\n",
      " Total traversed distance in miles stored: 1547\n"
     ]
    },
    {
     "data": {
      "text/plain": [
       "1547"
      ]
     },
     "execution_count": 36,
     "metadata": {},
     "output_type": "execute_result"
    }
   ],
   "source": [
    "#This is the accumalative value in the last 35 days along side with the total traversed distance\n",
    "total_view(a)"
   ]
  },
  {
   "cell_type": "markdown",
   "metadata": {},
   "source": [
    "5. Open the Jupyter Notebook provided to you with this assignment. The first code block within that file will load a\n",
    "small data set from a GitHub repository into a NumPy 2D array. The original source of that data contains an overview of\n",
    "its contents: "
   ]
  },
  {
   "cell_type": "markdown",
   "metadata": {},
   "source": [
    "https://data.cityofnewyork.us/Environment/Water-Consumption-In-The-New-York-City/ia2d-e54m\n",
    "Scroll down to the bottom of that page to access an interactive data viewer that includes the column headings for the\n",
    "data.\n",
    "Using the NumPy array that has been loaded for you in the Jupyter Notebook, answer the following questions using\n",
    "NumPy’s slicing, methods, and functions:\n",
    " What is the maximum yearly NYC consumption of water in millions of gallons per day?\n",
    " How many calendar years are represented within this data set? NumPy's shape command is one way to find\n",
    "out.\n",
    " What is the mean and the standard deviation of the per capita daily water consumption?\n",
    " What is the increase or decrease in population from year to year? Use NumPy's `diff` function to create an array\n",
    "of differences and save that to a variable called \"pop_diff\", then print that variable to the screen.\n",
    "Please note that it may take a bit of time for Jupyter to load the data set from the GitHub repository. You will know that\n",
    "process has finished once the results of the ‘type(nyc_water)’ command get displayed within your copy of the\n",
    "notebook.\n",
    "------------------------------------------------------------------------------------------------------------------------------------------\n",
    "Be sure to include some commentary explaining your approach to solving each of the individual problems. Save all of\n",
    "your work for this assignment within a single Jupyter Notebook and upload it to your online DAV5400 GitHub directory.\n",
    "Be sure to save your Notebook using the nomenclature we‘ve been using, i.e., first initial_last name_W4_assn\"\n",
    "(e.g., J_Smith_W4_assn_).\n"
   ]
  },
  {
   "cell_type": "code",
   "execution_count": 38,
   "metadata": {},
   "outputs": [
    {
     "name": "stderr",
     "output_type": "stream",
     "text": [
      "C:\\Users\\Morra\\Anaconda3\\lib\\site-packages\\ipykernel_launcher.py:7: FutureWarning: Method .as_matrix will be removed in a future version. Use .values instead.\n",
      "  import sys\n"
     ]
    },
    {
     "data": {
      "text/plain": [
       "numpy.ndarray"
      ]
     },
     "execution_count": 38,
     "metadata": {},
     "output_type": "execute_result"
    }
   ],
   "source": [
    "import pandas\n",
    "import sys\n",
    "# supress scientific notation\n",
    "np.set_printoptions(suppress = True)\n",
    "\n",
    "# read the data file from GitHub and convert to a NumPy ndarray object\n",
    "nyc_water = pandas.read_csv('https://raw.githubusercontent.com/jtopor/DAV-5400/master/Week4/Water_Consumption_In_The_New_York_City.csv').as_matrix()\n",
    "\n",
    "# verify you have an ndarray object\n",
    "type(nyc_water)"
   ]
  },
  {
   "cell_type": "code",
   "execution_count": 39,
   "metadata": {},
   "outputs": [
    {
     "data": {
      "text/plain": [
       "array([[   1979. , 7102100. ,    1512. ,     213. ],\n",
       "       [   1980. , 7071639. ,    1506. ,     213. ],\n",
       "       [   1981. , 7089241. ,    1309. ,     185. ],\n",
       "       [   1982. , 7109105. ,    1382. ,     194. ],\n",
       "       [   1983. , 7181224. ,    1424. ,     198. ],\n",
       "       [   1984. , 7234514. ,    1465. ,     203. ],\n",
       "       [   1985. , 7274054. ,    1326. ,     182. ],\n",
       "       [   1986. , 7319246. ,    1351. ,     185. ],\n",
       "       [   1987. , 7342476. ,    1447. ,     197. ],\n",
       "       [   1988. , 7353719. ,    1484. ,     202. ],\n",
       "       [   1989. , 7344175. ,    1402. ,     191. ],\n",
       "       [   1990. , 7335650. ,    1424. ,     194. ],\n",
       "       [   1991. , 7374501. ,    1469. ,     199. ],\n",
       "       [   1992. , 7428944. ,    1369. ,     184. ],\n",
       "       [   1993. , 7506166. ,    1368.5,     182. ],\n",
       "       [   1994. , 7570458. ,    1357.7,     179. ],\n",
       "       [   1995. , 7633040. ,    1325.7,     174. ],\n",
       "       [   1996. , 7697812. ,    1297.9,     169. ],\n",
       "       [   1997. , 7773443. ,    1205.5,     155. ],\n",
       "       [   1998. , 7858259. ,    1219.5,     155. ],\n",
       "       [   1999. , 7947660. ,    1237.2,     156. ],\n",
       "       [   2000. , 8008278. ,    1240.4,     155. ],\n",
       "       [   2001. , 8024963.5,    1184. ,     148. ],\n",
       "       [   2002. , 8041649. ,    1135.6,     141. ],\n",
       "       [   2003. , 8058334.5,    1093.7,     136. ],\n",
       "       [   2004. , 8075020. ,    1099.5,     136. ],\n",
       "       [   2005. , 8091705.5,    1138. ,     141. ],\n",
       "       [   2006. , 8108391. ,    1069. ,     132. ],\n",
       "       [   2007. , 8125076.5,    1114. ,     137. ],\n",
       "       [   2008. , 8141762. ,    1098. ,     135. ],\n",
       "       [   2009. , 8158447.5,    1007.5,     123. ],\n",
       "       [   2010. , 8175133. ,    1039. ,     127. ],\n",
       "       [   2011. , 8284098. ,    1021. ,     123. ],\n",
       "       [   2012. , 8361179. ,    1009.1,     121. ],\n",
       "       [   2013. , 8422460. ,    1006.1,     119. ],\n",
       "       [   2014. , 8471990. ,     996. ,     118. ],\n",
       "       [   2015. , 8516502. ,    1009. ,     118. ],\n",
       "       [   2016. , 8537673. ,    1002. ,     117. ],\n",
       "       [   2017. , 8622698. ,     990.2,     115. ]])"
      ]
     },
     "execution_count": 39,
     "metadata": {},
     "output_type": "execute_result"
    }
   ],
   "source": [
    "nyc_water"
   ]
  },
  {
   "cell_type": "markdown",
   "metadata": {},
   "source": [
    "### Using the NumPy array that has been loaded for you in the Jupyter Notebook, answer the following questions using\n",
    "### NumPy’s slicing, methods, and functions:\n",
    "####  What is the maximum yearly NYC consumption of water in millions of gallons per day?\n",
    "####  How many calendar years are represented within this data set? NumPy's shape command is one way to find\n",
    "out.\n",
    "####  What is the mean and the standard deviation of the per capita daily water consumption?\n",
    "####  What is the increase or decrease in population from year to year? Use NumPy's `diff` function to create an array\n",
    "of differences and save that to a variable called \"pop_diff\", then print that variable to the screen.\n",
    "Please note that it may take a bit of time for Jupyter to load the data set from the GitHub repository. You will know that\n",
    "process has finished once the results of the ‘type(nyc_water)’ command get displayed within your copy of the\n",
    "\n",
    "-----------------------------------------------------------------------------------------------------------"
   ]
  },
  {
   "cell_type": "code",
   "execution_count": 44,
   "metadata": {},
   "outputs": [
    {
     "data": {
      "text/plain": [
       "1512.0"
      ]
     },
     "execution_count": 44,
     "metadata": {},
     "output_type": "execute_result"
    }
   ],
   "source": [
    "#What is the maximum yearly NYC consumption of water in millions of gallons per day?\n",
    "np.max(nyc_water[:,2])"
   ]
  },
  {
   "cell_type": "code",
   "execution_count": 54,
   "metadata": {},
   "outputs": [
    {
     "name": "stdout",
     "output_type": "stream",
     "text": [
      "39\n",
      "\n",
      "\n",
      "39\n",
      "\n",
      "\n"
     ]
    },
    {
     "data": {
      "text/plain": [
       "39"
      ]
     },
     "execution_count": 54,
     "metadata": {},
     "output_type": "execute_result"
    }
   ],
   "source": [
    "#How many calendar years are represented within this data set? NumPy's shape command is one way to find\n",
    "# way 1 \n",
    "print(nyc_water[:,0].shape[0])\n",
    "print('\\n')\n",
    "# way 2\n",
    "print(len(nyc_water[:,0]))\n",
    "print('\\n')\n",
    "# way 3\n",
    "len(set(nyc_water[:,0]))"
   ]
  },
  {
   "cell_type": "code",
   "execution_count": 60,
   "metadata": {},
   "outputs": [
    {
     "name": "stdout",
     "output_type": "stream",
     "text": [
      "The mean is : 160.30769230769232 \n",
      "The standard deviation is : 31.51894330370624\n"
     ]
    }
   ],
   "source": [
    "#What is the mean and the standard deviation of the per capita daily water consumption?\n",
    "mn = np.mean(nyc_water[:,3])\n",
    "dv = np.std(nyc_water[:,3])\n",
    "print('The mean is :',mn,'\\nThe standard deviation is :', dv)"
   ]
  },
  {
   "cell_type": "code",
   "execution_count": 64,
   "metadata": {},
   "outputs": [
    {
     "data": {
      "text/plain": [
       "array([-30461. ,  17602. ,  19864. ,  72119. ,  53290. ,  39540. ,\n",
       "        45192. ,  23230. ,  11243. ,  -9544. ,  -8525. ,  38851. ,\n",
       "        54443. ,  77222. ,  64292. ,  62582. ,  64772. ,  75631. ,\n",
       "        84816. ,  89401. ,  60618. ,  16685.5,  16685.5,  16685.5,\n",
       "        16685.5,  16685.5,  16685.5,  16685.5,  16685.5,  16685.5,\n",
       "        16685.5, 108965. ,  77081. ,  61281. ,  49530. ,  44512. ,\n",
       "        21171. ,  85025. ])"
      ]
     },
     "execution_count": 64,
     "metadata": {},
     "output_type": "execute_result"
    }
   ],
   "source": [
    "#  What is the increase or decrease in population from year to year? Use NumPy's diff function to create an array\n",
    "pop_diff = np.diff(nyc_water[:,1])\n",
    "pop_diff"
   ]
  },
  {
   "cell_type": "markdown",
   "metadata": {},
   "source": [
    "# Please dont mark me down i did everything\n",
    ":-D"
   ]
  },
  {
   "cell_type": "code",
   "execution_count": null,
   "metadata": {},
   "outputs": [],
   "source": []
  }
 ],
 "metadata": {
  "kernelspec": {
   "display_name": "Python 3",
   "language": "python",
   "name": "python3"
  },
  "language_info": {
   "codemirror_mode": {
    "name": "ipython",
    "version": 3
   },
   "file_extension": ".py",
   "mimetype": "text/x-python",
   "name": "python",
   "nbconvert_exporter": "python",
   "pygments_lexer": "ipython3",
   "version": "3.7.3"
  }
 },
 "nbformat": 4,
 "nbformat_minor": 2
}
