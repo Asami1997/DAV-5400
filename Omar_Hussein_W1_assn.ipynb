{
 "cells": [
  {
   "cell_type": "markdown",
   "metadata": {},
   "source": [
    "# Omar_Hussein_W1_assn\n",
    "## Name of Data Set : American Chess Is Great Again\n",
    "### link for the details about the Data Set https://fivethirtyeight.com/features/american-chess-is-great-again/\n",
    "#### This is the original website of the Data : https://github.com/fivethirtyeight/data/tree/master/chess-transfers"
   ]
  },
  {
   "cell_type": "markdown",
   "metadata": {},
   "source": [
    "---"
   ]
  },
  {
   "cell_type": "markdown",
   "metadata": {},
   "source": [
    ">Chess combines the beauty of mathematical structure with recreational delights of a competitive game - Martin Gardner"
   ]
  },
  {
   "cell_type": "markdown",
   "metadata": {},
   "source": [
    "---"
   ]
  },
  {
   "cell_type": "markdown",
   "metadata": {},
   "source": [
    "The data on my git hub : \n",
    "https://github.com/OMS1996/DAV-5400/blob/master/transfers.csv\n",
    "\n"
   ]
  },
  {
   "cell_type": "markdown",
   "metadata": {},
   "source": [
    "---"
   ]
  },
  {
   "cell_type": "markdown",
   "metadata": {},
   "source": [
    "There a few reasons i picked this chess data-set are:\n",
    "* I always used to view elite chess players as intellectuals and their is a certain admiration that comes with that.\n",
    "* It's properly tabulated which is easy to understand."
   ]
  },
  {
   "cell_type": "markdown",
   "metadata": {},
   "source": [
    "---"
   ]
  },
  {
   "cell_type": "markdown",
   "metadata": {},
   "source": [
    "What are the ***Specific Questions*** ?\n",
    "* I would love to know who were the best american chess players ?\n",
    "* who are the worst ?\n",
    "* why are they worst players the worst and vice versca ?\n",
    "* who are the most likely to improve ?\n",
    "* who is the most consistent ?\n",
    "* which gender is doing better ?\n",
    "* who is the best ?\n",
    "* wh"
   ]
  },
  {
   "cell_type": "markdown",
   "metadata": {},
   "source": [
    "---"
   ]
  },
  {
   "cell_type": "markdown",
   "metadata": {},
   "source": []
  },
  {
   "cell_type": "code",
   "execution_count": null,
   "metadata": {},
   "outputs": [],
   "source": []
  }
 ],
 "metadata": {
  "kernelspec": {
   "display_name": "Python 3",
   "language": "python",
   "name": "python3"
  },
  "language_info": {
   "codemirror_mode": {
    "name": "ipython",
    "version": 3
   },
   "file_extension": ".py",
   "mimetype": "text/x-python",
   "name": "python",
   "nbconvert_exporter": "python",
   "pygments_lexer": "ipython3",
   "version": "3.7.3"
  }
 },
 "nbformat": 4,
 "nbformat_minor": 2
}
